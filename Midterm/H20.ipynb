{
 "cells": [
  {
   "cell_type": "code",
   "execution_count": 1,
   "metadata": {},
   "outputs": [
    {
     "name": "stdout",
     "output_type": "stream",
     "text": [
      "Checking whether there is an H2O instance running at http://localhost:54321..... not found.\n",
      "Attempting to start a local H2O server...\n",
      "; Java HotSpot(TM) 64-Bit Server VM (build 25.144-b01, mixed mode)\n",
      "  Starting server from C:\\Users\\rishi\\Anaconda3\\lib\\site-packages\\h2o\\backend\\bin\\h2o.jar\n",
      "  Ice root: C:\\Users\\rishi\\AppData\\Local\\Temp\\tmpm4msef31\n",
      "  JVM stdout: C:\\Users\\rishi\\AppData\\Local\\Temp\\tmpm4msef31\\h2o_rishi_started_from_python.out\n",
      "  JVM stderr: C:\\Users\\rishi\\AppData\\Local\\Temp\\tmpm4msef31\\h2o_rishi_started_from_python.err\n",
      "  Server is running at http://127.0.0.1:54321\n",
      "Connecting to H2O server at http://127.0.0.1:54321... successful.\n"
     ]
    },
    {
     "data": {
      "text/html": [
       "<div style=\"overflow:auto\"><table style=\"width:50%\"><tr><td>H2O cluster uptime:</td>\n",
       "<td>02 secs</td></tr>\n",
       "<tr><td>H2O cluster timezone:</td>\n",
       "<td>America/New_York</td></tr>\n",
       "<tr><td>H2O data parsing timezone:</td>\n",
       "<td>UTC</td></tr>\n",
       "<tr><td>H2O cluster version:</td>\n",
       "<td>3.22.0.2</td></tr>\n",
       "<tr><td>H2O cluster version age:</td>\n",
       "<td>6 days </td></tr>\n",
       "<tr><td>H2O cluster name:</td>\n",
       "<td>H2O_from_python_rishi_5ujxu1</td></tr>\n",
       "<tr><td>H2O cluster total nodes:</td>\n",
       "<td>1</td></tr>\n",
       "<tr><td>H2O cluster free memory:</td>\n",
       "<td>3.528 Gb</td></tr>\n",
       "<tr><td>H2O cluster total cores:</td>\n",
       "<td>4</td></tr>\n",
       "<tr><td>H2O cluster allowed cores:</td>\n",
       "<td>4</td></tr>\n",
       "<tr><td>H2O cluster status:</td>\n",
       "<td>accepting new members, healthy</td></tr>\n",
       "<tr><td>H2O connection url:</td>\n",
       "<td>http://127.0.0.1:54321</td></tr>\n",
       "<tr><td>H2O connection proxy:</td>\n",
       "<td>None</td></tr>\n",
       "<tr><td>H2O internal security:</td>\n",
       "<td>False</td></tr>\n",
       "<tr><td>H2O API Extensions:</td>\n",
       "<td>Algos, AutoML, Core V3, Core V4</td></tr>\n",
       "<tr><td>Python version:</td>\n",
       "<td>3.7.0 final</td></tr></table></div>"
      ],
      "text/plain": [
       "--------------------------  -------------------------------\n",
       "H2O cluster uptime:         02 secs\n",
       "H2O cluster timezone:       America/New_York\n",
       "H2O data parsing timezone:  UTC\n",
       "H2O cluster version:        3.22.0.2\n",
       "H2O cluster version age:    6 days\n",
       "H2O cluster name:           H2O_from_python_rishi_5ujxu1\n",
       "H2O cluster total nodes:    1\n",
       "H2O cluster free memory:    3.528 Gb\n",
       "H2O cluster total cores:    4\n",
       "H2O cluster allowed cores:  4\n",
       "H2O cluster status:         accepting new members, healthy\n",
       "H2O connection url:         http://127.0.0.1:54321\n",
       "H2O connection proxy:\n",
       "H2O internal security:      False\n",
       "H2O API Extensions:         Algos, AutoML, Core V3, Core V4\n",
       "Python version:             3.7.0 final\n",
       "--------------------------  -------------------------------"
      ]
     },
     "metadata": {},
     "output_type": "display_data"
    }
   ],
   "source": [
    "import h2o\n",
    "from h2o.automl import H2OAutoML\n",
    "h2o.init()"
   ]
  },
  {
   "cell_type": "code",
   "execution_count": 41,
   "metadata": {},
   "outputs": [
    {
     "name": "stdout",
     "output_type": "stream",
     "text": [
      "Parse progress: |█████████████████████████████████████████████████████████| 100%\n"
     ]
    }
   ],
   "source": [
    "df = h2o.import_file('./train_Q12005.csv')"
   ]
  },
  {
   "cell_type": "code",
   "execution_count": 42,
   "metadata": {},
   "outputs": [
    {
     "name": "stdout",
     "output_type": "stream",
     "text": [
      "Rows:351634\n",
      "Cols:26\n",
      "\n",
      "\n"
     ]
    },
    {
     "data": {
      "text/html": [
       "<table>\n",
       "<thead>\n",
       "<tr><th>       </th><th>credit_score      </th><th>first_payment_date  </th><th>fthb_flag  </th><th>matr_date         </th><th>msa               </th><th>mortage_insurance_pct  </th><th>no_of_units        </th><th>occupancy_status  </th><th>cltv              </th><th>dti_ratio         </th><th>original_upb      </th><th>original_ltv      </th><th>original_int_rt   </th><th>channel  </th><th>ppm_flag  </th><th>product_type  </th><th>property_state  </th><th>prop_type  </th><th>zipcode          </th><th>loan_seq_number  </th><th>loan_purpose  </th><th>original_loan_term  </th><th>number_of_borrowers  </th><th>sellers_name  </th><th>servicer_name      </th><th>super_conforming_flag  </th></tr>\n",
       "</thead>\n",
       "<tbody>\n",
       "<tr><td>type   </td><td>int               </td><td>int                 </td><td>enum       </td><td>int               </td><td>int               </td><td>int                    </td><td>int                </td><td>enum              </td><td>int               </td><td>int               </td><td>int               </td><td>int               </td><td>real              </td><td>enum     </td><td>enum      </td><td>enum          </td><td>enum            </td><td>enum       </td><td>int              </td><td>string           </td><td>enum          </td><td>int                 </td><td>int                  </td><td>enum          </td><td>enum               </td><td>int                    </td></tr>\n",
       "<tr><td>mins   </td><td>300.0             </td><td>200001.0            </td><td>           </td><td>201002.0          </td><td>10180.0           </td><td>0.0                    </td><td>1.0                </td><td>                  </td><td>6.0               </td><td>1.0               </td><td>6000.0            </td><td>6.0               </td><td>3.5               </td><td>         </td><td>          </td><td>              </td><td>                </td><td>           </td><td>600.0            </td><td>NaN              </td><td>              </td><td>60.0                </td><td>1.0                  </td><td>              </td><td>                   </td><td>NaN                    </td></tr>\n",
       "<tr><td>mean   </td><td>728.15774356291   </td><td>200504.72467110673  </td><td>           </td><td>203110.87020026497</td><td>30555.53146320928 </td><td>3.552696838189709      </td><td>1.030398084371818  </td><td>                  </td><td>70.8401064743454  </td><td>65.16307581178175 </td><td>164853.93050728884</td><td>69.44912892382425 </td><td>5.6602882940785   </td><td>         </td><td>          </td><td>              </td><td>                </td><td>           </td><td>51173.17394321335</td><td>NaN              </td><td>              </td><td>312.87150559957286  </td><td>1.61449689165439     </td><td>              </td><td>                   </td><td>0.0                    </td></tr>\n",
       "<tr><td>maxs   </td><td>9999.0            </td><td>201509.0            </td><td>           </td><td>205109.0          </td><td>49740.0           </td><td>999.0                  </td><td>99.0               </td><td>                  </td><td>999.0             </td><td>999.0             </td><td>692000.0          </td><td>999.0             </td><td>10.35             </td><td>         </td><td>          </td><td>              </td><td>                </td><td>           </td><td>99900.0          </td><td>NaN              </td><td>              </td><td>557.0               </td><td>99.0                 </td><td>              </td><td>                   </td><td>NaN                    </td></tr>\n",
       "<tr><td>sigma  </td><td>234.93710185479145</td><td>10.618324353022441  </td><td>           </td><td>651.0857095038862 </td><td>11364.642833370082</td><td>16.490476286362334     </td><td>0.39454088326869285</td><td>                  </td><td>19.305194453176057</td><td>167.92081666623918</td><td>84994.41293247258 </td><td>18.676960063672727</td><td>0.3677625240051817</td><td>         </td><td>          </td><td>              </td><td>                </td><td>           </td><td>29216.54122279461</td><td>NaN              </td><td>              </td><td>78.10651558841352   </td><td>1.7993472288268795   </td><td>              </td><td>                   </td><td>-0.0                   </td></tr>\n",
       "<tr><td>zeros  </td><td>0                 </td><td>0                   </td><td>           </td><td>0                 </td><td>0                 </td><td>302104                 </td><td>0                  </td><td>                  </td><td>0                 </td><td>0                 </td><td>0                 </td><td>0                 </td><td>0                 </td><td>         </td><td>          </td><td>              </td><td>                </td><td>           </td><td>0                </td><td>0                </td><td>              </td><td>0                   </td><td>0                    </td><td>              </td><td>                   </td><td>0                      </td></tr>\n",
       "<tr><td>missing</td><td>0                 </td><td>0                   </td><td>0          </td><td>0                 </td><td>54684             </td><td>0                      </td><td>0                  </td><td>0                 </td><td>0                 </td><td>0                 </td><td>0                 </td><td>0                 </td><td>0                 </td><td>0        </td><td>328       </td><td>0             </td><td>0               </td><td>0          </td><td>2                </td><td>0                </td><td>0             </td><td>0                   </td><td>0                    </td><td>0             </td><td>0                  </td><td>351634                 </td></tr>\n",
       "<tr><td>0      </td><td>699.0             </td><td>200505.0            </td><td>N          </td><td>203504.0          </td><td>39300.0           </td><td>0.0                    </td><td>1.0                </td><td>P                 </td><td>56.0              </td><td>42.0              </td><td>190000.0          </td><td>56.0              </td><td>5.625             </td><td>R        </td><td>N         </td><td>FRM           </td><td>RI              </td><td>SF         </td><td>2800.0           </td><td>F105Q1000001     </td><td>C             </td><td>360.0               </td><td>2.0                  </td><td>Other sellers </td><td>USBANKNA           </td><td>nan                    </td></tr>\n",
       "<tr><td>1      </td><td>691.0             </td><td>200504.0            </td><td>N          </td><td>203503.0          </td><td>36420.0           </td><td>25.0                   </td><td>1.0                </td><td>P                 </td><td>90.0              </td><td>36.0              </td><td>90000.0           </td><td>90.0              </td><td>5.75              </td><td>R        </td><td>N         </td><td>FRM           </td><td>OK              </td><td>SF         </td><td>73000.0          </td><td>F105Q1000002     </td><td>N             </td><td>360.0               </td><td>1.0                  </td><td>Other sellers </td><td>Other servicers    </td><td>nan                    </td></tr>\n",
       "<tr><td>2      </td><td>713.0             </td><td>200503.0            </td><td>N          </td><td>203502.0          </td><td>28740.0           </td><td>0.0                    </td><td>1.0                </td><td>P                 </td><td>72.0              </td><td>45.0              </td><td>357000.0          </td><td>72.0              </td><td>6.0               </td><td>R        </td><td>N         </td><td>FRM           </td><td>NY              </td><td>SF         </td><td>12500.0          </td><td>F105Q1000003     </td><td>P             </td><td>360.0               </td><td>2.0                  </td><td>Other sellers </td><td>Other servicers    </td><td>nan                    </td></tr>\n",
       "<tr><td>3      </td><td>719.0             </td><td>200505.0            </td><td>N          </td><td>203504.0          </td><td>nan               </td><td>0.0                    </td><td>1.0                </td><td>S                 </td><td>85.0              </td><td>47.0              </td><td>195000.0          </td><td>68.0              </td><td>5.75              </td><td>R        </td><td>N         </td><td>FRM           </td><td>MO              </td><td>CO         </td><td>65000.0          </td><td>F105Q1000004     </td><td>P             </td><td>360.0               </td><td>2.0                  </td><td>Other sellers </td><td>USBANKNA           </td><td>nan                    </td></tr>\n",
       "<tr><td>4      </td><td>656.0             </td><td>200503.0            </td><td>N          </td><td>203502.0          </td><td>40340.0           </td><td>0.0                    </td><td>1.0                </td><td>P                 </td><td>68.0              </td><td>30.0              </td><td>253000.0          </td><td>68.0              </td><td>5.625             </td><td>R        </td><td>N         </td><td>FRM           </td><td>MN              </td><td>SF         </td><td>55900.0          </td><td>F105Q1000005     </td><td>C             </td><td>360.0               </td><td>2.0                  </td><td>Other sellers </td><td>Other servicers    </td><td>nan                    </td></tr>\n",
       "<tr><td>5      </td><td>641.0             </td><td>200504.0            </td><td>N          </td><td>203503.0          </td><td>19500.0           </td><td>30.0                   </td><td>1.0                </td><td>P                 </td><td>94.0              </td><td>41.0              </td><td>96000.0           </td><td>94.0              </td><td>6.25              </td><td>R        </td><td>N         </td><td>FRM           </td><td>IL              </td><td>SF         </td><td>62500.0          </td><td>F105Q1000006     </td><td>N             </td><td>360.0               </td><td>1.0                  </td><td>Other sellers </td><td>Other servicers    </td><td>nan                    </td></tr>\n",
       "<tr><td>6      </td><td>646.0             </td><td>200505.0            </td><td>N          </td><td>203504.0          </td><td>17140.0           </td><td>0.0                    </td><td>1.0                </td><td>P                 </td><td>77.0              </td><td>43.0              </td><td>274000.0          </td><td>77.0              </td><td>6.125             </td><td>R        </td><td>N         </td><td>FRM           </td><td>KY              </td><td>SF         </td><td>41000.0          </td><td>F105Q1000007     </td><td>N             </td><td>360.0               </td><td>2.0                  </td><td>Other sellers </td><td>Other servicers    </td><td>nan                    </td></tr>\n",
       "<tr><td>7      </td><td>586.0             </td><td>200503.0            </td><td>N          </td><td>203502.0          </td><td>28740.0           </td><td>0.0                    </td><td>1.0                </td><td>P                 </td><td>80.0              </td><td>34.0              </td><td>126000.0          </td><td>80.0              </td><td>6.125             </td><td>R        </td><td>N         </td><td>FRM           </td><td>NY              </td><td>PU         </td><td>12400.0          </td><td>F105Q1000008     </td><td>P             </td><td>360.0               </td><td>2.0                  </td><td>Other sellers </td><td>Other servicers    </td><td>nan                    </td></tr>\n",
       "<tr><td>8      </td><td>582.0             </td><td>200503.0            </td><td>N          </td><td>203502.0          </td><td>nan               </td><td>0.0                    </td><td>1.0                </td><td>P                 </td><td>80.0              </td><td>41.0              </td><td>88000.0           </td><td>80.0              </td><td>5.625             </td><td>R        </td><td>N         </td><td>FRM           </td><td>WA              </td><td>MH         </td><td>98900.0          </td><td>F105Q1000009     </td><td>P             </td><td>360.0               </td><td>2.0                  </td><td>Other sellers </td><td>Other servicers    </td><td>nan                    </td></tr>\n",
       "<tr><td>9      </td><td>720.0             </td><td>200503.0            </td><td>N          </td><td>203502.0          </td><td>36500.0           </td><td>30.0                   </td><td>1.0                </td><td>P                 </td><td>95.0              </td><td>32.0              </td><td>200000.0          </td><td>95.0              </td><td>5.5               </td><td>T        </td><td>N         </td><td>FRM           </td><td>WA              </td><td>CO         </td><td>98500.0          </td><td>F105Q1000010     </td><td>P             </td><td>360.0               </td><td>1.0                  </td><td>Other sellers </td><td>PNCMTGESERVICES,INC</td><td>nan                    </td></tr>\n",
       "</tbody>\n",
       "</table>"
      ]
     },
     "metadata": {},
     "output_type": "display_data"
    }
   ],
   "source": [
    "df.describe()"
   ]
  },
  {
   "cell_type": "code",
   "execution_count": 47,
   "metadata": {},
   "outputs": [],
   "source": [
    "y= 'original_int_rt'"
   ]
  },
  {
   "cell_type": "code",
   "execution_count": 44,
   "metadata": {},
   "outputs": [],
   "source": [
    "aml = H2OAutoML(max_runtime_secs = 6000, seed = 1)"
   ]
  },
  {
   "cell_type": "code",
   "execution_count": 45,
   "metadata": {},
   "outputs": [],
   "source": [
    "splits = df.split_frame(ratios = [0.8], seed = 1)\n",
    "train = splits[0]\n",
    "test = splits[1]"
   ]
  },
  {
   "cell_type": "code",
   "execution_count": 48,
   "metadata": {},
   "outputs": [
    {
     "name": "stdout",
     "output_type": "stream",
     "text": [
      "AutoML progress: |████████████████████████████████████████████████████████| 100%| 100%\n"
     ]
    }
   ],
   "source": [
    "aml.train(y = y, training_frame = train, leaderboard_frame =test )"
   ]
  },
  {
   "cell_type": "code",
   "execution_count": 49,
   "metadata": {},
   "outputs": [
    {
     "data": {
      "text/html": [
       "<table>\n",
       "<thead>\n",
       "<tr><th>model_id                                           </th><th style=\"text-align: right;\">  mean_residual_deviance</th><th style=\"text-align: right;\">    rmse</th><th style=\"text-align: right;\">      mse</th><th style=\"text-align: right;\">     mae</th><th style=\"text-align: right;\">    rmsle</th></tr>\n",
       "</thead>\n",
       "<tbody>\n",
       "<tr><td>StackedEnsemble_AllModels_AutoML_20181128_184249   </td><td style=\"text-align: right;\">               0.0589145</td><td style=\"text-align: right;\">0.242723</td><td style=\"text-align: right;\">0.0589145</td><td style=\"text-align: right;\">0.179068</td><td style=\"text-align: right;\">0.0362195</td></tr>\n",
       "<tr><td>StackedEnsemble_BestOfFamily_AutoML_20181128_184249</td><td style=\"text-align: right;\">               0.0594723</td><td style=\"text-align: right;\">0.243869</td><td style=\"text-align: right;\">0.0594723</td><td style=\"text-align: right;\">0.179735</td><td style=\"text-align: right;\">0.0363882</td></tr>\n",
       "<tr><td>GBM_4_AutoML_20181128_184249                       </td><td style=\"text-align: right;\">               0.0597037</td><td style=\"text-align: right;\">0.244343</td><td style=\"text-align: right;\">0.0597037</td><td style=\"text-align: right;\">0.180205</td><td style=\"text-align: right;\">0.0364556</td></tr>\n",
       "<tr><td>GBM_5_AutoML_20181128_184249                       </td><td style=\"text-align: right;\">               0.0598676</td><td style=\"text-align: right;\">0.244679</td><td style=\"text-align: right;\">0.0598676</td><td style=\"text-align: right;\">0.180461</td><td style=\"text-align: right;\">0.0365096</td></tr>\n",
       "<tr><td>GBM_3_AutoML_20181128_184249                       </td><td style=\"text-align: right;\">               0.0600509</td><td style=\"text-align: right;\">0.245053</td><td style=\"text-align: right;\">0.0600509</td><td style=\"text-align: right;\">0.180747</td><td style=\"text-align: right;\">0.0365571</td></tr>\n",
       "<tr><td>GBM_2_AutoML_20181128_184249                       </td><td style=\"text-align: right;\">               0.0602627</td><td style=\"text-align: right;\">0.245485</td><td style=\"text-align: right;\">0.0602627</td><td style=\"text-align: right;\">0.181252</td><td style=\"text-align: right;\">0.0366201</td></tr>\n",
       "<tr><td>GBM_grid_1_AutoML_20181128_184249_model_6          </td><td style=\"text-align: right;\">               0.0602709</td><td style=\"text-align: right;\">0.245501</td><td style=\"text-align: right;\">0.0602709</td><td style=\"text-align: right;\">0.181097</td><td style=\"text-align: right;\">0.0366342</td></tr>\n",
       "<tr><td>GBM_grid_1_AutoML_20181128_184249_model_5          </td><td style=\"text-align: right;\">               0.0602904</td><td style=\"text-align: right;\">0.245541</td><td style=\"text-align: right;\">0.0602904</td><td style=\"text-align: right;\">0.181585</td><td style=\"text-align: right;\">0.0366414</td></tr>\n",
       "<tr><td>GBM_1_AutoML_20181128_184249                       </td><td style=\"text-align: right;\">               0.060748 </td><td style=\"text-align: right;\">0.246471</td><td style=\"text-align: right;\">0.060748 </td><td style=\"text-align: right;\">0.182013</td><td style=\"text-align: right;\">0.0367763</td></tr>\n",
       "<tr><td>GBM_grid_1_AutoML_20181128_184249_model_1          </td><td style=\"text-align: right;\">               0.0619842</td><td style=\"text-align: right;\">0.248966</td><td style=\"text-align: right;\">0.0619842</td><td style=\"text-align: right;\">0.184051</td><td style=\"text-align: right;\">0.0371497</td></tr>\n",
       "</tbody>\n",
       "</table>"
      ]
     },
     "metadata": {},
     "output_type": "display_data"
    },
    {
     "data": {
      "text/plain": []
     },
     "execution_count": 49,
     "metadata": {},
     "output_type": "execute_result"
    }
   ],
   "source": [
    "aml.leaderboard"
   ]
  },
  {
   "cell_type": "code",
   "execution_count": 50,
   "metadata": {},
   "outputs": [
    {
     "name": "stdout",
     "output_type": "stream",
     "text": [
      "\n",
      "ModelMetricsRegressionGLM: stackedensemble\n",
      "** Reported on test data. **\n",
      "\n",
      "MSE: 0.05891454988282391\n",
      "RMSE: 0.2427231960131209\n",
      "MAE: 0.17906808363506316\n",
      "RMSLE: 0.036219535047174754\n",
      "R^2: 0.5603185758078277\n",
      "Mean Residual Deviance: 0.05891454988282391\n",
      "Null degrees of freedom: 70133\n",
      "Residual degrees of freedom: 70123\n",
      "Null deviance: 9398.106447521634\n",
      "Residual deviance: 4131.913041481972\n",
      "AIC: 459.5233347959999\n"
     ]
    },
    {
     "data": {
      "text/plain": []
     },
     "execution_count": 50,
     "metadata": {},
     "output_type": "execute_result"
    }
   ],
   "source": [
    "perf = aml.leader.model_performance(test)\n",
    "perf"
   ]
  },
  {
   "cell_type": "code",
   "execution_count": null,
   "metadata": {},
   "outputs": [],
   "source": []
  }
 ],
 "metadata": {
  "kernelspec": {
   "display_name": "Python 3",
   "language": "python",
   "name": "python3"
  },
  "language_info": {
   "codemirror_mode": {
    "name": "ipython",
    "version": 3
   },
   "file_extension": ".py",
   "mimetype": "text/x-python",
   "name": "python",
   "nbconvert_exporter": "python",
   "pygments_lexer": "ipython3",
   "version": "3.7.1"
  }
 },
 "nbformat": 4,
 "nbformat_minor": 2
}
