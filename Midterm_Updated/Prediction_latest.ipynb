{
 "cells": [
  {
   "cell_type": "code",
   "execution_count": 85,
   "metadata": {},
   "outputs": [],
   "source": [
    "import mechanicalsoup as ms\n",
    "import pandas as pd\n",
    "import numpy as np\n",
    "import requests\n",
    "import re\n",
    "import os\n",
    "import glob\n",
    "import csv\n",
    "import numpy as np\n",
    "import math\n",
    "from bs4 import BeautifulSoup\n",
    "import urllib.request as rq\n",
    "import urllib\n",
    "from zipfile import ZipFile\n",
    "from io import BytesIO\n",
    "import lxml\n",
    "from sklearn.linear_model import LinearRegression\n",
    "import math\n",
    "from sklearn.ensemble import RandomForestRegressor\n",
    "from sklearn.neural_network import MLPRegressor\n",
    "from sklearn.feature_selection import RFE"
   ]
  },
  {
   "cell_type": "markdown",
   "metadata": {},
   "source": [
    "## Function to download the data"
   ]
  },
  {
   "cell_type": "code",
   "execution_count": 14,
   "metadata": {},
   "outputs": [],
   "source": [
    "\n",
    "def downloadhistoricaldata(trainQ, testQ, tables,session, flag):\n",
    "    for link in tables:\n",
    "        if(trainQ in link['href'] or testQ in link['href']):\n",
    "            c = 'https://freddiemac.embs.com/FLoan/Data/' + link['href']\n",
    "            response = session.get(c)\n",
    "            z = ZipFile(BytesIO(response.content)) \n",
    "            z.extractall(os.getcwd())\n",
    "            flag = 1\n",
    "    return flag"
   ]
  },
  {
   "cell_type": "markdown",
   "metadata": {},
   "source": [
    "# Function to login into the website"
   ]
  },
  {
   "cell_type": "code",
   "execution_count": 13,
   "metadata": {},
   "outputs": [],
   "source": [
    "def login(login, password, trainQ, testQ):   \n",
    "    s = requests.Session()\n",
    "    url = \"https://freddiemac.embs.com/FLoan/secure/auth.php\"\n",
    "    url2 = \"https://freddiemac.embs.com/FLoan/Data/download.php\"\n",
    "    browser = ms.Browser(session = s)\n",
    "    print(\"Logging in....\")\n",
    "    login_page = browser.get(url)\n",
    "    login_form = login_page.soup.find(\"form\",{\"class\":\"form\"})\n",
    "    login_form.find(\"input\", {\"name\":\"username\"})[\"value\"] = login\n",
    "    login_form.find(\"input\", {\"name\":\"password\"})[\"value\"] = password\n",
    "    response = browser.submit(login_form, login_page.url)\n",
    "    login_page2 = browser.get(url2)\n",
    "    print(\"To the continue page...\")\n",
    "\n",
    "    next_form = login_page2.soup.find(\"form\",{\"class\":\"fmform\"})\n",
    "    a= next_form.find(\"input\",{\"name\": \"accept\"}).attrs\n",
    "    a['checked']=True\n",
    "\n",
    "    response2 = browser.submit(next_form, login_page2.url)\n",
    "    print(\"Start Downloading from...\"+ response2.url)\n",
    "    table = response2.soup.find(\"table\",{\"class\":\"table1\"})\n",
    "    \n",
    "    t = table.find_all('a')\n",
    "    flag = 0\n",
    "    flag = downloadhistoricaldata(trainQ, testQ, t,s, flag) \n",
    "\n",
    "    if flag == 1:\n",
    "        print(\"Data downloaded successfully!!\")\n",
    "    else:\n",
    "        print(\"Error in downloading data\")\n"
   ]
  },
  {
   "cell_type": "code",
   "execution_count": 15,
   "metadata": {},
   "outputs": [
    {
     "name": "stdout",
     "output_type": "stream",
     "text": [
      "Logging in....\n",
      "To the continue page...\n",
      "Start Downloading from...https://freddiemac.embs.com/FLoan/Data/download.php\n",
      "Data downloaded successfully!!\n"
     ]
    }
   ],
   "source": [
    "login('rishi.r.rajani@gmail.com','jQcQFxI=','Q12005','Q22005')"
   ]
  },
  {
   "cell_type": "markdown",
   "metadata": {},
   "source": [
    "## Function to convert downloaded data into CSV"
   ]
  },
  {
   "cell_type": "code",
   "execution_count": 3,
   "metadata": {},
   "outputs": [],
   "source": [
    "def downloaddataincsv(trainQ, testQ):\n",
    "    trainfile = \"historical_data1_\"+ trainQ + \".txt\"\n",
    "    testfile = \"historical_data1_\"+ testQ + \".txt\"\n",
    "    f1 = \"train_\" + trainQ + \".csv\"\n",
    "    f2 = \"test_\" + testQ + \".csv\"\n",
    "    with open(f1, 'w',encoding='utf-8') as file: \n",
    "        df = pd.read_csv(trainfile ,delimiter =\"|\", names=['credit_score','first_payment_date','fthb_flag','matr_date','msa',\"mortage_insurance_pct\",'no_of_units','occupancy_status','cltv','dti_ratio','original_upb','original_ltv','original_int_rt','channel','ppm_flag','product_type','property_state', 'prop_type','zipcode','loan_seq_number','loan_purpose', 'original_loan_term','number_of_borrowers','sellers_name','servicer_name','super_conforming_flag'],skipinitialspace=True)   \n",
    "        df.to_csv(file, header=True,index=False, mode='a')\n",
    "        print(\"%s csv generated!\"%file )\n",
    "        \n",
    "    with open(f2, 'w',encoding='utf-8') as file: \n",
    "        df = pd.read_csv(testfile ,delimiter =\"|\", names=['credit_score','first_payment_date','fthb_flag','matr_date','msa',\"mortage_insurance_pct\",'no_of_units','occupancy_status','cltv','dti_ratio','original_upb','original_ltv','original_int_rt','channel','ppm_flag','product_type','property_state', 'prop_type','zipcode','loan_seq_number','loan_purpose', 'original_loan_term','number_of_borrowers','sellers_name','servicer_name','super_conforming_flag'],skipinitialspace=True)   \n",
    "        df.to_csv(file, header=True,index=False, mode='a')\n",
    "        print(\"%s csv generated!\"%file )"
   ]
  },
  {
   "cell_type": "markdown",
   "metadata": {},
   "source": [
    "## Retreiving Data from Downloaded "
   ]
  },
  {
   "cell_type": "code",
   "execution_count": 4,
   "metadata": {},
   "outputs": [],
   "source": [
    "def getTrainTest(trainQ, testQ):\n",
    "    f1 = \"train_\" + trainQ + \".csv\"\n",
    "    f2 = \"test_\" + testQ + \".csv\"\n",
    "    trf = pd.read_csv(f1)\n",
    "    tsf = pd.read_csv(f2)\n",
    "    return (trf, tsf)"
   ]
  },
  {
   "cell_type": "markdown",
   "metadata": {},
   "source": [
    "## Function to clean Data"
   ]
  },
  {
   "cell_type": "code",
   "execution_count": 6,
   "metadata": {},
   "outputs": [],
   "source": [
    "def cleaningdata(data):\n",
    "    #Dropping Credit scores above 850 and less than 301\n",
    "    data=data.drop(data['credit_score'].loc[(data['credit_score'] < 301) | (data['credit_score'] > 850)].index)\n",
    "    data=data.dropna(subset=['credit_score'])\n",
    "    data=data.dropna(subset=['first_payment_date'])\n",
    "    data['fthb_flag'] = data['fthb_flag'].fillna(\"NA\")\n",
    "    #Dropping not applicable MSA data\n",
    "    data=data.dropna(subset=['msa'])\n",
    "    data['mortage_insurance_pct'] = data['mortage_insurance_pct'].fillna(0)\n",
    "    data['no_of_units'] = data['no_of_units'].fillna(0)\n",
    "    data['cltv'] = data['cltv'].fillna(0)\n",
    "    data['dti_ratio'] = data['dti_ratio'].fillna(0)\n",
    "    data['original_ltv'] = data['original_ltv'].fillna(0)\n",
    "    data['ppm_flag'] = data['ppm_flag'].fillna(\"U\")\n",
    "    data['prop_type']=data['prop_type'].fillna('NA')\n",
    "    data['loan_purpose']=data['loan_purpose'].fillna('NA')\n",
    "    data = data.dropna(subset=['zipcode'])\n",
    "    data['number_of_borrowers'] = data['number_of_borrowers'].fillna(1)\n",
    "    data['super_conforming_flag'] = data['super_conforming_flag'].fillna(\"N\")\n",
    "    \n",
    "    return data"
   ]
  },
  {
   "cell_type": "markdown",
   "metadata": {},
   "source": [
    "## Function to convert Data into Numbers"
   ]
  },
  {
   "cell_type": "code",
   "execution_count": 7,
   "metadata": {},
   "outputs": [],
   "source": [
    "def convertnumbersdata(data):\n",
    "    data['fthb_flag'] = data['fthb_flag'].replace(['Y','N','NA'],[1,2,3])\n",
    "    data['occupancy_status'] = data['occupancy_status'].replace(['I','O','S','P'],[1,2,3,4])\n",
    "    data['channel'] = data['channel'].replace(['B','C','R','T'],[1,2,3,4])\n",
    "    data['ppm_flag'] = data['ppm_flag'].replace(['Y','N','U'],[1,2,3])\n",
    "    data['prop_type'] = data['prop_type'].replace(['CO','LH','PU','MH','SF','CP','99'],[1,2,3,4,5,6,7])\n",
    "    data['loan_purpose'] = data['loan_purpose'].replace(['P','C','N','NA'],[1,2,3,4])\n",
    "    data['super_conforming_flag'] = data['super_conforming_flag'].replace(['Y','N'],[0,1])\n",
    "    \n",
    "    return data"
   ]
  },
  {
   "cell_type": "markdown",
   "metadata": {},
   "source": [
    "## Function to Change data type to integer for linear regression "
   ]
  },
  {
   "cell_type": "code",
   "execution_count": 8,
   "metadata": {},
   "outputs": [],
   "source": [
    "def changedatatype(data):\n",
    "    data[['credit_score','msa','no_of_units','mortage_insurance_pct','cltv','dti_ratio','original_ltv','zipcode','number_of_borrowers']]=data[['credit_score','msa','no_of_units','cltv','mortage_insurance_pct','dti_ratio','original_ltv','zipcode','number_of_borrowers']].astype('int64')\n",
    "    data[['fthb_flag','occupancy_status','channel']] = data[['fthb_flag','occupancy_status','channel']].astype('int64')\n",
    "    data[['ppm_flag','prop_type','loan_purpose','super_conforming_flag']]= data[['ppm_flag','prop_type','loan_purpose','super_conforming_flag']].astype('int64')\n",
    "    data[['product_type','property_state']] = data[['product_type','property_state']].astype('str')\n",
    "    data[['loan_seq_number','sellers_name','servicer_name']] = data[['loan_seq_number','sellers_name','servicer_name']].astype('str')\n",
    "    return data"
   ]
  },
  {
   "cell_type": "code",
   "execution_count": null,
   "metadata": {},
   "outputs": [],
   "source": []
  },
  {
   "cell_type": "code",
   "execution_count": 28,
   "metadata": {},
   "outputs": [],
   "source": [
    "def mean_absolute_percentage_error(y_train,y_predicted): \n",
    "    y_train, y_predicted = np.array(y_train), np.array(y_predicted)\n",
    "    return np.mean(np.abs((y_train,y_predicted) / y_train)) * 100\n",
    "from sklearn.metrics import mean_absolute_error\n",
    "from sklearn.metrics import mean_squared_error\n",
    "from sklearn.metrics import r2_score\n",
    "import math "
   ]
  },
  {
   "cell_type": "code",
   "execution_count": 118,
   "metadata": {},
   "outputs": [],
   "source": [
    "def linearRegression(x1,y1,x2,y2):\n",
    "    regressor = LinearRegression()\n",
    "    regressor.fit(x1,y1)\n",
    "    y_pred_train = regressor.predict(x1)\n",
    "    y_pred_test = regressor.predict(x2)\n",
    "    \n",
    "    print('\\nTraining Data')\n",
    "    print('Score:',regressor.score(x1,y1))\n",
    "    MAE = mean_absolute_error(y1,y_pred_train)\n",
    "    print('MAE of Training Data =', MAE)\n",
    "    ## Mean squared error\n",
    "    MSE = mean_squared_error(y1,y_pred_train)\n",
    "    RMSE = math.sqrt(MSE)\n",
    "    print('RMSE of Training Data =',RMSE)\n",
    "    ## R-square score of this model\n",
    "    R2 = r2_score(y1,y_pred_train)\n",
    "    print('R2 of Training Data =',R2)\n",
    "    ## MAPE of this model\n",
    "    MAPE=mean_absolute_percentage_error(y1,y_pred_train)\n",
    "    print('MAPE of Training Data =',MAPE,'\\n')\n",
    "    \n",
    "    print('\\nTesting Data')\n",
    "    print('Score:',regressor.score(x2,y2))\n",
    "    MAE = mean_absolute_error(y2,y_pred_test)\n",
    "    print('MAE of Training Data =', MAE)\n",
    "    ## Mean squared error\n",
    "    MSE = mean_squared_error(y2,y_pred_test)\n",
    "    RMSE = math.sqrt(MSE)\n",
    "    print('RMSE of Training Data =',RMSE)\n",
    "    ## R-square score of this model\n",
    "    R2 = r2_score(y2,y_pred_test)\n",
    "    print('R2 of Training Data =',R2)\n",
    "    ## MAPE of this model\n",
    "    MAPE=mean_absolute_percentage_error(y2,y_pred_test)\n",
    "    print('MAPE of Training Data =',MAPE)\n",
    "    "
   ]
  },
  {
   "cell_type": "code",
   "execution_count": 163,
   "metadata": {},
   "outputs": [],
   "source": [
    "from sklearn.ensemble import RandomForestRegressor\n",
    "def RandomForestRegression(x1,y1,x2,y2):\n",
    "    rfc = RandomForestRegressor(n_estimators=50,random_state=np.random)\n",
    "    rfc.fit(x1,y1)\n",
    "    y_pred_train = rfc.predict(x1)\n",
    "    y_pred_test = rfc.predict(x2)\n",
    "    \n",
    "    print('\\nTraining Data')\n",
    "    print('\\nScore',rfc.score(x1,y1))\n",
    "    MAE = mean_absolute_error(y1,y_pred_train)\n",
    "    print('MAE of Training Data =', MAE)\n",
    "    ## Mean squared error\n",
    "    MSE = mean_squared_error(y1,y_pred_train)\n",
    "    RMSE = math.sqrt(MSE)\n",
    "    print('RMSE of Training Data =',RMSE)\n",
    "    ## R-square score of this model\n",
    "    R2 = r2_score(y1,y_pred_train)\n",
    "    print('R2 of Training Data =',R2)\n",
    "    ## MAPE of this model\n",
    "    MAPE=mean_absolute_percentage_error(y1,y_pred_train)\n",
    "    print('MAPE of Training Data =',MAPE)\n",
    "    \n",
    "    print('\\n Testing Data')\n",
    "    print('Score',rfc.score(x2,y2))\n",
    "    MAE = mean_absolute_error(y2,y_pred_test)\n",
    "    print('MAE of Training Data =', MAE)\n",
    "    ## Mean squared error\n",
    "    MSE = mean_squared_error(y2,y_pred_test)\n",
    "    RMSE = math.sqrt(MSE)\n",
    "    print('RMSE of Training Data =',RMSE)\n",
    "    ## R-square score of this model\n",
    "    R2 = r2_score(y2,y_pred_test)\n",
    "    print('R2 of Training Data =',R2)\n",
    "    ## MAPE of this model\n",
    "    MAPE=mean_absolute_percentage_error(y2,y_pred_test)\n",
    "    print('MAPE of Training Data =',MAPE)\n",
    "    "
   ]
  },
  {
   "cell_type": "code",
   "execution_count": 122,
   "metadata": {},
   "outputs": [],
   "source": [
    "def neuralnetworks(x1,y1,x2,y2):\n",
    "    neuralNetwork = MLPRegressor(hidden_layer_sizes=(15,15,15))\n",
    "    neuralNetwork.fit(x1,y1)\n",
    "    y_pred_train = neuralNetwork.predict(x1)\n",
    "    y_pred_test = neuralNetwork.predict(x2)\n",
    "    \n",
    "    print('\\nTraining Data')\n",
    "    print('Score',neuralNetwork.score(x1,y1))\n",
    "    MAE = mean_absolute_error(y1,y_pred_train)\n",
    "    print('MAE of Training Data =', MAE)\n",
    "    ## Mean squared error\n",
    "    MSE = mean_squared_error(y1,y_pred_train)\n",
    "    RMSE = math.sqrt(MSE)\n",
    "    print('RMSE of Training Data =',RMSE)\n",
    "    ## R-square score of this model\n",
    "    R2 = r2_score(y1,y_pred_train)\n",
    "    print('R2 of Training Data =',R2)\n",
    "    ## MAPE of this model\n",
    "    MAPE=mean_absolute_percentage_error(y1,y_pred_train)\n",
    "    print('MAPE of Training Data =',MAPE)\n",
    "    \n",
    "    print('\\nTesting Data')\n",
    "    print('Score: ',neuralNetwork.score(x2,y2))\n",
    "    MAE = mean_absolute_error(y2,y_pred_test)\n",
    "    print('MAE of Training Data =', MAE)\n",
    "    ## Mean squared error\n",
    "    MSE = mean_squared_error(y2,y_pred_test)\n",
    "    RMSE = math.sqrt(MSE)\n",
    "    print('RMSE of Training Data =',RMSE)\n",
    "    ## R-square score of this model\n",
    "    R2 = r2_score(y2,y_pred_test)\n",
    "    print('R2 of Training Data =',R2)\n",
    "    ## MAPE of this model\n",
    "    MAPE=mean_absolute_percentage_error(y2,y_pred_test)\n",
    "    print('MAPE of Training Data =',MAPE)"
   ]
  },
  {
   "cell_type": "code",
   "execution_count": 117,
   "metadata": {},
   "outputs": [
    {
     "name": "stdout",
     "output_type": "stream",
     "text": [
      "\n",
      "Training Data\n",
      "Score: 0.38545746359153465\n",
      "MAE of Training Data = 0.21086584631607977\n",
      "RMSE of Training Data = 0.28446190667399945\n",
      "R2 of Training Data = 0.38545746359153465\n",
      "MAPE of Training Data = 100.12502718722006 \n",
      "\n",
      "\n",
      "Testing Data\n",
      "Score: 0.15267794422249192\n",
      "MAE of Training Data = 0.24428970743232073\n",
      "RMSE of Training Data = 0.318664522425998\n",
      "R2 of Training Data = 0.15267794422249192\n",
      "MAPE of Training Data = 99.18266484244911\n"
     ]
    }
   ],
   "source": [
    "#login ('a','b','c','d')\n",
    "trainQ = 'Q12005'\n",
    "testQ = 'Q22005'\n",
    "#downloaddataincsv(trainQ,testQ)\n",
    "train_data,test_data = getTrainTest(trainQ,testQ)\n",
    "data_train = cleaningdata(train_data)\n",
    "data_test = cleaningdata(test_data)\n",
    "data_train = convertnumbersdata(data_train)\n",
    "data_test = convertnumbersdata(data_test)\n",
    "data_train = changedatatype(data_train)\n",
    "data_test = changedatatype(data_test)\n",
    "x1 = data_train.copy(deep=True)\n",
    "y1 = data_train.original_int_rt\n",
    "x1.drop(['loan_seq_number','property_state','sellers_name','servicer_name','super_conforming_flag' ,'product_type', 'original_int_rt','zipcode','msa'], axis =1, inplace = True)\n",
    "x2 =  data_test.copy(deep =True)\n",
    "y2 = data_test.original_int_rt\n",
    "x2.drop(['loan_seq_number','property_state','sellers_name','servicer_name','super_conforming_flag' ,'product_type', 'original_int_rt','zipcode','msa'], axis =1, inplace = True)\n",
    "linearRegression(x1,y1,x2,y2)"
   ]
  },
  {
   "cell_type": "code",
   "execution_count": 126,
   "metadata": {},
   "outputs": [
    {
     "name": "stdout",
     "output_type": "stream",
     "text": [
      "\n",
      "Training Data\n",
      "\n",
      "Score 0.9218957303180438\n",
      "MAE of Training Data = 0.07514743491903093\n",
      "RMSE of Training Data = 0.10141110859760777\n",
      "R2 of Training Data = 0.9218957303180438\n",
      "MAPE of Training Data = 100.04384400037725\n",
      "\n",
      " Testing Data\n",
      "Score 0.2081089446503399\n",
      "MAE of Training Data = 0.23777447041809666\n",
      "RMSE of Training Data = 0.30806487126844917\n",
      "R2 of Training Data = 0.2081089446503399\n",
      "MAPE of Training Data = 100.11708185075616\n"
     ]
    }
   ],
   "source": [
    "RandomForestRegression(x1,y1,x2,y2)"
   ]
  },
  {
   "cell_type": "code",
   "execution_count": 123,
   "metadata": {},
   "outputs": [
    {
     "name": "stdout",
     "output_type": "stream",
     "text": [
      "\n",
      "Training Data\n",
      "Score -2838.7491458511613\n",
      "MAE of Training Data = 18.75910829067956\n",
      "RMSE of Training Data = 19.33695698718669\n",
      "R2 of Training Data = -2838.7491458511613\n",
      "MAPE of Training Data = 166.50619658433507\n",
      "\n",
      "Testing Data\n",
      "Score:  -3184.5549780756583\n",
      "MAE of Training Data = 18.987486471990255\n",
      "RMSE of Training Data = 19.53898556491105\n",
      "R2 of Training Data = -3184.5549780756583\n",
      "MAPE of Training Data = 164.76354734501652\n"
     ]
    }
   ],
   "source": [
    "neuralnetworks(x1,y1,x2,y2)"
   ]
  },
  {
   "cell_type": "code",
   "execution_count": 81,
   "metadata": {},
   "outputs": [],
   "source": [
    "import statsmodels.api as sm\n",
    "def stepwise_selection(X1, y1, \n",
    "                       initial_list=[], \n",
    "                       threshold_in=0.01, \n",
    "                       threshold_out = 0.05, \n",
    "                       verbose=True):\n",
    "\n",
    "    included = list(initial_list)\n",
    "    while True:\n",
    "        changed=False\n",
    "        # forward step\n",
    "        excluded = list(set(X1.columns)-set(included))\n",
    "        new_pval = pd.Series(index=excluded)\n",
    "        for new_column in excluded:\n",
    "            model = sm.OLS(y1, sm.add_constant(pd.DataFrame(X1[included+[new_column]]))).fit()\n",
    "            new_pval[new_column] = model.pvalues[new_column]\n",
    "        best_pval = new_pval.min()\n",
    "        if best_pval < threshold_in:\n",
    "            best_feature = new_pval.argmin()\n",
    "            included.append(best_feature)\n",
    "            changed=True\n",
    "            if verbose:\n",
    "                print('Add  {:30} with p-value {:.6}'.format(best_feature, best_pval))\n",
    "\n",
    "        # backward step\n",
    "        model = sm.OLS(y1, sm.add_constant(pd.DataFrame(X1[included]))).fit()\n",
    "        # use all coefs except intercept\n",
    "        pvalues = model.pvalues.iloc[1:]\n",
    "        worst_pval = pvalues.max() # null if pvalues is empty\n",
    "        if worst_pval > threshold_out:\n",
    "            changed=True\n",
    "            worst_feature = pvalues.argmax()\n",
    "            included.remove(worst_feature)\n",
    "            if verbose:\n",
    "                print('Drop {:30} with p-value {:.6}'.format(worst_feature, worst_pval))\n",
    "        if not changed:\n",
    "            break\n",
    "    return included"
   ]
  },
  {
   "cell_type": "code",
   "execution_count": 100,
   "metadata": {},
   "outputs": [],
   "source": [
    "def perform_recursiveFE(xaxis,yaxis):\n",
    "    lr = LinearRegression()\n",
    "    selector = RFE(lr,10)\n",
    "    feat = selector.fit(xaxis, yaxis)\n",
    "    prediction=feat.predict(xaxis)\n",
    "    score=r2_score(yaxis,prediction)\n",
    "    print(\"RFE r2 score: \",score)\n",
    "    rankfeatures=pd.DataFrame(list(zip(xaxis.columns,sorted(feat.ranking_))),columns=[\"features\",\"ranking\"])\n",
    "    print(rankfeatures)\n",
    "    lis = rankfeatures.loc[rankfeatures['ranking'] == 1]\n",
    "    return lis['features'].values"
   ]
  },
  {
   "cell_type": "code",
   "execution_count": 151,
   "metadata": {},
   "outputs": [],
   "source": [
    "x1 = data_train.copy(deep = True)\n",
    "y1 = x1.original_int_rt\n",
    "x1 . drop(['loan_seq_number','product_type','property_state','sellers_name','servicer_name', 'original_int_rt',], axis =1 , inplace = True)"
   ]
  },
  {
   "cell_type": "code",
   "execution_count": 152,
   "metadata": {},
   "outputs": [
    {
     "name": "stderr",
     "output_type": "stream",
     "text": [
      "C:\\Users\\rishi\\Anaconda3\\lib\\site-packages\\ipykernel_launcher.py:30: FutureWarning: 'argmin' is deprecated, use 'idxmin' instead. The behavior of 'argmin'\n",
      "will be corrected to return the positional minimum in the future.\n",
      "Use 'series.values.argmin' to get the position of the minimum now.\n"
     ]
    },
    {
     "name": "stdout",
     "output_type": "stream",
     "text": [
      "Add  credit_score                   with p-value 0.0\n",
      "Add  original_ltv                   with p-value 0.0\n",
      "Add  original_upb                   with p-value 0.0\n",
      "Add  original_loan_term             with p-value 0.0\n",
      "Add  cltv                           with p-value 0.0\n",
      "Add  matr_date                      with p-value 0.0\n",
      "Add  super_conforming_flag          with p-value 0.0\n",
      "Add  loan_purpose                   with p-value 0.0\n",
      "Add  occupancy_status               with p-value 0.0\n",
      "Add  first_payment_date             with p-value 0.0\n",
      "Add  zipcode                        with p-value 2.99006e-114\n",
      "Add  prop_type                      with p-value 5.72251e-58\n",
      "Add  ppm_flag                       with p-value 2.52127e-56\n",
      "Add  channel                        with p-value 2.73204e-56\n",
      "Add  fthb_flag                      with p-value 2.96895e-65\n",
      "Add  mortage_insurance_pct          with p-value 3.2769e-40\n",
      "Add  number_of_borrowers            with p-value 1.58178e-14\n",
      "Add  no_of_units                    with p-value 1.13671e-06\n",
      "Add  msa                            with p-value 0.00701658\n",
      "['credit_score', 'original_ltv', 'original_upb', 'original_loan_term', 'cltv', 'matr_date', 'super_conforming_flag', 'loan_purpose', 'occupancy_status', 'first_payment_date', 'zipcode', 'prop_type', 'ppm_flag', 'channel', 'fthb_flag', 'mortage_insurance_pct', 'number_of_borrowers', 'no_of_units', 'msa']\n"
     ]
    }
   ],
   "source": [
    "result = stepwise_selection(x1,y1)\n",
    "print (result)"
   ]
  },
  {
   "cell_type": "code",
   "execution_count": 104,
   "metadata": {},
   "outputs": [
    {
     "name": "stdout",
     "output_type": "stream",
     "text": [
      "RFE r2 score:  0.33164643323586684\n",
      "                 features  ranking\n",
      "0            credit_score        1\n",
      "1      first_payment_date        1\n",
      "2               fthb_flag        1\n",
      "3               matr_date        1\n",
      "4                     msa        1\n",
      "5   mortage_insurance_pct        1\n",
      "6             no_of_units        1\n",
      "7        occupancy_status        1\n",
      "8                    cltv        1\n",
      "9               dti_ratio        1\n",
      "10           original_upb        2\n",
      "11           original_ltv        3\n",
      "12                channel        4\n",
      "13               ppm_flag        5\n",
      "14              prop_type        6\n",
      "15                zipcode        7\n",
      "16           loan_purpose        8\n",
      "17     original_loan_term        9\n",
      "18    number_of_borrowers       10\n",
      "19  super_conforming_flag       11\n",
      "['credit_score' 'first_payment_date' 'fthb_flag' 'matr_date' 'msa'\n",
      " 'mortage_insurance_pct' 'no_of_units' 'occupancy_status' 'cltv'\n",
      " 'dti_ratio']\n"
     ]
    }
   ],
   "source": [
    "lis = perform_recursiveFE(x1,y1)\n",
    "print(lis)"
   ]
  },
  {
   "cell_type": "code",
   "execution_count": 153,
   "metadata": {},
   "outputs": [],
   "source": [
    "stepwise_data_train= x1[result]\n",
    "rfe_data_train = x1[lis]"
   ]
  },
  {
   "cell_type": "code",
   "execution_count": 154,
   "metadata": {},
   "outputs": [],
   "source": [
    "x2 = data_test.copy(deep = True)\n",
    "y2 = x2.original_int_rt\n",
    "stepwise_data_est = x2[result]\n",
    "rfe_data = x2[lis]"
   ]
  },
  {
   "cell_type": "code",
   "execution_count": 134,
   "metadata": {},
   "outputs": [
    {
     "name": "stdout",
     "output_type": "stream",
     "text": [
      "\n",
      "Training Data\n",
      "Score: 0.38608112429318964\n",
      "MAE of Training Data = 0.21067809832173592\n",
      "RMSE of Training Data = 0.28431752875494376\n",
      "R2 of Training Data = 0.38608112429318964\n",
      "MAPE of Training Data = 100.12489128928084 \n",
      "\n",
      "\n",
      "Testing Data\n",
      "Score: 0.1539055593141737\n",
      "MAE of Training Data = 0.24399943675945607\n",
      "RMSE of Training Data = 0.31843359537152577\n",
      "R2 of Training Data = 0.1539055593141737\n",
      "MAPE of Training Data = 99.18236412891345\n"
     ]
    }
   ],
   "source": [
    "linearRegression(stepwise_data_train, y1, stepwise_data_est,y2)"
   ]
  },
  {
   "cell_type": "code",
   "execution_count": 135,
   "metadata": {},
   "outputs": [
    {
     "name": "stdout",
     "output_type": "stream",
     "text": [
      "\n",
      "Training Data\n",
      "Score: 0.3381300989541415\n",
      "MAE of Training Data = 0.22065949208642552\n",
      "RMSE of Training Data = 0.2952123067163569\n",
      "R2 of Training Data = 0.3381300989541415\n",
      "MAPE of Training Data = 100.13487432019272 \n",
      "\n",
      "\n",
      "Testing Data\n",
      "Score: 0.09773099128853391\n",
      "MAE of Training Data = 0.2530221212956229\n",
      "RMSE of Training Data = 0.3288345788661211\n",
      "R2 of Training Data = 0.09773099128853391\n",
      "MAPE of Training Data = 99.21690667658717\n"
     ]
    }
   ],
   "source": [
    "linearRegression(rfe_data_train, y1, rfe_data,y2)"
   ]
  },
  {
   "cell_type": "code",
   "execution_count": 136,
   "metadata": {},
   "outputs": [
    {
     "name": "stdout",
     "output_type": "stream",
     "text": [
      "\n",
      "Training Data\n",
      "\n",
      "Score 0.9259361351947022\n",
      "MAE of Training Data = 0.07271367267027849\n",
      "RMSE of Training Data = 0.09875323418340701\n",
      "R2 of Training Data = 0.9259361351947023\n",
      "MAPE of Training Data = 100.04543176365874\n",
      "\n",
      " Testing Data\n",
      "Score 0.24566681783679115\n",
      "MAE of Training Data = 0.23192393213864076\n",
      "RMSE of Training Data = 0.30067067027943206\n",
      "R2 of Training Data = 0.24566681783679112\n",
      "MAPE of Training Data = 100.00593074172043\n"
     ]
    }
   ],
   "source": [
    "RandomForestRegression(stepwise_data_train, y1, stepwise_data_est,y2)"
   ]
  },
  {
   "cell_type": "code",
   "execution_count": 137,
   "metadata": {},
   "outputs": [
    {
     "name": "stdout",
     "output_type": "stream",
     "text": [
      "\n",
      "Training Data\n",
      "\n",
      "Score 0.9119838188882907\n",
      "MAE of Training Data = 0.08021662153516103\n",
      "RMSE of Training Data = 0.10765380959915967\n",
      "R2 of Training Data = 0.9119838188882907\n",
      "MAPE of Training Data = 100.04738213954127\n",
      "\n",
      " Testing Data\n",
      "Score 0.1366798150214652\n",
      "MAE of Training Data = 0.24758598068188836\n",
      "RMSE of Training Data = 0.32165877763626355\n",
      "R2 of Training Data = 0.1366798150214652\n",
      "MAPE of Training Data = 100.47334383270277\n"
     ]
    }
   ],
   "source": [
    "RandomForestRegression(rfe_data_train, y1, rfe_data,y2)"
   ]
  },
  {
   "cell_type": "code",
   "execution_count": 138,
   "metadata": {},
   "outputs": [
    {
     "name": "stdout",
     "output_type": "stream",
     "text": [
      "\n",
      "Training Data\n",
      "Score -4186.644459268047\n",
      "MAE of Training Data = 17.690275176339362\n",
      "RMSE of Training Data = 23.481889680694145\n",
      "R2 of Training Data = -4186.644459268047\n",
      "MAPE of Training Data = 242.6104285171757\n",
      "\n",
      "Testing Data\n",
      "Score:  -4579.158159801051\n",
      "MAE of Training Data = 17.27361913223816\n",
      "RMSE of Training Data = 23.428781236102928\n",
      "R2 of Training Data = -4579.158159801051\n",
      "MAPE of Training Data = 234.50372083185127\n"
     ]
    }
   ],
   "source": [
    "neuralnetworks(stepwise_data_train, y1, stepwise_data_est,y2)"
   ]
  },
  {
   "cell_type": "code",
   "execution_count": 139,
   "metadata": {},
   "outputs": [
    {
     "name": "stdout",
     "output_type": "stream",
     "text": [
      "\n",
      "Training Data\n",
      "Score -1869.9927407588116\n",
      "MAE of Training Data = 15.044301628094503\n",
      "RMSE of Training Data = 15.69582665271754\n",
      "R2 of Training Data = -1869.9927407588116\n",
      "MAPE of Training Data = 132.55355503914325\n",
      "\n",
      "Testing Data\n",
      "Score:  -2203.6168073367485\n",
      "MAE of Training Data = 15.737134974816941\n",
      "RMSE of Training Data = 16.254589894638865\n",
      "R2 of Training Data = -2203.6168073367485\n",
      "MAPE of Training Data = 135.96503133998976\n"
     ]
    }
   ],
   "source": [
    "neuralnetworks(rfe_data_train, y1, rfe_data,y2)"
   ]
  },
  {
   "cell_type": "code",
   "execution_count": 148,
   "metadata": {},
   "outputs": [],
   "source": [
    "quat_train = ['Q12007', 'Q22007', 'Q32007', 'Q42007']\n",
    "quat_test = ['Q22007', 'Q32007', 'Q42007','Q12008']"
   ]
  },
  {
   "cell_type": "code",
   "execution_count": 165,
   "metadata": {},
   "outputs": [
    {
     "name": "stdout",
     "output_type": "stream",
     "text": [
      "<_io.TextIOWrapper name='train_Q12007.csv' mode='w' encoding='utf-8'> csv generated!\n",
      "<_io.TextIOWrapper name='test_Q22007.csv' mode='w' encoding='utf-8'> csv generated!\n",
      "\n",
      "Training Data\n",
      "\n",
      "Score 0.8984367291317561\n",
      "MAE of Training Data = 0.08441300252031134\n",
      "RMSE of Training Data = 0.11377538935850015\n",
      "R2 of Training Data = 0.8984367291317561\n",
      "MAPE of Training Data = 100.0459044181307\n",
      "\n",
      " Testing Data\n",
      "Score 0.2552613986875537\n",
      "MAE of Training Data = 0.25548289353121545\n",
      "RMSE of Training Data = 0.33663139535665854\n",
      "R2 of Training Data = 0.2552613986875537\n",
      "MAPE of Training Data = 99.94011028156315\n",
      "<_io.TextIOWrapper name='train_Q22007.csv' mode='w' encoding='utf-8'> csv generated!\n",
      "<_io.TextIOWrapper name='test_Q32007.csv' mode='w' encoding='utf-8'> csv generated!\n",
      "\n",
      "Training Data\n",
      "\n",
      "Score 0.9084616707062401\n",
      "MAE of Training Data = 0.08779762735934335\n",
      "RMSE of Training Data = 0.11801961014691317\n",
      "R2 of Training Data = 0.9084616707062401\n",
      "MAPE of Training Data = 100.04930003666144\n",
      "\n",
      " Testing Data\n",
      "Score 0.13049073694226432\n",
      "MAE of Training Data = 0.2787644429695751\n",
      "RMSE of Training Data = 0.3594020539171218\n",
      "R2 of Training Data = 0.13049073694226432\n",
      "MAPE of Training Data = 99.03444910456203\n",
      "<_io.TextIOWrapper name='train_Q32007.csv' mode='w' encoding='utf-8'> csv generated!\n",
      "<_io.TextIOWrapper name='test_Q42007.csv' mode='w' encoding='utf-8'> csv generated!\n",
      "\n",
      "Training Data\n",
      "\n",
      "Score 0.9056009936476493\n",
      "MAE of Training Data = 0.08773694559617011\n",
      "RMSE of Training Data = 0.11842057340723744\n",
      "R2 of Training Data = 0.9056009936476493\n",
      "MAPE of Training Data = 100.03666685773263\n",
      "\n",
      " Testing Data\n",
      "Score 0.27810636155326174\n",
      "MAE of Training Data = 0.29103647426356216\n",
      "RMSE of Training Data = 0.3777120575071245\n",
      "R2 of Training Data = 0.27810636155326174\n",
      "MAPE of Training Data = 100.96329470506342\n",
      "<_io.TextIOWrapper name='train_Q42007.csv' mode='w' encoding='utf-8'> csv generated!\n",
      "<_io.TextIOWrapper name='test_Q12008.csv' mode='w' encoding='utf-8'> csv generated!\n",
      "\n",
      "Training Data\n",
      "\n",
      "Score 0.9162927367620426\n",
      "MAE of Training Data = 0.09576430371327148\n",
      "RMSE of Training Data = 0.1286192026811368\n",
      "R2 of Training Data = 0.9162927367620426\n",
      "MAPE of Training Data = 100.05555967840824\n",
      "\n",
      " Testing Data\n",
      "Score 0.14485615922520045\n",
      "MAE of Training Data = 0.3821807568923227\n",
      "RMSE of Training Data = 0.4648849710267523\n",
      "R2 of Training Data = 0.14485615922520045\n",
      "MAPE of Training Data = 102.40836686848618\n"
     ]
    }
   ],
   "source": [
    "for i,j in zip(quat_train,quat_test):\n",
    "    downloaddataincsv(i,j)\n",
    "    train_data,test_data = getTrainTest(i,j)\n",
    "    data_train = cleaningdata(train_data)\n",
    "    data_test = cleaningdata(test_data)\n",
    "    data_train = convertnumbersdata(data_train)\n",
    "    data_test = convertnumbersdata(data_test)\n",
    "    data_train = changedatatype(data_train)\n",
    "    data_test = changedatatype(data_test)\n",
    "    random_data_train = data_train[result] \n",
    "    random_data_test = data_test[result]\n",
    "    y1 = data_train.original_int_rt\n",
    "    y2 = data_test.original_int_rt\n",
    "    RandomForestRegression(random_data_train,y1, random_data_test,y2)"
   ]
  },
  {
   "cell_type": "code",
   "execution_count": 164,
   "metadata": {},
   "outputs": [
    {
     "name": "stdout",
     "output_type": "stream",
     "text": [
      "<_io.TextIOWrapper name='train_Q12007.csv' mode='w' encoding='utf-8'> csv generated!\n",
      "<_io.TextIOWrapper name='test_Q22007.csv' mode='w' encoding='utf-8'> csv generated!\n",
      "\n",
      "Training Data\n",
      "\n",
      "Score 0.9159519878715316\n",
      "MAE of Training Data = 0.09595147966506558\n",
      "RMSE of Training Data = 0.1288807232335447\n",
      "R2 of Training Data = 0.9159519878715316\n",
      "MAPE of Training Data = 100.05532171799427\n",
      "\n",
      " Testing Data\n",
      "Score 0.14055029336881752\n",
      "MAE of Training Data = 0.38346335720753594\n",
      "RMSE of Training Data = 0.4660539081957259\n",
      "R2 of Training Data = 0.14055029336881752\n",
      "MAPE of Training Data = 102.42424866378211\n"
     ]
    }
   ],
   "source": [
    "downloaddataincsv('Q12007','Q22007')\n",
    "train_data,test_data = getTrainTest(i,j)\n",
    "data_train = cleaningdata(train_data)\n",
    "data_test = cleaningdata(test_data)\n",
    "data_train = convertnumbersdata(data_train)\n",
    "data_test = convertnumbersdata(data_test)\n",
    "data_train = changedatatype(data_train)\n",
    "data_test = changedatatype(data_test)\n",
    "random_data_train = data_train[result] \n",
    "random_data_test = data_test[result]\n",
    "y1 = data_train.original_int_rt\n",
    "y2 = data_test.original_int_rt\n",
    "RandomForestRegression(random_data_train,y1, random_data_test,y2)"
   ]
  },
  {
   "cell_type": "code",
   "execution_count": null,
   "metadata": {},
   "outputs": [],
   "source": []
  }
 ],
 "metadata": {
  "kernelspec": {
   "display_name": "Python 3",
   "language": "python",
   "name": "python3"
  },
  "language_info": {
   "codemirror_mode": {
    "name": "ipython",
    "version": 3
   },
   "file_extension": ".py",
   "mimetype": "text/x-python",
   "name": "python",
   "nbconvert_exporter": "python",
   "pygments_lexer": "ipython3",
   "version": "3.7.0"
  }
 },
 "nbformat": 4,
 "nbformat_minor": 2
}
