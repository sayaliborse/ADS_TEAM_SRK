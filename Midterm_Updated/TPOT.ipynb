{
 "cells": [
  {
   "cell_type": "code",
   "execution_count": 1,
   "metadata": {},
   "outputs": [],
   "source": [
    "import mechanicalsoup as ms\n",
    "import pandas as pd\n",
    "import numpy as np\n"
   ]
  },
  {
   "cell_type": "code",
   "execution_count": 2,
   "metadata": {},
   "outputs": [],
   "source": [
    "def cleaningdata(data):\n",
    "    #Dropping Credit scores above 850 and less than 301\n",
    "    data=data.drop(data['credit_score'].loc[(data['credit_score'] < 301) | (data['credit_score'] > 850)].index)\n",
    "    data=data.dropna(subset=['credit_score'])\n",
    "    data=data.dropna(subset=['first_payment_date'])\n",
    "    data['fthb_flag'] = data['fthb_flag'].fillna(\"NA\")\n",
    "    #Dropping not applicable MSA data\n",
    "    data=data.dropna(subset=['msa'])\n",
    "    data['mortage_insurance_pct'] = data['mortage_insurance_pct'].fillna(0)\n",
    "    data['no_of_units'] = data['no_of_units'].fillna(0)\n",
    "    data['cltv'] = data['cltv'].fillna(0)\n",
    "    data['dti_ratio'] = data['dti_ratio'].fillna(0)\n",
    "    data['original_ltv'] = data['original_ltv'].fillna(0)\n",
    "    data['ppm_flag'] = data['ppm_flag'].fillna(\"U\")\n",
    "    data['prop_type']=data['prop_type'].fillna('NA')\n",
    "    data['loan_purpose']=data['loan_purpose'].fillna('NA')\n",
    "    data = data.dropna(subset=['zipcode'])\n",
    "    data['number_of_borrowers'] = data['number_of_borrowers'].fillna(1)\n",
    "    data['super_conforming_flag'] = data['super_conforming_flag'].fillna(\"N\")\n",
    "    \n",
    "    return data"
   ]
  },
  {
   "cell_type": "code",
   "execution_count": 3,
   "metadata": {},
   "outputs": [],
   "source": [
    "def convertnumbersdata(data):\n",
    "    data['fthb_flag'] = data['fthb_flag'].replace(['Y','N','NA'],[1,2,3])\n",
    "    data['occupancy_status'] = data['occupancy_status'].replace(['I','O','S','P'],[1,2,3,4])\n",
    "    data['channel'] = data['channel'].replace(['B','C','R','T'],[1,2,3,4])\n",
    "    data['ppm_flag'] = data['ppm_flag'].replace(['Y','N','U'],[1,2,3])\n",
    "    data['prop_type'] = data['prop_type'].replace(['CO','LH','PU','MH','SF','CP','99'],[1,2,3,4,5,6,7])\n",
    "    data['loan_purpose'] = data['loan_purpose'].replace(['P','C','N','NA'],[1,2,3,4])\n",
    "    data['super_conforming_flag'] = data['super_conforming_flag'].replace(['Y','N'],[0,1])\n",
    "    \n",
    "    return data"
   ]
  },
  {
   "cell_type": "code",
   "execution_count": 4,
   "metadata": {},
   "outputs": [],
   "source": [
    "def changedatatype(data):\n",
    "    data[['credit_score','msa','no_of_units','mortage_insurance_pct','cltv','dti_ratio','original_ltv','zipcode','number_of_borrowers']]=data[['credit_score','msa','no_of_units','cltv','mortage_insurance_pct','dti_ratio','original_ltv','zipcode','number_of_borrowers']].astype('int64')\n",
    "    data[['fthb_flag','occupancy_status','channel']] = data[['fthb_flag','occupancy_status','channel']].astype('int64')\n",
    "    data[['ppm_flag','prop_type','loan_purpose','super_conforming_flag']]= data[['ppm_flag','prop_type','loan_purpose','super_conforming_flag']].astype('int64')\n",
    "    data[['product_type','property_state']] = data[['product_type','property_state']].astype('str')\n",
    "    data[['loan_seq_number','sellers_name','servicer_name']] = data[['loan_seq_number','sellers_name','servicer_name']].astype('str')\n",
    "    return data"
   ]
  },
  {
   "cell_type": "code",
   "execution_count": 5,
   "metadata": {},
   "outputs": [],
   "source": [
    "train_data = pd.read_csv('./train_Q12005.csv')\n",
    "test_data = pd.read_csv('./test_Q22005.csv')\n",
    "\n",
    "data_train = cleaningdata(train_data)\n",
    "data_test = cleaningdata(test_data)\n",
    "data_train = convertnumbersdata(data_train)\n",
    "data_test = convertnumbersdata(data_test)\n",
    "data_train = changedatatype(data_train)\n",
    "data_test = changedatatype(data_test)"
   ]
  },
  {
   "cell_type": "code",
   "execution_count": null,
   "metadata": {},
   "outputs": [],
   "source": []
  },
  {
   "cell_type": "code",
   "execution_count": null,
   "metadata": {},
   "outputs": [],
   "source": []
  },
  {
   "cell_type": "code",
   "execution_count": null,
   "metadata": {},
   "outputs": [],
   "source": []
  },
  {
   "cell_type": "code",
   "execution_count": 6,
   "metadata": {},
   "outputs": [
    {
     "name": "stderr",
     "output_type": "stream",
     "text": [
      "C:\\Users\\Komal\\Anaconda3\\lib\\site-packages\\deap\\tools\\_hypervolume\\pyhv.py:33: ImportWarning: Falling back to the python version of hypervolume module. Expect this to be very slow.\n",
      "  \"module. Expect this to be very slow.\", ImportWarning)\n",
      "C:\\Users\\Komal\\Anaconda3\\lib\\importlib\\_bootstrap.py:219: ImportWarning: can't resolve package from __spec__ or __package__, falling back on __name__ and __path__\n",
      "  return f(*args, **kwds)\n",
      "C:\\Users\\Komal\\Anaconda3\\lib\\importlib\\_bootstrap.py:219: ImportWarning: can't resolve package from __spec__ or __package__, falling back on __name__ and __path__\n",
      "  return f(*args, **kwds)\n"
     ]
    }
   ],
   "source": [
    "from tpot import TPOTRegressor"
   ]
  },
  {
   "cell_type": "code",
   "execution_count": 7,
   "metadata": {},
   "outputs": [],
   "source": [
    "y1 = data_train.original_int_rt"
   ]
  },
  {
   "cell_type": "code",
   "execution_count": 8,
   "metadata": {},
   "outputs": [],
   "source": [
    "x1 = data_train"
   ]
  },
  {
   "cell_type": "code",
   "execution_count": 9,
   "metadata": {},
   "outputs": [],
   "source": [
    "x1.drop(['loan_seq_number','property_state','sellers_name','servicer_name','super_conforming_flag' ,'product_type', 'original_int_rt','zipcode','msa'], axis =1, inplace = True)"
   ]
  },
  {
   "cell_type": "code",
   "execution_count": 10,
   "metadata": {},
   "outputs": [],
   "source": [
    "y2 = data_test.original_int_rt"
   ]
  },
  {
   "cell_type": "code",
   "execution_count": 11,
   "metadata": {},
   "outputs": [],
   "source": [
    "x2 = data_test"
   ]
  },
  {
   "cell_type": "code",
   "execution_count": 12,
   "metadata": {},
   "outputs": [],
   "source": [
    "x2.drop(['loan_seq_number','property_state','sellers_name','servicer_name','super_conforming_flag' ,'product_type', 'original_int_rt','zipcode','msa'], axis =1, inplace = True)"
   ]
  },
  {
   "cell_type": "code",
   "execution_count": null,
   "metadata": {},
   "outputs": [
    {
     "name": "stderr",
     "output_type": "stream",
     "text": [
      "C:\\Users\\Komal\\Anaconda3\\lib\\importlib\\_bootstrap.py:219: ImportWarning: can't resolve package from __spec__ or __package__, falling back on __name__ and __path__\n",
      "  return f(*args, **kwds)\n",
      "C:\\Users\\Komal\\Anaconda3\\lib\\site-packages\\sklearn\\ensemble\\weight_boosting.py:29: DeprecationWarning: numpy.core.umath_tests is an internal NumPy module and should not be imported. It will be removed in a future NumPy release.\n",
      "  from numpy.core.umath_tests import inner1d\n"
     ]
    },
    {
     "name": "stdout",
     "output_type": "stream",
     "text": [
      "Warning: xgboost.XGBRegressor is not available and will not be used by TPOT.\n"
     ]
    },
    {
     "data": {
      "application/vnd.jupyter.widget-view+json": {
       "model_id": "d53fab9670df4e43afa23ffb19172d88",
       "version_major": 2,
       "version_minor": 0
      },
      "text/plain": [
       "HBox(children=(IntProgress(value=0, description='Optimization Progress', max=300, style=ProgressStyle(descript…"
      ]
     },
     "metadata": {},
     "output_type": "display_data"
    },
    {
     "name": "stdout",
     "output_type": "stream",
     "text": [
      "Generation 1 - Current best internal CV score: -0.08029201091216487\n",
      "Generation 2 - Current best internal CV score: -0.07384083598147335\n"
     ]
    }
   ],
   "source": [
    "tpot = TPOTRegressor(generations=5, population_size=50, verbosity=2)\n",
    "tpot.fit(x1, y1)  \n",
    "print(tpot.score(x2, y2))\n"
   ]
  },
  {
   "cell_type": "code",
   "execution_count": null,
   "metadata": {},
   "outputs": [],
   "source": []
  }
 ],
 "metadata": {
  "kernelspec": {
   "display_name": "Python 3",
   "language": "python",
   "name": "python3"
  },
  "language_info": {
   "codemirror_mode": {
    "name": "ipython",
    "version": 3
   },
   "file_extension": ".py",
   "mimetype": "text/x-python",
   "name": "python",
   "nbconvert_exporter": "python",
   "pygments_lexer": "ipython3",
   "version": "3.7.1"
  }
 },
 "nbformat": 4,
 "nbformat_minor": 2
}
