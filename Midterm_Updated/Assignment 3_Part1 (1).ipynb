{
 "cells": [
  {
   "cell_type": "code",
   "execution_count": 1,
   "metadata": {},
   "outputs": [],
   "source": [
    "import os\n",
    "import sys\n",
    "import glob\n",
    "import shutil\n",
    "import urllib\n",
    "import zipfile\n",
    "import logging \n",
    "import tabulate\n",
    "import requests\n",
    "import webbrowser\n",
    "import pandas as pd\n",
    "import urllib.request\n",
    "import mechanicalsoup as ms\n",
    "from io import BytesIO\n",
    "from requests import get \n",
    "from pathlib import Path\n",
    "from zipfile import ZipFile\n",
    "from bs4 import BeautifulSoup\n",
    "import webbrowser"
   ]
  },
  {
   "cell_type": "code",
   "execution_count": 11,
   "metadata": {},
   "outputs": [],
   "source": [
    "def login(login, password):\n",
    "    url = \"https://freddiemac.embs.com/FLoan/secure/auth.php\"\n",
    "    url2 = \"https://freddiemac.embs.com/FLoan/Data/download.php\"\n",
    "\n",
    "    #webbrowser.open(url)\n",
    "    s = requests.Session()\n",
    "    print(s)\n",
    "\n",
    "    browser = ms.Browser(session = s)\n",
    "    print(\"Logging in ....\")\n",
    "\n",
    "    login_page = browser.get(url)\n",
    "    login_form = login_page.soup.find(\"form\", {\"class\":\"form\"})\n",
    "    login_form.find(\"input\" , {\"name\": \"username\"})[\"value\"] = login\n",
    "    login_form.find(\"input\" , {\"name\": \"password\"})[\"value\"] = password\n",
    "\n",
    "    response = browser.submit(login_form , login_page.url)\n",
    "    login_page2 = browser.get(url2)\n",
    "    print(\"To the continue page....\")\n",
    "    \n",
    "    next_form = login_page2.soup.find(\"form\" , {\"class\" : \"fmform\"})\n",
    "    a = next_form.find(\"input\" , {\"name\" : \"accept\"}).attrs\n",
    "    a ['checked'] =  True\n",
    "\n",
    "    response2 = browser.submit(next_form , login_page2.url)\n",
    "    print(\"Start Downloading from...\" + response2.url)\n",
    "\n",
    "    table = response2.soup.find(\"table\" , {\"class\" : \"table1\"})\n",
    "    t = table.find_all('a')\n",
    "\n",
    "    for x in range(81,94):\n",
    "        c = 'https://freddiemac.embs.com/FLoan/Data/' + t[x]['href']\n",
    "        print(c)\n",
    "        r = s.get(c)\n",
    "        z = ZipFile(BytesIO(r.content)) \n",
    "        z.extractall(os.getcwd() + '/All_Samples')  \n",
    "    \n",
    "    \n",
    "    print(\"Downloaded all sample successfully!\")"
   ]
  },
  {
   "cell_type": "code",
   "execution_count": null,
   "metadata": {},
   "outputs": [],
   "source": []
  },
  {
   "cell_type": "code",
   "execution_count": 13,
   "metadata": {},
   "outputs": [],
   "source": [
    "def orig_cleaning(orig_df):\n",
    "    orig_df['cred_scr'] = orig_df['cred_scr'].fillna(0)\n",
    "    orig_df['fst_hmebyr_flg']=orig_df['fst_hmebyr_flg'].fillna('Unknown')\n",
    "    orig_df['metro_stat_area']=orig_df['metro_stat_area'].fillna(0)\n",
    "    orig_df['mort_insur_pctg']=orig_df['mort_insur_pctg'].fillna(0)\n",
    "    orig_df['nbr_units']=orig_df['nbr_units'].fillna(0)\n",
    "    orig_df['occu_status']=orig_df['occu_status'].fillna('Unknown')\n",
    "    orig_df['orig_cmbnd_ln_to_value']=orig_df['orig_cmbnd_ln_to_value'].fillna(0)\n",
    "    orig_df['orig_dbt_to_incm']=orig_df['orig_dbt_to_incm'].fillna(0)\n",
    "    orig_df['orig_ln_to_value']=orig_df['orig_ln_to_value'].fillna(0)\n",
    "    orig_df['chnl']=orig_df['chnl'].fillna('Unknown')\n",
    "    orig_df['pre_pnl_mort_flg']=orig_df['pre_pnl_mort_flg'].fillna('Unknown')\n",
    "    orig_df['proptype']=orig_df['proptype'].fillna('Unknown')\n",
    "    orig_df['zipcode']=orig_df['zipcode'].fillna(0)\n",
    "    orig_df['ln_purps']=orig_df['ln_purps'].fillna('Unknown')\n",
    "    orig_df['nbr_brwrs']=orig_df['nbr_brwrs'].fillna(0)\n",
    "    orig_df['spr_confrm_flg']=orig_df['spr_confrm_flg'].fillna('N')\n",
    "    \n",
    "    return orig_df"
   ]
  },
  {
   "cell_type": "code",
   "execution_count": null,
   "metadata": {},
   "outputs": [],
   "source": []
  },
  {
   "cell_type": "code",
   "execution_count": 4,
   "metadata": {},
   "outputs": [],
   "source": [
    "def combineOrigFiles():\n",
    "    print('Starting creation of combined Origination File!!', '\\n')\n",
    "    filedirectory_path = './All_Samples/'\n",
    "    combinedfile_name = filedirectory_path + 'OriginationCombined.csv'\n",
    "    if os.path.exists(combinedfile_name):\n",
    "        os.unlink(combinedfile_name)\n",
    "    firstRun = 1\n",
    "    \n",
    "    for path, subdirs, files in os.walk(filedirectory_path):\n",
    "        for file in files:\n",
    "            if '_orig_' in file:\n",
    "                actual_file = os.path.join(path, file)\n",
    "                \n",
    "                with open(actual_file, 'r', encoding='utf-8') as f:\n",
    "                    orig_df = pd.read_csv(f, sep='|', names=['cred_scr', 'fst_paymnt_dte', 'fst_hmebyr_flg', 'maturty_dte', \\\n",
    "                                                             'metro_stat_area', 'mort_insur_pctg', 'nbr_units', 'occu_status',\\\n",
    "                                                             'orig_cmbnd_ln_to_value', 'orig_dbt_to_incm', 'orig_upb', \\\n",
    "                                                             'orig_ln_to_value', 'orig_intrst_rate', 'chnl', 'pre_pnl_mort_flg',\\\n",
    "                                                             'prodtype', 'propstate', 'proptype', 'zipcode', 'ln_sq_nbr', \\\n",
    "                                                             'ln_purps', 'orig_ln_trm', 'nbr_brwrs', 'slr_name', 'srvcr_name',\\\n",
    "                                                             'spr_confrm_flg'], \\\n",
    "                                          skipinitialspace=True, low_memory=False)\n",
    "                    orig_df = orig_cleaning(orig_df)\n",
    "                    orig_df[['cred_scr','metro_stat_area','mort_insur_pctg','nbr_units','orig_cmbnd_ln_to_value',\\\n",
    "                             'orig_dbt_to_incm','orig_upb','orig_ln_to_value','zipcode','orig_ln_trm', 'nbr_units']] = \\\n",
    "                            orig_df[['cred_scr','metro_stat_area','mort_insur_pctg','nbr_units','orig_cmbnd_ln_to_value',\\\n",
    "                                'orig_dbt_to_incm','orig_upb','orig_ln_to_value','zipcode','orig_ln_trm',\\\n",
    "                                'nbr_units']].astype('int64')\n",
    "                    orig_df[['spr_confrm_flg','srvcr_name']] = orig_df[['spr_confrm_flg','srvcr_name']].astype('str')\n",
    "                    \n",
    "                    orig_df['Year_Orig'] = ['20'+x for x in (orig_df['ln_sq_nbr'].apply(lambda x: x[2:4]))]\n",
    "                    \n",
    "                    if firstRun == 1:\n",
    "                        orig_df.to_csv(combinedfile_name, mode='a', header=True,index=False)\n",
    "                        firstRun = 0\n",
    "                    else:\n",
    "                        orig_df.to_csv(combinedfile_name, mode='a', header=False,index=False)\n",
    "    print('Combined Origination file created successfully!!', '\\n')"
   ]
  },
  {
   "cell_type": "code",
   "execution_count": 5,
   "metadata": {},
   "outputs": [
    {
     "name": "stdout",
     "output_type": "stream",
     "text": [
      "Starting creation of combined Origination File!! \n",
      "\n",
      "Combined Origination file created successfully!! \n",
      "\n"
     ]
    }
   ],
   "source": [
    "combineOrigFiles()"
   ]
  },
  {
   "cell_type": "code",
   "execution_count": null,
   "metadata": {},
   "outputs": [],
   "source": []
  },
  {
   "cell_type": "code",
   "execution_count": 5,
   "metadata": {},
   "outputs": [],
   "source": [
    "def performance_cleaning(perf_df):\n",
    "    perf_df['curr_ln_delin_status'] = perf_df['curr_ln_delin_status'].fillna(0)\n",
    "    perf_df['repurch_flag']=perf_df['repurch_flag'].fillna('Unknown')\n",
    "    perf_df['mod_flag']=perf_df['mod_flag'].fillna('N')\n",
    "    perf_df['zero_bal_cd']=perf_df['zero_bal_cd'].fillna(00)\n",
    "    perf_df['zero_bal_eff_dt']=perf_df['zero_bal_eff_dt'].fillna('999901')\n",
    "    perf_df['current_dupb']=perf_df['current_dupb'].fillna(0)\n",
    "    perf_df['lst_pd_inst_duedt']=perf_df['lst_pd_inst_duedt'].fillna('999901')\n",
    "    perf_df['mi_recoveries']=perf_df['mi_recoveries'].fillna(0)\n",
    "    perf_df['net_sale_proceeds']=perf_df['net_sale_proceeds'].fillna('U')\n",
    "    perf_df['non_mi_recoveries']=perf_df['non_mi_recoveries'].fillna(0)\n",
    "    perf_df['expenses']=perf_df['expenses'].fillna(0)\n",
    "    perf_df['legal_costs']=perf_df['legal_costs'].fillna(0)\n",
    "    perf_df['maint_pres_costs']=perf_df['maint_pres_costs'].fillna(0)\n",
    "    perf_df['taxes_and_insur']=perf_df['taxes_and_insur'].fillna(0)\n",
    "    perf_df['misc_expenses']=perf_df['misc_expenses'].fillna(0)\n",
    "    perf_df['actual_loss_calc']=perf_df['actual_loss_calc'].fillna(0)\n",
    "    perf_df['mod_cost']=perf_df['mod_cost'].fillna(0)\n",
    "    \n",
    "    return perf_df"
   ]
  },
  {
   "cell_type": "code",
   "execution_count": null,
   "metadata": {},
   "outputs": [],
   "source": []
  },
  {
   "cell_type": "code",
   "execution_count": 6,
   "metadata": {},
   "outputs": [],
   "source": [
    "def minmax(perf_df):\n",
    "    new1_df = perf_df.groupby(['ln_sq_nbr'])['current_aupb'].min().to_frame(name = 'min_current_aupb').reset_index()\n",
    "    new2_df = perf_df.groupby(['ln_sq_nbr'])['current_aupb'].max().to_frame(name = 'max_current_aupb').reset_index()\n",
    "    new3_df = perf_df.groupby(['ln_sq_nbr'])['curr_ln_delin_status'].min().to_frame(name = 'min_curr_ln_delin_status').reset_index()\n",
    "    new4_df = perf_df.groupby(['ln_sq_nbr'])['curr_ln_delin_status'].max().to_frame(name = 'max_curr_ln_delin_status').reset_index()\n",
    "    new5_df = perf_df.groupby(['ln_sq_nbr'])['zero_bal_cd'].min().to_frame(name = 'min_zero_bal_cd').reset_index()\n",
    "    new6_df = perf_df.groupby(['ln_sq_nbr'])['zero_bal_cd'].max().to_frame(name = 'max_zero_bal_cd').reset_index()\n",
    "    new7_df = perf_df.groupby(['ln_sq_nbr'])['mi_recoveries'].min().to_frame(name = 'min_mi_recoveries').reset_index()\n",
    "    new8_df = perf_df.groupby(['ln_sq_nbr'])['mi_recoveries'].max().to_frame(name = 'max_mi_recoveries').reset_index()\n",
    "    new11_df = perf_df.groupby(['ln_sq_nbr'])['non_mi_recoveries'].min().to_frame(name = 'min_non_mi_recoveries').reset_index()\n",
    "    new12_df = perf_df.groupby(['ln_sq_nbr'])['non_mi_recoveries'].max().to_frame(name = 'max_non_mi_recoveries').reset_index()\n",
    "    new13_df = perf_df.groupby(['ln_sq_nbr'])['expenses'].min().to_frame(name = 'min_expenses').reset_index()\n",
    "    new14_df = perf_df.groupby(['ln_sq_nbr'])['expenses'].max().to_frame(name = 'max_expenses').reset_index()\n",
    "    new15_df = perf_df.groupby(['ln_sq_nbr'])['legal_costs'].min().to_frame(name = 'min_legal_costs').reset_index()\n",
    "    new16_df = perf_df.groupby(['ln_sq_nbr'])['legal_costs'].max().to_frame(name = 'max_legal_costs').reset_index()\n",
    "    new17_df = perf_df.groupby(['ln_sq_nbr'])['maint_pres_costs'].min().to_frame(name = 'min_maint_pres_costs').reset_index()\n",
    "    new18_df = perf_df.groupby(['ln_sq_nbr'])['maint_pres_costs'].max().to_frame(name = 'max_maint_pres_costs').reset_index()\n",
    "    new19_df = perf_df.groupby(['ln_sq_nbr'])['taxes_and_insur'].min().to_frame(name = 'min_taxes_and_insur').reset_index()\n",
    "    new20_df = perf_df.groupby(['ln_sq_nbr'])['taxes_and_insur'].max().to_frame(name = 'max_taxes_and_insur').reset_index()\n",
    "    new21_df = perf_df.groupby(['ln_sq_nbr'])['misc_expenses'].min().to_frame(name = 'min_misc_expenses').reset_index()\n",
    "    new22_df = perf_df.groupby(['ln_sq_nbr'])['misc_expenses'].max().to_frame(name = 'max_misc_expenses').reset_index()\n",
    "    new23_df = perf_df.groupby(['ln_sq_nbr'])['actual_loss_calc'].min().to_frame(name = 'min_actual_loss_calc').reset_index()\n",
    "    new24_df = perf_df.groupby(['ln_sq_nbr'])['actual_loss_calc'].max().to_frame(name = 'max_actual_loss_calc').reset_index()\n",
    "    new25_df = perf_df.groupby(['ln_sq_nbr'])['mod_cost'].min().to_frame(name = 'min_mod_cost').reset_index()\n",
    "    new26_df = perf_df.groupby(['ln_sq_nbr'])['mod_cost'].max().to_frame(name = 'max_mod_cost').reset_index()\n",
    "    \n",
    "    final_df = new1_df.merge(new2_df,on='ln_sq_nbr').merge(new3_df,on='ln_sq_nbr').merge(new4_df,on='ln_sq_nbr').\\\n",
    "    merge(new5_df,on='ln_sq_nbr').merge(new6_df,on='ln_sq_nbr').merge(new7_df,on='ln_sq_nbr').merge(new8_df,on='ln_sq_nbr').\\\n",
    "    merge(new11_df,on='ln_sq_nbr').merge(new12_df,on='ln_sq_nbr').merge(new13_df,on='ln_sq_nbr').merge(new14_df,on='ln_sq_nbr').\\\n",
    "    merge(new15_df,on='ln_sq_nbr').merge(new16_df,on='ln_sq_nbr').merge(new17_df,on='ln_sq_nbr').merge(new18_df,on='ln_sq_nbr').\\\n",
    "    merge(new19_df,on='ln_sq_nbr').merge(new20_df,on='ln_sq_nbr').merge(new21_df,on='ln_sq_nbr').merge(new22_df,on='ln_sq_nbr').\\\n",
    "    merge(new23_df,on='ln_sq_nbr').merge(new24_df,on='ln_sq_nbr').merge(new25_df,on='ln_sq_nbr').merge(new26_df,on='ln_sq_nbr')\n",
    "    \n",
    "    return final_df"
   ]
  },
  {
   "cell_type": "code",
   "execution_count": null,
   "metadata": {},
   "outputs": [],
   "source": []
  },
  {
   "cell_type": "code",
   "execution_count": 16,
   "metadata": {},
   "outputs": [],
   "source": [
    "# Creating combined performance file\n",
    "def combinePerfFiles():\n",
    "    print('Starting creation of combined Performance File!!', '\\n')\n",
    "    filedirectory_path = './All_Samples/'\n",
    "    combinedfile_name = filedirectory_path + 'PerformanceCombined.csv'\n",
    "    if os.path.exists(combinedfile_name):\n",
    "        os.unlink(combinedfile_name)\n",
    "    firstRun = 1\n",
    "    \n",
    "    for path, subdirs, files in os.walk(filedirectory_path):\n",
    "        for file in files:\n",
    "            if '_svcg_' in file:\n",
    "                actual_file = os.path.join(path, file)\n",
    "                \n",
    "                with open(actual_file, 'r', encoding='utf-8') as f:\n",
    "                    perf_df = pd.read_csv(f ,sep=\"|\", names=['ln_sq_nbr','mon_rpt_prd','current_aupb','curr_ln_delin_status',\\\n",
    "                                                             'loan_age','remng_mon_to_leg_matur', 'repurch_flag','mod_flag', \\\n",
    "                                                             'zero_bal_cd', 'zero_bal_eff_dt','current_int_rte','current_dupb',\\\n",
    "                                                             'lst_pd_inst_duedt','mi_recoveries', 'net_sale_proceeds',\\\n",
    "                                                             'non_mi_recoveries','expenses', 'legal_costs', 'maint_pres_costs',\\\n",
    "                                                             'taxes_and_insur','misc_expenses','actual_loss_calc', 'mod_cost',\\\n",
    "                                                             'step-mod', 'deferd_pymnt_modi','eltv'],\\\n",
    "                                          skipinitialspace=True, low_memory=False)\n",
    "                    \n",
    "                    perf_df['curr_ln_delin_status'] = [ 999 if x=='R' else x for x in \\\n",
    "                                                       (perf_df['curr_ln_delin_status'].apply(lambda x: x))]\n",
    "                    perf_df['curr_ln_delin_status'] = [ 0 if x=='XX' else x for x in \\\n",
    "                                                       (perf_df['curr_ln_delin_status'].apply(lambda x: x))]\n",
    "                    perf_df = performance_cleaning(perf_df)\n",
    "                    \n",
    "                    perf_df[['curr_ln_delin_status','loan_age','remng_mon_to_leg_matur','zero_bal_cd','current_dupb',\\\n",
    "                             'actual_loss_calc']] = perf_df[['curr_ln_delin_status','loan_age','remng_mon_to_leg_matur',\\\n",
    "                                                             'zero_bal_cd','current_dupb','actual_loss_calc']].astype('int64')\n",
    "\n",
    "                    perf_df[['mon_rpt_prd','zero_bal_eff_dt','lst_pd_inst_duedt']] = perf_df[['mon_rpt_prd','zero_bal_eff_dt',\\\n",
    "                                                                                              'lst_pd_inst_duedt']].astype('str')\n",
    "                    \n",
    "                    filtered_df = minmax(perf_df)\n",
    "                    \n",
    "                    filtered_df['Year_Perf'] = ['20'+x for x in (filtered_df['ln_sq_nbr'].apply(lambda x: x[2:4]))]\n",
    "                    \n",
    "                    if firstRun == 1:\n",
    "                        filtered_df.to_csv(combinedfile_name, mode='a', header=True,index=False)\n",
    "                        firstRun = 0\n",
    "                    else:\n",
    "                        filtered_df.to_csv(combinedfile_name, mode='a', header=False,index=False)\n",
    "    print('Combined Performance file created successfully!!', '\\n')"
   ]
  },
  {
   "cell_type": "code",
   "execution_count": 38,
   "metadata": {},
   "outputs": [
    {
     "name": "stdout",
     "output_type": "stream",
     "text": [
      "Starting creation of combined Performance File!! \n",
      "\n",
      "Combined Performance file created successfully!! \n",
      "\n"
     ]
    }
   ],
   "source": [
    "combinePerfFiles()"
   ]
  },
  {
   "cell_type": "code",
   "execution_count": 17,
   "metadata": {},
   "outputs": [
    {
     "name": "stdout",
     "output_type": "stream",
     "text": [
      "----Process Started----\n",
      "Starting creation of combined Performance File!! \n",
      "\n",
      "Combined Performance file created successfully!! \n",
      "\n"
     ]
    }
   ],
   "source": [
    "\n",
    "def main():\n",
    "    user_input = sys.argv[1:]\n",
    "    print(\"----Process Started----\")\n",
    "    username = 'rishi.r.rajani@gmail.com'\n",
    "    password = 'Vd7IHxN^'\n",
    "    login(username,password)\n",
    "    combineOrigFiles()\n",
    "    combinePerfFiles()\n",
    "        \n",
    "        \n",
    "if __name__ == '__main__':\n",
    "    main()\n"
   ]
  },
  {
   "cell_type": "code",
   "execution_count": null,
   "metadata": {},
   "outputs": [],
   "source": []
  }
 ],
 "metadata": {
  "kernelspec": {
   "display_name": "Python 3",
   "language": "python",
   "name": "python3"
  },
  "language_info": {
   "codemirror_mode": {
    "name": "ipython",
    "version": 3
   },
   "file_extension": ".py",
   "mimetype": "text/x-python",
   "name": "python",
   "nbconvert_exporter": "python",
   "pygments_lexer": "ipython3",
   "version": "3.7.0"
  }
 },
 "nbformat": 4,
 "nbformat_minor": 2
}
