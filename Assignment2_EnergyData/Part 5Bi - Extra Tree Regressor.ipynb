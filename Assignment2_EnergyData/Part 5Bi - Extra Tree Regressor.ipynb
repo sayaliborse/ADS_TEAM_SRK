{
 "cells": [
  {
   "cell_type": "markdown",
   "metadata": {},
   "source": [
    "# Extraa Tree Regressor"
   ]
  },
  {
   "cell_type": "code",
   "execution_count": 36,
   "metadata": {},
   "outputs": [],
   "source": [
    "import numpy as np\n",
    "import matplotlib.pyplot as plt\n",
    "import pandas as pd\n",
    "import seaborn as sns \n",
    "from sklearn.metrics import*\n",
    "from sklearn.linear_model import LinearRegression\n",
    "from sklearn.ensemble import RandomForestRegressor\n",
    "from sklearn.ensemble import ExtraTreesRegressor\n",
    "from sklearn.model_selection import train_test_split\n",
    "import math\n",
    "from boruta import BorutaPy"
   ]
  },
  {
   "cell_type": "code",
   "execution_count": 9,
   "metadata": {},
   "outputs": [],
   "source": [
    "dataset = pd.read_csv('./Documents/Revised_data.csv')"
   ]
  },
  {
   "cell_type": "code",
   "execution_count": 10,
   "metadata": {},
   "outputs": [],
   "source": [
    "dataset = dataset.drop('date',1)\n",
    "dataset = dataset.drop('Date_number',1)\n",
    "dataset = dataset.drop('Time',1)\n",
    "dataset = dataset.drop('Day_of_week',1)"
   ]
  },
  {
   "cell_type": "code",
   "execution_count": 12,
   "metadata": {},
   "outputs": [],
   "source": [
    "X = dataset.iloc[:,3:31].values\n",
    "Y = dataset.iloc[:,31].values"
   ]
  },
  {
   "cell_type": "code",
   "execution_count": 37,
   "metadata": {},
   "outputs": [],
   "source": [
    "etc = ExtraTreesRegressor()"
   ]
  },
  {
   "cell_type": "code",
   "execution_count": 19,
   "metadata": {},
   "outputs": [],
   "source": [
    "X_train, X_test, Y_train, Y_test = train_test_split(X, Y, test_size=0.2, random_state=np.random)"
   ]
  },
  {
   "cell_type": "code",
   "execution_count": 38,
   "metadata": {},
   "outputs": [
    {
     "data": {
      "text/plain": [
       "ExtraTreesRegressor(bootstrap=False, criterion='mse', max_depth=None,\n",
       "          max_features='auto', max_leaf_nodes=None,\n",
       "          min_impurity_decrease=0.0, min_impurity_split=None,\n",
       "          min_samples_leaf=1, min_samples_split=2,\n",
       "          min_weight_fraction_leaf=0.0, n_estimators=10, n_jobs=1,\n",
       "          oob_score=False, random_state=None, verbose=0, warm_start=False)"
      ]
     },
     "execution_count": 38,
     "metadata": {},
     "output_type": "execute_result"
    }
   ],
   "source": [
    "etc.fit(X_train,Y_train)"
   ]
  },
  {
   "cell_type": "code",
   "execution_count": 39,
   "metadata": {},
   "outputs": [
    {
     "data": {
      "text/plain": [
       "1.0"
      ]
     },
     "execution_count": 39,
     "metadata": {},
     "output_type": "execute_result"
    }
   ],
   "source": [
    "etc.score(X_train, Y_train)"
   ]
  },
  {
   "cell_type": "code",
   "execution_count": 40,
   "metadata": {},
   "outputs": [
    {
     "data": {
      "text/plain": [
       "0.6320329245377256"
      ]
     },
     "execution_count": 40,
     "metadata": {},
     "output_type": "execute_result"
    }
   ],
   "source": [
    "etc.score(X_test, Y_test)"
   ]
  },
  {
   "cell_type": "code",
   "execution_count": 25,
   "metadata": {},
   "outputs": [],
   "source": [
    "import numpy as np\n",
    "def mean_absolute_percentage_error(Y_train,train_pred): \n",
    "    Y_train, train_pred = np.array(Y_train), np.array(train_pred)\n",
    "    return np.mean(np.abs((Y_train,train_pred) / Y_train)) * 100"
   ]
  },
  {
   "cell_type": "code",
   "execution_count": 41,
   "metadata": {},
   "outputs": [],
   "source": [
    "train_pred =etc.predict(X_train)"
   ]
  },
  {
   "cell_type": "code",
   "execution_count": 42,
   "metadata": {},
   "outputs": [],
   "source": [
    "test_pred = etc.predict(X_test)"
   ]
  },
  {
   "cell_type": "code",
   "execution_count": 43,
   "metadata": {},
   "outputs": [
    {
     "name": "stdout",
     "output_type": "stream",
     "text": [
      "MAE of Training Data = 0.0\n",
      "RMSE of Training Data = 0.0\n",
      "R2 of Training Data = 1.0\n",
      "MAPE of Training Data = 100.0\n"
     ]
    }
   ],
   "source": [
    "from sklearn.metrics import*\n",
    "import math\n",
    "## Mean absolute error\n",
    "MAE = mean_absolute_error(Y_train,train_pred)\n",
    "print('MAE of Training Data =', MAE)\n",
    "## Mean squared error\n",
    "MSE = mean_squared_error(Y_train,train_pred)\n",
    "RMSE = math.sqrt(MSE)\n",
    "print('RMSE of Training Data =',RMSE)\n",
    "## R-square score of this model\n",
    "R2 = r2_score(Y_train,train_pred)\n",
    "print('R2 of Training Data =',R2)\n",
    "## MAPE of this model\n",
    "MAPE=mean_absolute_percentage_error(Y_train,train_pred)\n",
    "print('MAPE of Training Data =',MAPE)"
   ]
  },
  {
   "cell_type": "code",
   "execution_count": null,
   "metadata": {},
   "outputs": [],
   "source": []
  },
  {
   "cell_type": "code",
   "execution_count": 44,
   "metadata": {},
   "outputs": [
    {
     "name": "stdout",
     "output_type": "stream",
     "text": [
      "MAE of Testing Data= 29.664808715480113\n",
      "RMSE of Testing Data= 63.14658749719711\n",
      "R2 of Testing Data= 0.6320329245377256\n",
      "MAPE of Testing Data= 106.05210841535715\n"
     ]
    }
   ],
   "source": [
    "MAE = mean_absolute_error(Y_test,test_pred)\n",
    "print('MAE of Testing Data=',MAE)\n",
    "## Mean squared error\n",
    "MSE = mean_squared_error(Y_test,test_pred)\n",
    "RMSE = math.sqrt(MSE)\n",
    "print('RMSE of Testing Data=',RMSE)\n",
    "## R-square score of this model\n",
    "R2 = r2_score(Y_test,test_pred)\n",
    "print('R2 of Testing Data=',R2)\n",
    "## MAPE of this model\n",
    "MAPE=mean_absolute_percentage_error(Y_test,test_pred)\n",
    "print('MAPE of Testing Data=',MAPE)"
   ]
  },
  {
   "cell_type": "code",
   "execution_count": 45,
   "metadata": {},
   "outputs": [],
   "source": [
    "feature_selector = BorutaPy(etc, n_estimators='auto', verbose=2, random_state=np.random)"
   ]
  },
  {
   "cell_type": "code",
   "execution_count": 46,
   "metadata": {},
   "outputs": [
    {
     "name": "stdout",
     "output_type": "stream",
     "text": [
      "Iteration: \t1 / 100\n",
      "Confirmed: \t0\n",
      "Tentative: \t28\n",
      "Rejected: \t0\n",
      "Iteration: \t2 / 100\n",
      "Confirmed: \t0\n",
      "Tentative: \t28\n",
      "Rejected: \t0\n",
      "Iteration: \t3 / 100\n",
      "Confirmed: \t0\n",
      "Tentative: \t28\n",
      "Rejected: \t0\n",
      "Iteration: \t4 / 100\n",
      "Confirmed: \t0\n",
      "Tentative: \t28\n",
      "Rejected: \t0\n",
      "Iteration: \t5 / 100\n",
      "Confirmed: \t0\n",
      "Tentative: \t28\n",
      "Rejected: \t0\n",
      "Iteration: \t6 / 100\n",
      "Confirmed: \t0\n",
      "Tentative: \t28\n",
      "Rejected: \t0\n",
      "Iteration: \t7 / 100\n",
      "Confirmed: \t0\n",
      "Tentative: \t28\n",
      "Rejected: \t0\n",
      "Iteration: \t8 / 100\n",
      "Confirmed: \t26\n",
      "Tentative: \t2\n",
      "Rejected: \t0\n",
      "Iteration: \t9 / 100\n",
      "Confirmed: \t26\n",
      "Tentative: \t0\n",
      "Rejected: \t2\n",
      "\n",
      "\n",
      "BorutaPy finished running.\n",
      "\n",
      "Iteration: \t10 / 100\n",
      "Confirmed: \t26\n",
      "Tentative: \t0\n",
      "Rejected: \t2\n"
     ]
    },
    {
     "data": {
      "text/plain": [
       "array([ True,  True,  True,  True,  True,  True,  True,  True,  True,\n",
       "        True,  True,  True,  True,  True,  True,  True,  True,  True,\n",
       "        True,  True,  True,  True,  True,  True, False,  True,  True,\n",
       "       False])"
      ]
     },
     "execution_count": 46,
     "metadata": {},
     "output_type": "execute_result"
    }
   ],
   "source": [
    "feature_selector.fit(X,Y)\n",
    "feature_selector.support_"
   ]
  },
  {
   "cell_type": "code",
   "execution_count": 47,
   "metadata": {},
   "outputs": [
    {
     "data": {
      "text/plain": [
       "array([1, 1, 1, 1, 1, 1, 1, 1, 1, 1, 1, 1, 1, 1, 1, 1, 1, 1, 1, 1, 1, 1,\n",
       "       1, 1, 2, 1, 1, 3])"
      ]
     },
     "execution_count": 47,
     "metadata": {},
     "output_type": "execute_result"
    }
   ],
   "source": [
    "feature_selector.ranking_"
   ]
  },
  {
   "cell_type": "code",
   "execution_count": 49,
   "metadata": {},
   "outputs": [],
   "source": [
    "X1 = feature_selector.transform(X)"
   ]
  },
  {
   "cell_type": "code",
   "execution_count": 50,
   "metadata": {},
   "outputs": [],
   "source": [
    "X1_train, X1_test, Y_train, Y_test = train_test_split(X1, Y, test_size=0.2, random_state=np.random)"
   ]
  },
  {
   "cell_type": "code",
   "execution_count": 51,
   "metadata": {},
   "outputs": [
    {
     "data": {
      "text/plain": [
       "ExtraTreesRegressor(bootstrap=False, criterion='mse', max_depth=None,\n",
       "          max_features='auto', max_leaf_nodes=None,\n",
       "          min_impurity_decrease=0.0, min_impurity_split=None,\n",
       "          min_samples_leaf=1, min_samples_split=2,\n",
       "          min_weight_fraction_leaf=0.0, n_estimators=74, n_jobs=1,\n",
       "          oob_score=False,\n",
       "          random_state=<mtrand.RandomState object at 0x000002103E179EA0>,\n",
       "          verbose=0, warm_start=False)"
      ]
     },
     "execution_count": 51,
     "metadata": {},
     "output_type": "execute_result"
    }
   ],
   "source": [
    "etc.fit(X1_train,Y_train)"
   ]
  },
  {
   "cell_type": "code",
   "execution_count": 52,
   "metadata": {},
   "outputs": [
    {
     "data": {
      "text/plain": [
       "0.999999985684358"
      ]
     },
     "execution_count": 52,
     "metadata": {},
     "output_type": "execute_result"
    }
   ],
   "source": [
    "etc.score(X1_train, Y_train)"
   ]
  },
  {
   "cell_type": "code",
   "execution_count": 53,
   "metadata": {},
   "outputs": [
    {
     "data": {
      "text/plain": [
       "0.6781680811169433"
      ]
     },
     "execution_count": 53,
     "metadata": {},
     "output_type": "execute_result"
    }
   ],
   "source": [
    "etc.score(X1_test, Y_test)"
   ]
  },
  {
   "cell_type": "code",
   "execution_count": 54,
   "metadata": {},
   "outputs": [],
   "source": [
    "train_pred =etc.predict(X1_train)\n",
    "test_pred = etc.predict(X1_test)"
   ]
  },
  {
   "cell_type": "code",
   "execution_count": 55,
   "metadata": {},
   "outputs": [
    {
     "name": "stdout",
     "output_type": "stream",
     "text": [
      "MAE of Training Data = 0.00037661172700442525\n",
      "RMSE of Training Data = 0.012542213104535668\n",
      "R2 of Training Data = 0.999999985684358\n",
      "MAPE of Training Data = 100.00002895957559\n"
     ]
    }
   ],
   "source": [
    "## Mean absolute error\n",
    "MAE = mean_absolute_error(Y_train,train_pred)\n",
    "print('MAE of Training Data =', MAE)\n",
    "## Mean squared error\n",
    "MSE = mean_squared_error(Y_train,train_pred)\n",
    "RMSE = math.sqrt(MSE)\n",
    "print('RMSE of Training Data =',RMSE)\n",
    "## R-square score of this model\n",
    "R2 = r2_score(Y_train,train_pred)\n",
    "print('R2 of Training Data =',R2)\n",
    "## MAPE of this model\n",
    "MAPE=mean_absolute_percentage_error(Y_train,train_pred)\n",
    "print('MAPE of Training Data =',MAPE)"
   ]
  },
  {
   "cell_type": "code",
   "execution_count": 56,
   "metadata": {},
   "outputs": [
    {
     "name": "stdout",
     "output_type": "stream",
     "text": [
      "MAE of Testing Data= 26.889221372373132\n",
      "RMSE of Testing Data= 58.17032811797648\n",
      "R2 of Testing Data= 0.6781680811169433\n",
      "MAPE of Testing Data= 106.38467706172622\n"
     ]
    }
   ],
   "source": [
    "MAE = mean_absolute_error(Y_test,test_pred)\n",
    "print('MAE of Testing Data=',MAE)\n",
    "## Mean squared error\n",
    "MSE = mean_squared_error(Y_test,test_pred)\n",
    "RMSE = math.sqrt(MSE)\n",
    "print('RMSE of Testing Data=',RMSE)\n",
    "## R-square score of this model\n",
    "R2 = r2_score(Y_test,test_pred)\n",
    "print('R2 of Testing Data=',R2)\n",
    "## MAPE of this model\n",
    "MAPE=mean_absolute_percentage_error(Y_test,test_pred)\n",
    "print('MAPE of Testing Data=',MAPE)"
   ]
  }
 ],
 "metadata": {
  "kernelspec": {
   "display_name": "Python 3",
   "language": "python",
   "name": "python3"
  },
  "language_info": {
   "codemirror_mode": {
    "name": "ipython",
    "version": 3
   },
   "file_extension": ".py",
   "mimetype": "text/x-python",
   "name": "python",
   "nbconvert_exporter": "python",
   "pygments_lexer": "ipython3",
   "version": "3.7.0"
  }
 },
 "nbformat": 4,
 "nbformat_minor": 2
}
