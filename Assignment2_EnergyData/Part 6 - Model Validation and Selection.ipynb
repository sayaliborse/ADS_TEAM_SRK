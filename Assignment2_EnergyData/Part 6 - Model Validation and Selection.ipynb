{
 "cells": [
  {
   "cell_type": "code",
   "execution_count": 22,
   "metadata": {},
   "outputs": [],
   "source": [
    "import numpy as np\n",
    "import matplotlib.pyplot as plt\n",
    "import pandas as pd\n",
    "import seaborn as sns \n",
    "from sklearn.metrics import*\n",
    "from sklearn.linear_model import LinearRegression\n",
    "from sklearn.ensemble import RandomForestRegressor\n",
    "from sklearn.ensemble import ExtraTreesRegressor\n",
    "from sklearn.model_selection import train_test_split\n",
    "import math\n",
    "from boruta import BorutaPy\n",
    "from sklearn.datasets import load_digits\n",
    "from sklearn.model_selection import learning_curve\n",
    "from sklearn.model_selection import ShuffleSplit"
   ]
  },
  {
   "cell_type": "markdown",
   "metadata": {},
   "source": [
    "# Model Selected: ExtraTreeRegressor"
   ]
  },
  {
   "cell_type": "code",
   "execution_count": null,
   "metadata": {},
   "outputs": [],
   "source": []
  },
  {
   "cell_type": "code",
   "execution_count": 3,
   "metadata": {},
   "outputs": [],
   "source": [
    "dataset = pd.read_csv('./Documents/Revised_data.csv')\n",
    "dataset = dataset.drop('date',1)\n",
    "dataset = dataset.drop('Date_number',1)\n",
    "dataset = dataset.drop('Time',1)\n",
    "dataset = dataset.drop('Day_of_week',1)"
   ]
  },
  {
   "cell_type": "code",
   "execution_count": 4,
   "metadata": {},
   "outputs": [],
   "source": [
    "X = dataset.iloc[:,3:31].values\n",
    "Y = dataset.iloc[:,31].values"
   ]
  },
  {
   "cell_type": "code",
   "execution_count": 5,
   "metadata": {},
   "outputs": [],
   "source": [
    "features = [1, 1, 1, 1, 1, 1, 1, 1, 1, 1, 1, 1, 1, 1, 1, 1, 1, 1, 1, 1, 1, 1,\n",
    "       1, 1, 2, 1, 1, 3]"
   ]
  },
  {
   "cell_type": "code",
   "execution_count": 13,
   "metadata": {},
   "outputs": [
    {
     "data": {
      "text/plain": [
       "Index(['Kitchen_Temp', 'Kitchen_Hum', 'LivingRoom_Temp', 'LivingRoom_Hum',\n",
       "       'LaundryRoom_Temp', 'LaundryRoom_Hum', 'OfficeRoom_Temp',\n",
       "       'OfficeRoom_Hum', 'BathRoom_Temp', 'BathRoom_Hum', 'OutsideNorth_Temp',\n",
       "       'OutsideNorth_Hum', 'IroningRoom_Temp', 'IroningRoom_Hum',\n",
       "       'TeenagerRoom_Temp', 'TeenagerRoom_Hum', 'ParentRoom_Temp',\n",
       "       'ParentRoom_Hum', 'Outside_Temp', 'Pressure', 'Humidity', 'Windspeed',\n",
       "       'Visibility', 'Tdewpoint', 'rv1', 'Month_Number', 'Weekday_number',\n",
       "       'Weekday_Column'],\n",
       "      dtype='object')"
      ]
     },
     "execution_count": 13,
     "metadata": {},
     "output_type": "execute_result"
    }
   ],
   "source": [
    "dataset.iloc[: , 3:31].columns"
   ]
  },
  {
   "cell_type": "code",
   "execution_count": 5,
   "metadata": {},
   "outputs": [],
   "source": [
    "new_data = dataset[['Kitchen_Temp', 'Kitchen_Hum', 'LivingRoom_Temp', 'LivingRoom_Hum',\n",
    "       'LaundryRoom_Temp', 'LaundryRoom_Hum', 'OfficeRoom_Temp',\n",
    "       'OfficeRoom_Hum', 'BathRoom_Temp', 'BathRoom_Hum', 'OutsideNorth_Temp',\n",
    "       'OutsideNorth_Hum', 'IroningRoom_Temp', 'IroningRoom_Hum',\n",
    "       'TeenagerRoom_Temp', 'TeenagerRoom_Hum', 'ParentRoom_Temp',\n",
    "       'ParentRoom_Hum', 'Outside_Temp', 'Pressure', 'Humidity', 'Windspeed',\n",
    "       'Visibility', 'Tdewpoint', 'Month_Number', 'Weekday_number']]"
   ]
  },
  {
   "cell_type": "code",
   "execution_count": 6,
   "metadata": {},
   "outputs": [],
   "source": [
    "X = new_data.values\n",
    "Y = dataset.iloc[:,31].values\n",
    "X_train, X_test, Y_train, Y_test = train_test_split(new_data, Y, test_size=0.2, random_state=np.random)"
   ]
  },
  {
   "cell_type": "code",
   "execution_count": 16,
   "metadata": {},
   "outputs": [],
   "source": [
    "etc = ExtraTreesRegressor()"
   ]
  },
  {
   "cell_type": "code",
   "execution_count": 43,
   "metadata": {},
   "outputs": [
    {
     "data": {
      "text/plain": [
       "ExtraTreesRegressor(bootstrap=False, criterion='mse', max_depth=None,\n",
       "          max_features='auto', max_leaf_nodes=None,\n",
       "          min_impurity_decrease=0.0, min_impurity_split=None,\n",
       "          min_samples_leaf=1, min_samples_split=2,\n",
       "          min_weight_fraction_leaf=0.0, n_estimators=10, n_jobs=1,\n",
       "          oob_score=False, random_state=None, verbose=0, warm_start=False)"
      ]
     },
     "execution_count": 43,
     "metadata": {},
     "output_type": "execute_result"
    }
   ],
   "source": [
    "etc.fit(X_train,Y_train)"
   ]
  },
  {
   "cell_type": "markdown",
   "metadata": {},
   "source": [
    "# Cross Validation"
   ]
  },
  {
   "cell_type": "code",
   "execution_count": 44,
   "metadata": {},
   "outputs": [
    {
     "data": {
      "text/plain": [
       "0.5677751738664408"
      ]
     },
     "execution_count": 44,
     "metadata": {},
     "output_type": "execute_result"
    }
   ],
   "source": [
    "#Simple K-Fold cross validation - Training Data. 10folds.\n",
    "from sklearn.model_selection import cross_val_score\n",
    "accuracies = cross_val_score(estimator=ExtraTreesRegressor(), X=X_train, y=Y_train,cv=10)\n",
    "accuracies.mean()"
   ]
  },
  {
   "cell_type": "code",
   "execution_count": 46,
   "metadata": {},
   "outputs": [
    {
     "data": {
      "text/plain": [
       "0.37824809179157814"
      ]
     },
     "execution_count": 46,
     "metadata": {},
     "output_type": "execute_result"
    }
   ],
   "source": [
    "#Simple K-Fold cross validation - Testing Data . 10folds.\n",
    "from sklearn.linear_model import LinearRegression\n",
    "accuracies = cross_val_score(estimator=ExtraTreesRegressor(), X=X_test, y=Y_test,cv=10)\n",
    "accuracies.mean()"
   ]
  },
  {
   "cell_type": "markdown",
   "metadata": {},
   "source": [
    "# Cross Validation for Random Forest "
   ]
  },
  {
   "cell_type": "code",
   "execution_count": 37,
   "metadata": {},
   "outputs": [
    {
     "data": {
      "text/html": [
       "<div>\n",
       "<style scoped>\n",
       "    .dataframe tbody tr th:only-of-type {\n",
       "        vertical-align: middle;\n",
       "    }\n",
       "\n",
       "    .dataframe tbody tr th {\n",
       "        vertical-align: top;\n",
       "    }\n",
       "\n",
       "    .dataframe thead th {\n",
       "        text-align: right;\n",
       "    }\n",
       "</style>\n",
       "<table border=\"1\" class=\"dataframe\">\n",
       "  <thead>\n",
       "    <tr style=\"text-align: right;\">\n",
       "      <th></th>\n",
       "      <th>Unnamed: 0</th>\n",
       "      <th>date</th>\n",
       "      <th>Appliances</th>\n",
       "      <th>lights</th>\n",
       "      <th>Kitchen_Temp</th>\n",
       "      <th>Kitchen_Hum</th>\n",
       "      <th>LivingRoom_Temp</th>\n",
       "      <th>LivingRoom_Hum</th>\n",
       "      <th>LaundryRoom_Temp</th>\n",
       "      <th>LaundryRoom_Hum</th>\n",
       "      <th>...</th>\n",
       "      <th>Visibility</th>\n",
       "      <th>Tdewpoint</th>\n",
       "      <th>rv1</th>\n",
       "      <th>Day_of_week</th>\n",
       "      <th>Month_Number</th>\n",
       "      <th>Time</th>\n",
       "      <th>Date_number</th>\n",
       "      <th>Weekday_number</th>\n",
       "      <th>Weekday_Column</th>\n",
       "      <th>Energy_consumed</th>\n",
       "    </tr>\n",
       "  </thead>\n",
       "  <tbody>\n",
       "    <tr>\n",
       "      <th>0</th>\n",
       "      <td>0</td>\n",
       "      <td>2016-01-11 17:00:00</td>\n",
       "      <td>60</td>\n",
       "      <td>30</td>\n",
       "      <td>19.89</td>\n",
       "      <td>47.596667</td>\n",
       "      <td>19.2</td>\n",
       "      <td>44.790000</td>\n",
       "      <td>19.79</td>\n",
       "      <td>44.730000</td>\n",
       "      <td>...</td>\n",
       "      <td>63.000000</td>\n",
       "      <td>5.3</td>\n",
       "      <td>13.275433</td>\n",
       "      <td>Monday</td>\n",
       "      <td>1</td>\n",
       "      <td>17:00:00</td>\n",
       "      <td>2016-01-11</td>\n",
       "      <td>0</td>\n",
       "      <td>0</td>\n",
       "      <td>90</td>\n",
       "    </tr>\n",
       "    <tr>\n",
       "      <th>1</th>\n",
       "      <td>1</td>\n",
       "      <td>2016-01-11 17:10:00</td>\n",
       "      <td>60</td>\n",
       "      <td>30</td>\n",
       "      <td>19.89</td>\n",
       "      <td>46.693333</td>\n",
       "      <td>19.2</td>\n",
       "      <td>44.722500</td>\n",
       "      <td>19.79</td>\n",
       "      <td>44.790000</td>\n",
       "      <td>...</td>\n",
       "      <td>59.166667</td>\n",
       "      <td>5.2</td>\n",
       "      <td>18.606195</td>\n",
       "      <td>Monday</td>\n",
       "      <td>1</td>\n",
       "      <td>17:10:00</td>\n",
       "      <td>2016-01-11</td>\n",
       "      <td>0</td>\n",
       "      <td>0</td>\n",
       "      <td>90</td>\n",
       "    </tr>\n",
       "    <tr>\n",
       "      <th>2</th>\n",
       "      <td>2</td>\n",
       "      <td>2016-01-11 17:20:00</td>\n",
       "      <td>50</td>\n",
       "      <td>30</td>\n",
       "      <td>19.89</td>\n",
       "      <td>46.300000</td>\n",
       "      <td>19.2</td>\n",
       "      <td>44.626667</td>\n",
       "      <td>19.79</td>\n",
       "      <td>44.933333</td>\n",
       "      <td>...</td>\n",
       "      <td>55.333333</td>\n",
       "      <td>5.1</td>\n",
       "      <td>28.642668</td>\n",
       "      <td>Monday</td>\n",
       "      <td>1</td>\n",
       "      <td>17:20:00</td>\n",
       "      <td>2016-01-11</td>\n",
       "      <td>0</td>\n",
       "      <td>0</td>\n",
       "      <td>80</td>\n",
       "    </tr>\n",
       "    <tr>\n",
       "      <th>3</th>\n",
       "      <td>3</td>\n",
       "      <td>2016-01-11 17:30:00</td>\n",
       "      <td>50</td>\n",
       "      <td>40</td>\n",
       "      <td>19.89</td>\n",
       "      <td>46.066667</td>\n",
       "      <td>19.2</td>\n",
       "      <td>44.590000</td>\n",
       "      <td>19.79</td>\n",
       "      <td>45.000000</td>\n",
       "      <td>...</td>\n",
       "      <td>51.500000</td>\n",
       "      <td>5.0</td>\n",
       "      <td>45.410389</td>\n",
       "      <td>Monday</td>\n",
       "      <td>1</td>\n",
       "      <td>17:30:00</td>\n",
       "      <td>2016-01-11</td>\n",
       "      <td>0</td>\n",
       "      <td>0</td>\n",
       "      <td>90</td>\n",
       "    </tr>\n",
       "    <tr>\n",
       "      <th>4</th>\n",
       "      <td>4</td>\n",
       "      <td>2016-01-11 17:40:00</td>\n",
       "      <td>60</td>\n",
       "      <td>40</td>\n",
       "      <td>19.89</td>\n",
       "      <td>46.333333</td>\n",
       "      <td>19.2</td>\n",
       "      <td>44.530000</td>\n",
       "      <td>19.79</td>\n",
       "      <td>45.000000</td>\n",
       "      <td>...</td>\n",
       "      <td>47.666667</td>\n",
       "      <td>4.9</td>\n",
       "      <td>10.084097</td>\n",
       "      <td>Monday</td>\n",
       "      <td>1</td>\n",
       "      <td>17:40:00</td>\n",
       "      <td>2016-01-11</td>\n",
       "      <td>0</td>\n",
       "      <td>0</td>\n",
       "      <td>100</td>\n",
       "    </tr>\n",
       "  </tbody>\n",
       "</table>\n",
       "<p>5 rows × 36 columns</p>\n",
       "</div>"
      ],
      "text/plain": [
       "   Unnamed: 0                 date  Appliances  lights  Kitchen_Temp  \\\n",
       "0           0  2016-01-11 17:00:00          60      30         19.89   \n",
       "1           1  2016-01-11 17:10:00          60      30         19.89   \n",
       "2           2  2016-01-11 17:20:00          50      30         19.89   \n",
       "3           3  2016-01-11 17:30:00          50      40         19.89   \n",
       "4           4  2016-01-11 17:40:00          60      40         19.89   \n",
       "\n",
       "   Kitchen_Hum  LivingRoom_Temp  LivingRoom_Hum  LaundryRoom_Temp  \\\n",
       "0    47.596667             19.2       44.790000             19.79   \n",
       "1    46.693333             19.2       44.722500             19.79   \n",
       "2    46.300000             19.2       44.626667             19.79   \n",
       "3    46.066667             19.2       44.590000             19.79   \n",
       "4    46.333333             19.2       44.530000             19.79   \n",
       "\n",
       "   LaundryRoom_Hum       ...         Visibility  Tdewpoint        rv1  \\\n",
       "0        44.730000       ...          63.000000        5.3  13.275433   \n",
       "1        44.790000       ...          59.166667        5.2  18.606195   \n",
       "2        44.933333       ...          55.333333        5.1  28.642668   \n",
       "3        45.000000       ...          51.500000        5.0  45.410389   \n",
       "4        45.000000       ...          47.666667        4.9  10.084097   \n",
       "\n",
       "   Day_of_week  Month_Number      Time  Date_number  Weekday_number  \\\n",
       "0       Monday             1  17:00:00   2016-01-11               0   \n",
       "1       Monday             1  17:10:00   2016-01-11               0   \n",
       "2       Monday             1  17:20:00   2016-01-11               0   \n",
       "3       Monday             1  17:30:00   2016-01-11               0   \n",
       "4       Monday             1  17:40:00   2016-01-11               0   \n",
       "\n",
       "   Weekday_Column  Energy_consumed  \n",
       "0               0               90  \n",
       "1               0               90  \n",
       "2               0               80  \n",
       "3               0               90  \n",
       "4               0              100  \n",
       "\n",
       "[5 rows x 36 columns]"
      ]
     },
     "execution_count": 37,
     "metadata": {},
     "output_type": "execute_result"
    }
   ],
   "source": [
    "dataset = pd.read_csv('./Documents/Revised_Data.csv')\n",
    "dataset.head()"
   ]
  },
  {
   "cell_type": "code",
   "execution_count": 38,
   "metadata": {},
   "outputs": [],
   "source": [
    "dataset = dataset.drop('date',1)\n",
    "dataset = dataset.drop('Date_number',1)\n",
    "dataset = dataset.drop('Time',1)\n",
    "dataset = dataset.drop('Day_of_week',1)\n",
    "dataset = dataset.drop('Weekday_Column',1)\n",
    "dataset = dataset.drop('Weekday_number',1)\n",
    "dataset = dataset.drop('Month_Number',1)\n",
    "dataset = dataset.drop('Tdewpoint',1)"
   ]
  },
  {
   "cell_type": "code",
   "execution_count": 39,
   "metadata": {},
   "outputs": [],
   "source": [
    "X = dataset.iloc[:,3:27].values\n",
    "Y = dataset.iloc[:, 27].values"
   ]
  },
  {
   "cell_type": "code",
   "execution_count": 40,
   "metadata": {},
   "outputs": [
    {
     "data": {
      "text/plain": [
       "RandomForestRegressor(bootstrap=True, criterion='mse', max_depth=None,\n",
       "           max_features='auto', max_leaf_nodes=None,\n",
       "           min_impurity_decrease=0.0, min_impurity_split=None,\n",
       "           min_samples_leaf=1, min_samples_split=2,\n",
       "           min_weight_fraction_leaf=0.0, n_estimators=100, n_jobs=1,\n",
       "           oob_score=False,\n",
       "           random_state=<module 'numpy.random' from 'C:\\\\Users\\\\rishi\\\\Anaconda3\\\\lib\\\\site-packages\\\\numpy\\\\random\\\\__init__.py'>,\n",
       "           verbose=0, warm_start=False)"
      ]
     },
     "execution_count": 40,
     "metadata": {},
     "output_type": "execute_result"
    }
   ],
   "source": [
    "rfc = RandomForestRegressor(n_estimators=100,random_state=np.random)\n",
    "X_train, X_test, Y_train, Y_test = train_test_split(X, Y, test_size=0.3, random_state=np.random)\n",
    "rfc.fit(X_train,Y_train)"
   ]
  },
  {
   "cell_type": "code",
   "execution_count": 41,
   "metadata": {},
   "outputs": [
    {
     "data": {
      "text/plain": [
       "0.48985794649186704"
      ]
     },
     "execution_count": 41,
     "metadata": {},
     "output_type": "execute_result"
    }
   ],
   "source": [
    "#Simple K-Fold cross validation - Training Data. 10folds.\n",
    "accuracies = cross_val_score(estimator=RandomForestRegressor(), X=X_train, y=Y_train,cv=10)\n",
    "accuracies.mean()"
   ]
  },
  {
   "cell_type": "code",
   "execution_count": 42,
   "metadata": {},
   "outputs": [
    {
     "data": {
      "text/plain": [
       "0.15735624573459123"
      ]
     },
     "execution_count": 42,
     "metadata": {},
     "output_type": "execute_result"
    }
   ],
   "source": [
    "#Simple K-Fold cross validation - Testing Data . 10folds.\n",
    "from sklearn.linear_model import LinearRegression\n",
    "accuracies = cross_val_score(estimator= RandomForestRegressor, X=X_test, y=Y_test,cv=10)\n",
    "accuracies.mean()"
   ]
  },
  {
   "cell_type": "markdown",
   "metadata": {},
   "source": [
    "# Regularization"
   ]
  },
  {
   "cell_type": "markdown",
   "metadata": {},
   "source": [
    "# Lasso Regularization - L1"
   ]
  },
  {
   "cell_type": "code",
   "execution_count": 7,
   "metadata": {},
   "outputs": [
    {
     "name": "stdout",
     "output_type": "stream",
     "text": [
      "MSE =  9787.331925665841\n",
      "score =  0.1312752512029608\n"
     ]
    }
   ],
   "source": [
    "from sklearn.linear_model import Lasso\n",
    "##Training the model\n",
    "lassoReg = Lasso(alpha=0.005,normalize=True)\n",
    "lassoReg.fit(X_train,Y_train)\n",
    "pred = lassoReg.predict(X_test)\n",
    "##Calculating MSE\n",
    "MSE = np.mean((pred-Y_test)**2)\n",
    "print('MSE = ',MSE)\n",
    "##Calculating Score\n",
    "print('score = ',lassoReg.score(X_test,Y_test))"
   ]
  },
  {
   "cell_type": "markdown",
   "metadata": {},
   "source": [
    "# Ridge REgression - L2"
   ]
  },
  {
   "cell_type": "code",
   "execution_count": 8,
   "metadata": {},
   "outputs": [
    {
     "name": "stdout",
     "output_type": "stream",
     "text": [
      "MSE =  9839.902975870638\n",
      "score =  0.1266090385180313\n"
     ]
    }
   ],
   "source": [
    "from sklearn.linear_model import Ridge\n",
    "##Training the model\n",
    "ridgeReg = Ridge(alpha=0.05,normalize=True)\n",
    "ridgeReg.fit(X_train,Y_train)\n",
    "pred = ridgeReg.predict(X_test)\n",
    "##Calculating MSE\n",
    "MSE = np.mean((pred-Y_test)**2)\n",
    "print('MSE = ',MSE)\n",
    "##Calculating Score\n",
    "print('score = ',ridgeReg.score(X_test,Y_test))"
   ]
  },
  {
   "cell_type": "markdown",
   "metadata": {},
   "source": [
    "# Elastic Regression  "
   ]
  },
  {
   "cell_type": "code",
   "execution_count": 10,
   "metadata": {},
   "outputs": [
    {
     "name": "stdout",
     "output_type": "stream",
     "text": [
      "MSE =  9892.615167382928\n",
      "score =  0.12193029811381839\n"
     ]
    }
   ],
   "source": [
    "from sklearn.linear_model import ElasticNet\n",
    "##Training the model\n",
    "ENReg = ElasticNet(alpha=1,l1_ratio=0.5,normalize=False)\n",
    "ENReg.fit(X_train,Y_train)\n",
    "pred = ENReg.predict(X_test)\n",
    "##Calculating MSE\n",
    "MSE = np.mean((pred-Y_test)**2)\n",
    "print('MSE = ',MSE)\n",
    "##Calculating Score\n",
    "print('score = ',ENReg.score(X_test,Y_test))"
   ]
  },
  {
   "cell_type": "markdown",
   "metadata": {},
   "source": [
    "# Grid Search - Extra Tree"
   ]
  },
  {
   "cell_type": "code",
   "execution_count": 11,
   "metadata": {},
   "outputs": [],
   "source": [
    "from sklearn.model_selection import GridSearchCV\n",
    "\n",
    "# Create the parameter grid based on the results of random search \n",
    "param_grid = {\n",
    "    \"n_estimators\": [300,400,500,600,800],\n",
    "    \"max_features\": [\"log2\"],\n",
    "    \"max_depth\": [50,100,150]\n",
    "}\n",
    "\n",
    "# Create a based model\n",
    "sel_model = ExtraTreesRegressor(random_state=42)\n",
    "\n",
    "# Instantiate the grid search model\n",
    "grid_search = GridSearchCV(estimator = sel_model, param_grid = param_grid, \n",
    "                          cv = 3, n_jobs = 2, verbose = 2)\n"
   ]
  },
  {
   "cell_type": "code",
   "execution_count": 12,
   "metadata": {},
   "outputs": [
    {
     "name": "stdout",
     "output_type": "stream",
     "text": [
      "Fitting 3 folds for each of 15 candidates, totalling 45 fits\n"
     ]
    },
    {
     "name": "stderr",
     "output_type": "stream",
     "text": [
      "[Parallel(n_jobs=2)]: Done  37 tasks      | elapsed:  3.5min\n",
      "[Parallel(n_jobs=2)]: Done  45 out of  45 | elapsed:  4.6min finished\n"
     ]
    },
    {
     "data": {
      "text/plain": [
       "{'max_depth': 50, 'max_features': 'log2', 'n_estimators': 800}"
      ]
     },
     "execution_count": 12,
     "metadata": {},
     "output_type": "execute_result"
    }
   ],
   "source": [
    "grid_search.fit(X_train, Y_train)\n",
    "grid_search.best_params_"
   ]
  },
  {
   "cell_type": "markdown",
   "metadata": {},
   "source": [
    "# Bias - Variance Trade Off "
   ]
  },
  {
   "cell_type": "code",
   "execution_count": 23,
   "metadata": {},
   "outputs": [],
   "source": [
    "def plot_learning_curve(estimator, title, X, y, ylim=None, cv=None,\n",
    "                        n_jobs=1, train_sizes=np.linspace(.1, 1.0, 5)):\n",
    "    plt.figure()\n",
    "    plt.title(title)\n",
    "    if ylim is not None:\n",
    "        plt.ylim(*ylim)\n",
    "    plt.xlabel(\"Training examples\")\n",
    "    plt.ylabel(\"Score\")\n",
    "    train_sizes, train_scores, test_scores = learning_curve(\n",
    "        estimator, X, y, cv=cv, n_jobs=n_jobs, train_sizes=train_sizes)\n",
    "    train_scores_mean = np.mean(train_scores, axis=1)\n",
    "    train_scores_std = np.std(train_scores, axis=1)\n",
    "    test_scores_mean = np.mean(test_scores, axis=1)\n",
    "    test_scores_std = np.std(test_scores, axis=1)\n",
    "    plt.grid()\n",
    "\n",
    "    plt.fill_between(train_sizes, train_scores_mean - train_scores_std,\n",
    "                     train_scores_mean + train_scores_std, alpha=0.1,\n",
    "                     color=\"r\")\n",
    "    plt.fill_between(train_sizes, test_scores_mean - test_scores_std,\n",
    "                     test_scores_mean + test_scores_std, alpha=0.1, color=\"g\")\n",
    "    plt.plot(train_sizes, train_scores_mean, 'o-', color=\"r\",\n",
    "             label=\"Training score\")\n",
    "    plt.plot(train_sizes, test_scores_mean, 'o-', color=\"g\",\n",
    "             label=\"Cross-validation score\")\n",
    "\n",
    "    plt.legend(loc=\"best\")\n",
    "    return plt"
   ]
  },
  {
   "cell_type": "code",
   "execution_count": 17,
   "metadata": {},
   "outputs": [],
   "source": [
    "dataset = pd.read_csv('./Documents/Revised_data.csv')\n",
    "dataset = dataset.drop('date',1)\n",
    "dataset = dataset.drop('Date_number',1)\n",
    "dataset = dataset.drop('Time',1)\n",
    "dataset = dataset.drop('Day_of_week',1)"
   ]
  },
  {
   "cell_type": "code",
   "execution_count": 19,
   "metadata": {},
   "outputs": [],
   "source": [
    "X = dataset.iloc[:,3:31].values\n",
    "Y = dataset.iloc[:,31].values"
   ]
  },
  {
   "cell_type": "code",
   "execution_count": 24,
   "metadata": {},
   "outputs": [
    {
     "data": {
      "image/png": "[encoded data removed]",
      "text/plain": [
       "<Figure size 432x288 with 1 Axes>"
      ]
     },
     "metadata": {
      "needs_background": "light"
     },
     "output_type": "display_data"
    }
   ],
   "source": [
    "title = \"Learning Curves (Extra Trees Regressor)\"\n",
    "estimator = ExtraTreesRegressor()\n",
    "plot_learning_curve(estimator, title, X, Y, cv=3, n_jobs=4)\n",
    "plt.show()"
   ]
  },
  {
   "cell_type": "code",
   "execution_count": 26,
   "metadata": {},
   "outputs": [
    {
     "data": {
      "image/png": "[encoded data removed]",
      "text/plain": [
       "<Figure size 432x288 with 1 Axes>"
      ]
     },
     "metadata": {
      "needs_background": "light"
     },
     "output_type": "display_data"
    }
   ],
   "source": [
    "title = \"Learning Curves (Random Forest)\"\n",
    "estimator = RandomForestRegressor()\n",
    "plot_learning_curve(estimator, title, X, Y, cv=3, n_jobs=4)\n",
    "plt.show()"
   ]
  }
 ],
 "metadata": {
  "kernelspec": {
   "display_name": "Python 3",
   "language": "python",
   "name": "python3"
  },
  "language_info": {
   "codemirror_mode": {
    "name": "ipython",
    "version": 3
   },
   "file_extension": ".py",
   "mimetype": "text/x-python",
   "name": "python",
   "nbconvert_exporter": "python",
   "pygments_lexer": "ipython3",
   "version": "3.7.0"
  }
 },
 "nbformat": 4,
 "nbformat_minor": 2
}
