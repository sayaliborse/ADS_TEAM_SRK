{
 "cells": [
  {
   "cell_type": "markdown",
   "metadata": {},
   "source": [
    "#                           Prediction of appliances energy use in smart homes\n",
    "\n",
    "> **Title** - &nbsp;&nbsp;&nbsp;&nbsp;&nbsp;&nbsp; <a href='https://www.sciencedirect.com/science/article/pii/S0360544212002903\n",
    "'> Prediction of appliances energy use in smart homes</a> <br>\n",
    "> **Authors** - &nbsp;Nicoleta &nbsp;Arghiraab , &nbsp; Lamis &nbsp;Hawaraha , &nbsp;Stéphane &nbsp;Ploixa , &nbsp; Mireille &nbsp;Jacomino\n"
   ]
  },
  {
   "cell_type": "markdown",
   "metadata": {},
   "source": [
    "### Abstract\n",
    "The aim of this paper is to predict the next day electricity consumption for the appliances in home depending on the historical \n",
    "data of France. We have tried to study the total energy consumed in each house and for each appliance. To do dynamic demand-side management,\n",
    "we need to do energy saving depending on the appliances.\n"
   ]
  },
  {
   "cell_type": "markdown",
   "metadata": {},
   "source": [
    "### The need for energy prediction in housing\n",
    "There are lot of power system challenges we face every day. \n",
    "Smart grid was one of the solution to it. Smart grid integrates the use of sensors, communications, computation ability \n",
    "and control to enhance the overall functionality of the electric power system. \n",
    "The main purpose of the electrical grid is to assure the energy production necessary for consumers consumption, load control, \n",
    "fix shifting and radius voluntary load Management have been already implemented. \n",
    "Load management involves two types of Load control: - Direct Control and control by cost. Direct control refers the classical \n",
    "method of load control which involve in case of higher load demand. \n",
    "Energy Market is a powerful instrument that sets the prices between the energy producers and energy suppliers and consumers. \n",
    "Energy Market plays an important role in the power system but is a complex mechanism."
   ]
  },
  {
   "cell_type": "markdown",
   "metadata": {},
   "source": [
    "\n",
    "### Energy prediction methodology for appliances in homes\n",
    "Energy Market is divided into two categories- Day-Ahead Market and Spot Market. \n",
    "The participation in the Day-ahead Energy Market imposes a dynamic energy management which checks hour by hour changes in the \n",
    "energy production/ consumption ratio. The smart home represents an important component in the smart grid. \n",
    "It allows control of the services in the house to a home automation system. \n",
    "The solution in keeping a good energy management is to manage this type of load demand through price constraints. \n",
    "In order to get a better load control, \n",
    "the energy prediction has to go down from total household energy consumption to electrical device consumption. \n",
    "\n",
    "When we consider the control by cost, prediction is also important. The home management system is very dependent on the forecast \n",
    "of prediction for the services in the house. This automatic system takes into account of the optimal energy plan and \n",
    "decides the postponing of consumption for certain appliances. \n",
    "The predictor values varies and are:\n",
    "\n",
    "### Prediction with predictors:\n",
    "\n",
    "1. The “will always consume” predictor\n",
    "2. The “will never consume” predictor\n",
    "3. The ARMA predictor\n",
    "4. The proposed predictor\n",
    "\n",
    "\n",
    "To improve the prediction precision, we can use segmentation of data. The segmentation of data can be made considering \n",
    "different aspects such as the season, month, period of the day (day/night), type of day (weekday/weekend). The objective of this operation is to reduce the average dispersion in order to improve the prediction. After the segmentation is done, we will merge the segments that are similar using a clustering algorithm in order to gather the nonmeaningful segments. A temporal segmentation, that considers each day of the week as a partition was done. For each segment, the hourly predictions are made considering the proposed predictor. A k-Means clustering algorithm is applied to group the similar consumption days. The k-Means algorithm assumes a fixed number of clusters, specified in advance. Each cluster is defined by its cluster center and clustering proceeds by assigning each of the input data to the cluster with the closest center. The grouping is done by minimizing the sum of squares of distances between data and the corresponding cluster centroid.\n",
    "\n",
    "The prediction precision after clustering After applying the iterative k-Means algorithm, two clusters are obtained. In the presented case, cluster C1 groups weekdays data and cluster C2 gathers Saturday and Sunday data. After the clusters are obtained, the initial data corresponding to the energy consumption is divided into 2 sets according to the number of clusters and the considered segments. The predictor in Section 4 is then applied to get the prediction precision."
   ]
  },
  {
   "cell_type": "markdown",
   "metadata": {},
   "source": [
    "### Conclusion\n",
    "Forecasting the energy consumption in homes is an important aspect in the power management of the grid, as the consumption in the residential sector represents a significant percentage in the total electricity demand. A relevant predictor is based on the segmentation of data considering the patterns in energy consumption. The historical data is divided according to the results of the k-means clustering algorithm. This procedure improves the precision of the predictor."
   ]
  },
  {
   "cell_type": "code",
   "execution_count": null,
   "metadata": {},
   "outputs": [],
   "source": []
  }
 ],
 "metadata": {
  "kernelspec": {
   "display_name": "Python 3",
   "language": "python",
   "name": "python3"
  },
  "language_info": {
   "codemirror_mode": {
    "name": "ipython",
    "version": 3
   },
   "file_extension": ".py",
   "mimetype": "text/x-python",
   "name": "python",
   "nbconvert_exporter": "python",
   "pygments_lexer": "ipython3",
   "version": "3.7.0"
  },
  "widgets": {
   "application/vnd.jupyter.widget-state+json": {
    "state": {},
    "version_major": 2,
    "version_minor": 0
   }
  }
 },
 "nbformat": 4,
 "nbformat_minor": 2
}
