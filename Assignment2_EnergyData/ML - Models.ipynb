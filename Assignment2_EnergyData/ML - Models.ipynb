{
 "cells": [
  {
   "cell_type": "code",
   "execution_count": 62,
   "metadata": {},
   "outputs": [],
   "source": [
    "import pandas as pd\n",
    "import numpy as np\n",
    "import seaborn as sns\n",
    "from sklearn.metrics import*\n",
    "import math"
   ]
  },
  {
   "cell_type": "code",
   "execution_count": 6,
   "metadata": {},
   "outputs": [],
   "source": [
    "#Renaming Coloumns for better Understanding\n",
    "training_data = pd.read_csv('./Documents/training.csv') \n",
    "training_data.rename(columns={'T1':'Kitchen_Temp','RH_1':'Kitchen_Hum','T2':'LivingRoom_Temp','RH_2':'LivingRoom_Hum',\n",
    "                   'T3':'LaundryRoom_Temp','RH_3':'LaundryRoom_Hum','T4':'OfficeRoom_Temp','RH_4':'OfficeRoom_Hum',\n",
    "                   'T5':'BathRoom_Temp','RH_5':'BathRoom_Hum','T6':'OutsideNorth_Temp','RH_6':'OutsideNorth_Hum',\n",
    "                   'T7':'IroningRoom_Temp','RH_7':'IroningRoom_Hum','T8':'TeenagerRoom_Temp','RH_8':'TeenagerRoom_Hum',\n",
    "                   'T9':'ParentRoom_Temp','RH_9':'ParentRoom_Hum','T_out':'Outside_Temp','Press_mm_hg':'Pressure',\n",
    "                   'RH_out':'Humidity'},inplace=True)\n",
    "training_data['Energy_consumed'] = training_data['Appliances'] + training_data['lights']\n",
    "#Selecting Columns for our model\n",
    "x_train = training_data[['Kitchen_Temp','Kitchen_Hum','LivingRoom_Temp','LivingRoom_Hum',\n",
    "                   'LaundryRoom_Temp','LaundryRoom_Hum','OfficeRoom_Temp','OfficeRoom_Hum',\n",
    "                   'BathRoom_Temp','BathRoom_Hum','OutsideNorth_Temp','OutsideNorth_Hum',\n",
    "                   'IroningRoom_Temp','IroningRoom_Hum','TeenagerRoom_Temp','TeenagerRoom_Hum',\n",
    "                   'ParentRoom_Temp','ParentRoom_Hum','Outside_Temp','Pressure',\n",
    "                   'Humidity','Windspeed','Visibility','Tdewpoint','rv1','NSM']]\n",
    "y_train = training_data['Energy_consumed']"
   ]
  },
  {
   "cell_type": "code",
   "execution_count": 39,
   "metadata": {},
   "outputs": [
    {
     "name": "stdout",
     "output_type": "stream",
     "text": [
      "<class 'pandas.core.frame.DataFrame'>\n",
      "RangeIndex: 14803 entries, 0 to 14802\n",
      "Data columns (total 26 columns):\n",
      "Kitchen_Temp         14803 non-null float64\n",
      "Kitchen_Hum          14803 non-null float64\n",
      "LivingRoom_Temp      14803 non-null float64\n",
      "LivingRoom_Hum       14803 non-null float64\n",
      "LaundryRoom_Temp     14803 non-null float64\n",
      "LaundryRoom_Hum      14803 non-null float64\n",
      "OfficeRoom_Temp      14803 non-null float64\n",
      "OfficeRoom_Hum       14803 non-null float64\n",
      "BathRoom_Temp        14803 non-null float64\n",
      "BathRoom_Hum         14803 non-null float64\n",
      "OutsideNorth_Temp    14803 non-null float64\n",
      "OutsideNorth_Hum     14803 non-null float64\n",
      "IroningRoom_Temp     14803 non-null float64\n",
      "IroningRoom_Hum      14803 non-null float64\n",
      "TeenagerRoom_Temp    14803 non-null float64\n",
      "TeenagerRoom_Hum     14803 non-null float64\n",
      "ParentRoom_Temp      14803 non-null float64\n",
      "ParentRoom_Hum       14803 non-null float64\n",
      "Outside_Temp         14803 non-null float64\n",
      "Pressure             14803 non-null float64\n",
      "Humidity             14803 non-null float64\n",
      "Windspeed            14803 non-null float64\n",
      "Visibility           14803 non-null float64\n",
      "Tdewpoint            14803 non-null float64\n",
      "rv1                  14803 non-null float64\n",
      "NSM                  14803 non-null int64\n",
      "dtypes: float64(25), int64(1)\n",
      "memory usage: 2.9 MB\n"
     ]
    }
   ],
   "source": [
    "x_train.info()"
   ]
  },
  {
   "cell_type": "code",
   "execution_count": 7,
   "metadata": {},
   "outputs": [],
   "source": [
    "testing_data = pd.read_csv('./Documents/testing.csv') \n",
    "testing_data['Energy_consumed'] =testing_data['Appliances'] + testing_data['lights']\n",
    "testing_data.rename(columns={'T1':'Kitchen_Temp','RH_1':'Kitchen_Hum','T2':'LivingRoom_Temp','RH_2':'LivingRoom_Hum',\n",
    "                   'T3':'LaundryRoom_Temp','RH_3':'LaundryRoom_Hum','T4':'OfficeRoom_Temp','RH_4':'OfficeRoom_Hum',\n",
    "                   'T5':'BathRoom_Temp','RH_5':'BathRoom_Hum','T6':'OutsideNorth_Temp','RH_6':'OutsideNorth_Hum',\n",
    "                   'T7':'IroningRoom_Temp','RH_7':'IroningRoom_Hum','T8':'TeenagerRoom_Temp','RH_8':'TeenagerRoom_Hum',\n",
    "                   'T9':'ParentRoom_Temp','RH_9':'ParentRoom_Hum','T_out':'Outside_Temp','Press_mm_hg':'Pressure',\n",
    "                   'RH_out':'Humidity'},inplace=True)\n",
    "x_test = testing_data[['Kitchen_Temp','Kitchen_Hum','LivingRoom_Temp','LivingRoom_Hum',\n",
    "                   'LaundryRoom_Temp','LaundryRoom_Hum','OfficeRoom_Temp','OfficeRoom_Hum',\n",
    "                   'BathRoom_Temp','BathRoom_Hum','OutsideNorth_Temp','OutsideNorth_Hum',\n",
    "                   'IroningRoom_Temp','IroningRoom_Hum','TeenagerRoom_Temp','TeenagerRoom_Hum',\n",
    "                   'ParentRoom_Temp','ParentRoom_Hum','Outside_Temp','Pressure',\n",
    "                   'Humidity','Windspeed','Visibility','Tdewpoint','rv1','NSM']]\n",
    "y_test = testing_data[['Energy_consumed']]"
   ]
  },
  {
   "cell_type": "code",
   "execution_count": 31,
   "metadata": {},
   "outputs": [
    {
     "name": "stdout",
     "output_type": "stream",
     "text": [
      "<class 'pandas.core.frame.DataFrame'>\n",
      "RangeIndex: 4932 entries, 0 to 4931\n",
      "Data columns (total 33 columns):\n",
      "date               4932 non-null object\n",
      "Appliances         4932 non-null int64\n",
      "lights             4932 non-null int64\n",
      "T1                 4932 non-null float64\n",
      "RH_1               4932 non-null float64\n",
      "T2                 4932 non-null float64\n",
      "RH_2               4932 non-null float64\n",
      "T3                 4932 non-null float64\n",
      "RH_3               4932 non-null float64\n",
      "T4                 4932 non-null float64\n",
      "RH_4               4932 non-null float64\n",
      "T5                 4932 non-null float64\n",
      "RH_5               4932 non-null float64\n",
      "T6                 4932 non-null float64\n",
      "RH_6               4932 non-null float64\n",
      "T7                 4932 non-null float64\n",
      "RH_7               4932 non-null float64\n",
      "T8                 4932 non-null float64\n",
      "RH_8               4932 non-null float64\n",
      "T9                 4932 non-null float64\n",
      "RH_9               4932 non-null float64\n",
      "T_out              4932 non-null float64\n",
      "Press_mm_hg        4932 non-null float64\n",
      "RH_out             4932 non-null float64\n",
      "Windspeed          4932 non-null float64\n",
      "Visibility         4932 non-null float64\n",
      "Tdewpoint          4932 non-null float64\n",
      "rv1                4932 non-null float64\n",
      "rv2                4932 non-null float64\n",
      "NSM                4932 non-null int64\n",
      "WeekStatus         4932 non-null object\n",
      "Day_of_week        4932 non-null object\n",
      "Energy_consumed    4932 non-null int64\n",
      "dtypes: float64(26), int64(4), object(3)\n",
      "memory usage: 1.2+ MB\n"
     ]
    }
   ],
   "source": [
    "testing_data.info()"
   ]
  },
  {
   "cell_type": "code",
   "execution_count": 25,
   "metadata": {},
   "outputs": [],
   "source": [
    "import math \n",
    "def mean_absolute_percentage_error(y_train,y_predicted): \n",
    "    y_train, y_predicted = np.array(y_train), np.array(y_predicted)\n",
    "    return np.mean(np.abs((y_train,y_predicted) / y_train)) * 100"
   ]
  },
  {
   "cell_type": "code",
   "execution_count": 14,
   "metadata": {},
   "outputs": [],
   "source": [
    "#Implementing Linear Regression Model\n",
    "from sklearn.linear_model import LinearRegression\n",
    "regressor = LinearRegression()"
   ]
  },
  {
   "cell_type": "code",
   "execution_count": null,
   "metadata": {},
   "outputs": [],
   "source": []
  },
  {
   "cell_type": "code",
   "execution_count": 15,
   "metadata": {},
   "outputs": [
    {
     "data": {
      "text/plain": [
       "LinearRegression(copy_X=True, fit_intercept=True, n_jobs=1, normalize=False)"
      ]
     },
     "execution_count": 15,
     "metadata": {},
     "output_type": "execute_result"
    }
   ],
   "source": [
    "regressor.fit(x_train,y_train)"
   ]
  },
  {
   "cell_type": "code",
   "execution_count": null,
   "metadata": {},
   "outputs": [],
   "source": []
  },
  {
   "cell_type": "code",
   "execution_count": 16,
   "metadata": {},
   "outputs": [
    {
     "data": {
      "text/plain": [
       "array([109.85396258, 105.1846842 , 106.64457095, ..., 146.21316812,\n",
       "       125.80300663, 117.10142278])"
      ]
     },
     "execution_count": 16,
     "metadata": {},
     "output_type": "execute_result"
    }
   ],
   "source": [
    "y_predictedValues = regressor.predict(x_test)\n",
    "y_predictedValues"
   ]
  },
  {
   "cell_type": "code",
   "execution_count": null,
   "metadata": {},
   "outputs": [],
   "source": []
  },
  {
   "cell_type": "code",
   "execution_count": null,
   "metadata": {},
   "outputs": [],
   "source": []
  },
  {
   "cell_type": "code",
   "execution_count": 17,
   "metadata": {},
   "outputs": [],
   "source": [
    "df_y_pred = pd.DataFrame([y_predictedValues]) ##making a dataframe\n",
    "df_y_pred = df_y_pred.T ##transposing the dataframe\n",
    "result = pd.concat([y_test, df_y_pred], axis=1) ##joining both the dataframes"
   ]
  },
  {
   "cell_type": "code",
   "execution_count": null,
   "metadata": {},
   "outputs": [],
   "source": []
  },
  {
   "cell_type": "code",
   "execution_count": 18,
   "metadata": {},
   "outputs": [],
   "source": [
    "import matplotlib.pyplot as plt\n",
    "import seaborn as sns"
   ]
  },
  {
   "cell_type": "code",
   "execution_count": null,
   "metadata": {},
   "outputs": [],
   "source": []
  },
  {
   "cell_type": "code",
   "execution_count": 19,
   "metadata": {},
   "outputs": [],
   "source": [
    "#Residual Distribution Plot\n",
    "y_test_list = y_test.values.tolist()\n",
    "y_predictedValues_list = y_predictedValues.tolist()"
   ]
  },
  {
   "cell_type": "code",
   "execution_count": null,
   "metadata": {},
   "outputs": [],
   "source": []
  },
  {
   "cell_type": "code",
   "execution_count": 20,
   "metadata": {},
   "outputs": [
    {
     "name": "stderr",
     "output_type": "stream",
     "text": [
      "C:\\Users\\rishi\\Anaconda3\\lib\\site-packages\\scipy\\stats\\stats.py:1713: FutureWarning: Using a non-tuple sequence for multidimensional indexing is deprecated; use `arr[tuple(seq)]` instead of `arr[seq]`. In the future this will be interpreted as an array index, `arr[np.array(seq)]`, which will result either in an error or a different result.\n",
      "  return np.add.reduce(sorted[indexer] * weights, axis=axis) / sumval\n"
     ]
    },
    {
     "data": {
      "image/png": "[encoded data removed]",
      "text/plain": [
       "<Figure size 432x288 with 1 Axes>"
      ]
     },
     "metadata": {
      "needs_background": "light"
     },
     "output_type": "display_data"
    }
   ],
   "source": [
    "import matplotlib.pyplot as plt\n",
    "sns.distplot((y_test['Energy_consumed']-y_predictedValues))\n",
    "plt.show();"
   ]
  },
  {
   "cell_type": "code",
   "execution_count": null,
   "metadata": {},
   "outputs": [],
   "source": []
  },
  {
   "cell_type": "code",
   "execution_count": 21,
   "metadata": {},
   "outputs": [
    {
     "data": {
      "image/png": "[encoded data removed]",
      "text/plain": [
       "<Figure size 432x288 with 1 Axes>"
      ]
     },
     "metadata": {
      "needs_background": "light"
     },
     "output_type": "display_data"
    }
   ],
   "source": [
    "plt.scatter(x=y_test,y=y_predictedValues, c='RB')\n",
    "plt.show()"
   ]
  },
  {
   "cell_type": "code",
   "execution_count": null,
   "metadata": {},
   "outputs": [],
   "source": []
  },
  {
   "cell_type": "code",
   "execution_count": 22,
   "metadata": {},
   "outputs": [
    {
     "data": {
      "text/plain": [
       "0.1643551176515381"
      ]
     },
     "execution_count": 22,
     "metadata": {},
     "output_type": "execute_result"
    }
   ],
   "source": [
    "regressor.score(x_train,y_train)"
   ]
  },
  {
   "cell_type": "code",
   "execution_count": null,
   "metadata": {},
   "outputs": [],
   "source": []
  },
  {
   "cell_type": "code",
   "execution_count": 23,
   "metadata": {},
   "outputs": [
    {
     "data": {
      "text/html": [
       "<table class=\"simpletable\">\n",
       "<caption>OLS Regression Results</caption>\n",
       "<tr>\n",
       "  <th>Dep. Variable:</th>     <td>Energy_consumed</td> <th>  R-squared:         </th> <td>   0.164</td> \n",
       "</tr>\n",
       "<tr>\n",
       "  <th>Model:</th>                   <td>OLS</td>       <th>  Adj. R-squared:    </th> <td>   0.163</td> \n",
       "</tr>\n",
       "<tr>\n",
       "  <th>Method:</th>             <td>Least Squares</td>  <th>  F-statistic:       </th> <td>   111.8</td> \n",
       "</tr>\n",
       "<tr>\n",
       "  <th>Date:</th>             <td>Sat, 03 Nov 2018</td> <th>  Prob (F-statistic):</th>  <td>  0.00</td>  \n",
       "</tr>\n",
       "<tr>\n",
       "  <th>Time:</th>                 <td>17:46:07</td>     <th>  Log-Likelihood:    </th> <td> -88520.</td> \n",
       "</tr>\n",
       "<tr>\n",
       "  <th>No. Observations:</th>      <td> 14803</td>      <th>  AIC:               </th> <td>1.771e+05</td>\n",
       "</tr>\n",
       "<tr>\n",
       "  <th>Df Residuals:</th>          <td> 14776</td>      <th>  BIC:               </th> <td>1.773e+05</td>\n",
       "</tr>\n",
       "<tr>\n",
       "  <th>Df Model:</th>              <td>    26</td>      <th>                     </th>     <td> </td>    \n",
       "</tr>\n",
       "<tr>\n",
       "  <th>Covariance Type:</th>      <td>nonrobust</td>    <th>                     </th>     <td> </td>    \n",
       "</tr>\n",
       "</table>\n",
       "<table class=\"simpletable\">\n",
       "<tr>\n",
       "    <td></td>       <th>coef</th>     <th>std err</th>      <th>t</th>      <th>P>|t|</th>  <th>[0.025</th>    <th>0.975]</th>  \n",
       "</tr>\n",
       "<tr>\n",
       "  <th>const</th> <td> -101.2915</td> <td>  111.524</td> <td>   -0.908</td> <td> 0.364</td> <td> -319.892</td> <td>  117.309</td>\n",
       "</tr>\n",
       "<tr>\n",
       "  <th>x1</th>    <td>   -3.4078</td> <td>    2.190</td> <td>   -1.556</td> <td> 0.120</td> <td>   -7.701</td> <td>    0.885</td>\n",
       "</tr>\n",
       "<tr>\n",
       "  <th>x2</th>    <td>   15.5414</td> <td>    0.795</td> <td>   19.544</td> <td> 0.000</td> <td>   13.983</td> <td>   17.100</td>\n",
       "</tr>\n",
       "<tr>\n",
       "  <th>x3</th>    <td>  -21.7561</td> <td>    1.924</td> <td>  -11.309</td> <td> 0.000</td> <td>  -25.527</td> <td>  -17.985</td>\n",
       "</tr>\n",
       "<tr>\n",
       "  <th>x4</th>    <td>  -14.8924</td> <td>    0.903</td> <td>  -16.501</td> <td> 0.000</td> <td>  -16.661</td> <td>  -13.123</td>\n",
       "</tr>\n",
       "<tr>\n",
       "  <th>x5</th>    <td>   27.9205</td> <td>    1.242</td> <td>   22.483</td> <td> 0.000</td> <td>   25.486</td> <td>   30.355</td>\n",
       "</tr>\n",
       "<tr>\n",
       "  <th>x6</th>    <td>    5.5878</td> <td>    0.797</td> <td>    7.014</td> <td> 0.000</td> <td>    4.026</td> <td>    7.149</td>\n",
       "</tr>\n",
       "<tr>\n",
       "  <th>x7</th>    <td>    6.8735</td> <td>    1.145</td> <td>    6.004</td> <td> 0.000</td> <td>    4.630</td> <td>    9.117</td>\n",
       "</tr>\n",
       "<tr>\n",
       "  <th>x8</th>    <td>    1.8610</td> <td>    0.752</td> <td>    2.474</td> <td> 0.013</td> <td>    0.386</td> <td>    3.336</td>\n",
       "</tr>\n",
       "<tr>\n",
       "  <th>x9</th>    <td>   -1.8874</td> <td>    1.385</td> <td>   -1.363</td> <td> 0.173</td> <td>   -4.601</td> <td>    0.827</td>\n",
       "</tr>\n",
       "<tr>\n",
       "  <th>x10</th>   <td>    0.1842</td> <td>    0.103</td> <td>    1.787</td> <td> 0.074</td> <td>   -0.018</td> <td>    0.386</td>\n",
       "</tr>\n",
       "<tr>\n",
       "  <th>x11</th>   <td>    8.3881</td> <td>    0.747</td> <td>   11.232</td> <td> 0.000</td> <td>    6.924</td> <td>    9.852</td>\n",
       "</tr>\n",
       "<tr>\n",
       "  <th>x12</th>   <td>    0.4210</td> <td>    0.080</td> <td>    5.281</td> <td> 0.000</td> <td>    0.265</td> <td>    0.577</td>\n",
       "</tr>\n",
       "<tr>\n",
       "  <th>x13</th>   <td>    0.9972</td> <td>    1.550</td> <td>    0.644</td> <td> 0.520</td> <td>   -2.040</td> <td>    4.035</td>\n",
       "</tr>\n",
       "<tr>\n",
       "  <th>x14</th>   <td>   -2.1929</td> <td>    0.507</td> <td>   -4.323</td> <td> 0.000</td> <td>   -3.187</td> <td>   -1.198</td>\n",
       "</tr>\n",
       "<tr>\n",
       "  <th>x15</th>   <td>   10.7466</td> <td>    1.134</td> <td>    9.480</td> <td> 0.000</td> <td>    8.525</td> <td>   12.969</td>\n",
       "</tr>\n",
       "<tr>\n",
       "  <th>x16</th>   <td>   -4.9981</td> <td>    0.459</td> <td>  -10.880</td> <td> 0.000</td> <td>   -5.899</td> <td>   -4.098</td>\n",
       "</tr>\n",
       "<tr>\n",
       "  <th>x17</th>   <td>  -21.0804</td> <td>    2.090</td> <td>  -10.086</td> <td> 0.000</td> <td>  -25.177</td> <td>  -16.984</td>\n",
       "</tr>\n",
       "<tr>\n",
       "  <th>x18</th>   <td>   -0.8939</td> <td>    0.498</td> <td>   -1.794</td> <td> 0.073</td> <td>   -1.870</td> <td>    0.083</td>\n",
       "</tr>\n",
       "<tr>\n",
       "  <th>x19</th>   <td>  -10.6212</td> <td>    1.787</td> <td>   -5.942</td> <td> 0.000</td> <td>  -14.125</td> <td>   -7.118</td>\n",
       "</tr>\n",
       "<tr>\n",
       "  <th>x20</th>   <td>    0.1854</td> <td>    0.126</td> <td>    1.475</td> <td> 0.140</td> <td>   -0.061</td> <td>    0.432</td>\n",
       "</tr>\n",
       "<tr>\n",
       "  <th>x21</th>   <td>   -0.6049</td> <td>    0.371</td> <td>   -1.630</td> <td> 0.103</td> <td>   -1.332</td> <td>    0.122</td>\n",
       "</tr>\n",
       "<tr>\n",
       "  <th>x22</th>   <td>    2.4965</td> <td>    0.408</td> <td>    6.123</td> <td> 0.000</td> <td>    1.697</td> <td>    3.296</td>\n",
       "</tr>\n",
       "<tr>\n",
       "  <th>x23</th>   <td>    0.1595</td> <td>    0.068</td> <td>    2.346</td> <td> 0.019</td> <td>    0.026</td> <td>    0.293</td>\n",
       "</tr>\n",
       "<tr>\n",
       "  <th>x24</th>   <td>    3.7060</td> <td>    1.747</td> <td>    2.121</td> <td> 0.034</td> <td>    0.281</td> <td>    7.131</td>\n",
       "</tr>\n",
       "<tr>\n",
       "  <th>x25</th>   <td>   -0.0468</td> <td>    0.054</td> <td>   -0.860</td> <td> 0.390</td> <td>   -0.153</td> <td>    0.060</td>\n",
       "</tr>\n",
       "<tr>\n",
       "  <th>x26</th>   <td>    0.0004</td> <td> 4.55e-05</td> <td>    9.128</td> <td> 0.000</td> <td>    0.000</td> <td>    0.001</td>\n",
       "</tr>\n",
       "</table>\n",
       "<table class=\"simpletable\">\n",
       "<tr>\n",
       "  <th>Omnibus:</th>       <td>10133.575</td> <th>  Durbin-Watson:     </th>  <td>   0.749</td> \n",
       "</tr>\n",
       "<tr>\n",
       "  <th>Prob(Omnibus):</th>  <td> 0.000</td>   <th>  Jarque-Bera (JB):  </th> <td>139426.502</td>\n",
       "</tr>\n",
       "<tr>\n",
       "  <th>Skew:</th>           <td> 3.203</td>   <th>  Prob(JB):          </th>  <td>    0.00</td> \n",
       "</tr>\n",
       "<tr>\n",
       "  <th>Kurtosis:</th>       <td>16.602</td>   <th>  Cond. No.          </th>  <td>7.04e+06</td> \n",
       "</tr>\n",
       "</table><br/><br/>Warnings:<br/>[1] Standard Errors assume that the covariance matrix of the errors is correctly specified.<br/>[2] The condition number is large, 7.04e+06. This might indicate that there are<br/>strong multicollinearity or other numerical problems."
      ],
      "text/plain": [
       "<class 'statsmodels.iolib.summary.Summary'>\n",
       "\"\"\"\n",
       "                            OLS Regression Results                            \n",
       "==============================================================================\n",
       "Dep. Variable:        Energy_consumed   R-squared:                       0.164\n",
       "Model:                            OLS   Adj. R-squared:                  0.163\n",
       "Method:                 Least Squares   F-statistic:                     111.8\n",
       "Date:                Sat, 03 Nov 2018   Prob (F-statistic):               0.00\n",
       "Time:                        17:46:07   Log-Likelihood:                -88520.\n",
       "No. Observations:               14803   AIC:                         1.771e+05\n",
       "Df Residuals:                   14776   BIC:                         1.773e+05\n",
       "Df Model:                          26                                         \n",
       "Covariance Type:            nonrobust                                         \n",
       "==============================================================================\n",
       "                 coef    std err          t      P>|t|      [0.025      0.975]\n",
       "------------------------------------------------------------------------------\n",
       "const       -101.2915    111.524     -0.908      0.364    -319.892     117.309\n",
       "x1            -3.4078      2.190     -1.556      0.120      -7.701       0.885\n",
       "x2            15.5414      0.795     19.544      0.000      13.983      17.100\n",
       "x3           -21.7561      1.924    -11.309      0.000     -25.527     -17.985\n",
       "x4           -14.8924      0.903    -16.501      0.000     -16.661     -13.123\n",
       "x5            27.9205      1.242     22.483      0.000      25.486      30.355\n",
       "x6             5.5878      0.797      7.014      0.000       4.026       7.149\n",
       "x7             6.8735      1.145      6.004      0.000       4.630       9.117\n",
       "x8             1.8610      0.752      2.474      0.013       0.386       3.336\n",
       "x9            -1.8874      1.385     -1.363      0.173      -4.601       0.827\n",
       "x10            0.1842      0.103      1.787      0.074      -0.018       0.386\n",
       "x11            8.3881      0.747     11.232      0.000       6.924       9.852\n",
       "x12            0.4210      0.080      5.281      0.000       0.265       0.577\n",
       "x13            0.9972      1.550      0.644      0.520      -2.040       4.035\n",
       "x14           -2.1929      0.507     -4.323      0.000      -3.187      -1.198\n",
       "x15           10.7466      1.134      9.480      0.000       8.525      12.969\n",
       "x16           -4.9981      0.459    -10.880      0.000      -5.899      -4.098\n",
       "x17          -21.0804      2.090    -10.086      0.000     -25.177     -16.984\n",
       "x18           -0.8939      0.498     -1.794      0.073      -1.870       0.083\n",
       "x19          -10.6212      1.787     -5.942      0.000     -14.125      -7.118\n",
       "x20            0.1854      0.126      1.475      0.140      -0.061       0.432\n",
       "x21           -0.6049      0.371     -1.630      0.103      -1.332       0.122\n",
       "x22            2.4965      0.408      6.123      0.000       1.697       3.296\n",
       "x23            0.1595      0.068      2.346      0.019       0.026       0.293\n",
       "x24            3.7060      1.747      2.121      0.034       0.281       7.131\n",
       "x25           -0.0468      0.054     -0.860      0.390      -0.153       0.060\n",
       "x26            0.0004   4.55e-05      9.128      0.000       0.000       0.001\n",
       "==============================================================================\n",
       "Omnibus:                    10133.575   Durbin-Watson:                   0.749\n",
       "Prob(Omnibus):                  0.000   Jarque-Bera (JB):           139426.502\n",
       "Skew:                           3.203   Prob(JB):                         0.00\n",
       "Kurtosis:                      16.602   Cond. No.                     7.04e+06\n",
       "==============================================================================\n",
       "\n",
       "Warnings:\n",
       "[1] Standard Errors assume that the covariance matrix of the errors is correctly specified.\n",
       "[2] The condition number is large, 7.04e+06. This might indicate that there are\n",
       "strong multicollinearity or other numerical problems.\n",
       "\"\"\""
      ]
     },
     "execution_count": 23,
     "metadata": {},
     "output_type": "execute_result"
    }
   ],
   "source": [
    "import statsmodels.formula.api as sm\n",
    "X = np.append(arr=np.ones((len(training_data),1)).astype(int),values = x_train,axis = 1)\n",
    "x_withBias = X[:,0:32]\n",
    "regressor_OLS = sm.OLS(endog = y_train,exog = x_withBias).fit()\n",
    "regressor_OLS.summary()"
   ]
  },
  {
   "cell_type": "code",
   "execution_count": null,
   "metadata": {},
   "outputs": [],
   "source": []
  },
  {
   "cell_type": "markdown",
   "metadata": {},
   "source": []
  },
  {
   "cell_type": "raw",
   "metadata": {},
   "source": []
  },
  {
   "cell_type": "code",
   "execution_count": 59,
   "metadata": {},
   "outputs": [],
   "source": [
    "y_test_list = y_test['Energy_consumed'].values.tolist()\n"
   ]
  },
  {
   "cell_type": "code",
   "execution_count": 63,
   "metadata": {},
   "outputs": [
    {
     "name": "stdout",
     "output_type": "stream",
     "text": [
      "MAE of Training Data = 120.06722710333145\n",
      "RMSE of Training Data = 95.9351322989174\n",
      "R2 of Training Data = 0.14117391728015483\n",
      "MAPE of Training Data = 120.06722710333145\n"
     ]
    }
   ],
   "source": [
    "MAE = mean_absolute_percentage_error(y_test_list,y_predictedValues)\n",
    "print('MAE of Training Data =', MAE)\n",
    "## Mean squared error\n",
    "MSE = mean_squared_error(y_test_list,y_predictedValues)\n",
    "RMSE = math.sqrt(MSE)\n",
    "print('RMSE of Training Data =',RMSE)\n",
    "## R-square score of this model\n",
    "R2 = r2_score(y_test_list,y_predictedValues)\n",
    "print('R2 of Training Data =',R2)\n",
    "## MAPE of this model\n",
    "MAPE=mean_absolute_percentage_error(y_test_list,y_predictedValues)\n",
    "print('MAPE of Training Data =',MAPE)\n"
   ]
  },
  {
   "cell_type": "markdown",
   "metadata": {},
   "source": [
    "# Random Forest Implementation"
   ]
  },
  {
   "cell_type": "code",
   "execution_count": null,
   "metadata": {},
   "outputs": [],
   "source": [
    "# Implemnting Random Forest \n",
    "from sklearn.ensemble import RandomForestRegressor\n",
    "randomForest = RandomForestRegressor(n_estimators=100,random_state=np.random)\n",
    "randomForest.fit(x_train, y_train)"
   ]
  },
  {
   "cell_type": "code",
   "execution_count": 9,
   "metadata": {},
   "outputs": [
    {
     "data": {
      "text/plain": [
       "0.9428852596412418"
      ]
     },
     "execution_count": 9,
     "metadata": {},
     "output_type": "execute_result"
    }
   ],
   "source": [
    "randomForest.score(x_train, y_train)"
   ]
  },
  {
   "cell_type": "code",
   "execution_count": 10,
   "metadata": {},
   "outputs": [
    {
     "data": {
      "text/plain": [
       "0.575184329204667"
      ]
     },
     "execution_count": 10,
     "metadata": {},
     "output_type": "execute_result"
    }
   ],
   "source": [
    "randomForest.score(x_test, y_test)"
   ]
  },
  {
   "cell_type": "code",
   "execution_count": 91,
   "metadata": {},
   "outputs": [
    {
     "data": {
      "text/plain": [
       "RandomForestRegressor(bootstrap=True, criterion='mse', max_depth=None,\n",
       "           max_features='auto', max_leaf_nodes=None,\n",
       "           min_impurity_decrease=0.0, min_impurity_split=None,\n",
       "           min_samples_leaf=1, min_samples_split=2,\n",
       "           min_weight_fraction_leaf=0.0, n_estimators=200, n_jobs=1,\n",
       "           oob_score=False,\n",
       "           random_state=<module 'numpy.random' from 'C:\\\\Users\\\\rishi\\\\Anaconda3\\\\lib\\\\site-packages\\\\numpy\\\\random\\\\__init__.py'>,\n",
       "           verbose=0, warm_start=False)"
      ]
     },
     "execution_count": 91,
     "metadata": {},
     "output_type": "execute_result"
    }
   ],
   "source": [
    "randomForest = RandomForestRegressor(n_estimators=200,random_state=np.random)\n",
    "randomForest.fit(x_train, y_train)"
   ]
  },
  {
   "cell_type": "code",
   "execution_count": 93,
   "metadata": {},
   "outputs": [
    {
     "data": {
      "text/plain": [
       "0.9449961364632545"
      ]
     },
     "execution_count": 93,
     "metadata": {},
     "output_type": "execute_result"
    }
   ],
   "source": [
    "randomForest.score(x_train, y_train)"
   ]
  },
  {
   "cell_type": "code",
   "execution_count": 92,
   "metadata": {},
   "outputs": [
    {
     "data": {
      "text/plain": [
       "0.5806276006652878"
      ]
     },
     "execution_count": 92,
     "metadata": {},
     "output_type": "execute_result"
    }
   ],
   "source": [
    "randomForest.score(x_test, y_test)"
   ]
  },
  {
   "cell_type": "code",
   "execution_count": 94,
   "metadata": {},
   "outputs": [
    {
     "data": {
      "text/plain": [
       "RandomForestRegressor(bootstrap=True, criterion='mse', max_depth=None,\n",
       "           max_features='auto', max_leaf_nodes=None,\n",
       "           min_impurity_decrease=0.0, min_impurity_split=None,\n",
       "           min_samples_leaf=1, min_samples_split=2,\n",
       "           min_weight_fraction_leaf=0.0, n_estimators=50, n_jobs=1,\n",
       "           oob_score=False,\n",
       "           random_state=<module 'numpy.random' from 'C:\\\\Users\\\\rishi\\\\Anaconda3\\\\lib\\\\site-packages\\\\numpy\\\\random\\\\__init__.py'>,\n",
       "           verbose=0, warm_start=False)"
      ]
     },
     "execution_count": 94,
     "metadata": {},
     "output_type": "execute_result"
    }
   ],
   "source": [
    "randomForest = RandomForestRegressor(n_estimators=50,random_state=np.random)\n",
    "randomForest.fit(x_train, y_train)"
   ]
  },
  {
   "cell_type": "code",
   "execution_count": 95,
   "metadata": {},
   "outputs": [
    {
     "data": {
      "text/plain": [
       "0.94163228608233"
      ]
     },
     "execution_count": 95,
     "metadata": {},
     "output_type": "execute_result"
    }
   ],
   "source": [
    "randomForest.score(x_train, y_train)"
   ]
  },
  {
   "cell_type": "code",
   "execution_count": 96,
   "metadata": {},
   "outputs": [
    {
     "data": {
      "text/plain": [
       "0.5769180958703236"
      ]
     },
     "execution_count": 96,
     "metadata": {},
     "output_type": "execute_result"
    }
   ],
   "source": [
    "randomForest.score(x_test, y_test)"
   ]
  },
  {
   "cell_type": "code",
   "execution_count": 100,
   "metadata": {},
   "outputs": [
    {
     "data": {
      "text/plain": [
       "RandomForestRegressor(bootstrap=True, criterion='mse', max_depth=None,\n",
       "           max_features='auto', max_leaf_nodes=None,\n",
       "           min_impurity_decrease=0.0, min_impurity_split=None,\n",
       "           min_samples_leaf=1, min_samples_split=2,\n",
       "           min_weight_fraction_leaf=0.0, n_estimators=2, n_jobs=1,\n",
       "           oob_score=False,\n",
       "           random_state=<module 'numpy.random' from 'C:\\\\Users\\\\rishi\\\\Anaconda3\\\\lib\\\\site-packages\\\\numpy\\\\random\\\\__init__.py'>,\n",
       "           verbose=0, warm_start=False)"
      ]
     },
     "execution_count": 100,
     "metadata": {},
     "output_type": "execute_result"
    }
   ],
   "source": [
    "randomForest = RandomForestRegressor(n_estimators=2,random_state=np.random)\n",
    "randomForest.fit(x_train, y_train)"
   ]
  },
  {
   "cell_type": "code",
   "execution_count": 101,
   "metadata": {},
   "outputs": [
    {
     "data": {
      "text/plain": [
       "0.8141025312060421"
      ]
     },
     "execution_count": 101,
     "metadata": {},
     "output_type": "execute_result"
    }
   ],
   "source": [
    "randomForest.score(x_train, y_train)"
   ]
  },
  {
   "cell_type": "code",
   "execution_count": 102,
   "metadata": {},
   "outputs": [
    {
     "data": {
      "text/plain": [
       "0.33352294985882874"
      ]
     },
     "execution_count": 102,
     "metadata": {},
     "output_type": "execute_result"
    }
   ],
   "source": [
    "randomForest.score(x_test, y_test)"
   ]
  },
  {
   "cell_type": "code",
   "execution_count": 103,
   "metadata": {},
   "outputs": [],
   "source": [
    "from sklearn.neural_network import MLPRegressor"
   ]
  },
  {
   "cell_type": "code",
   "execution_count": 105,
   "metadata": {},
   "outputs": [],
   "source": [
    "neuralNetwork = MLPRegressor(hidden_layer_sizes=(15,15,15))"
   ]
  },
  {
   "cell_type": "code",
   "execution_count": 106,
   "metadata": {},
   "outputs": [
    {
     "data": {
      "text/plain": [
       "MLPRegressor(activation='relu', alpha=0.0001, batch_size='auto', beta_1=0.9,\n",
       "       beta_2=0.999, early_stopping=False, epsilon=1e-08,\n",
       "       hidden_layer_sizes=(15, 15, 15), learning_rate='constant',\n",
       "       learning_rate_init=0.001, max_iter=200, momentum=0.9,\n",
       "       nesterovs_momentum=True, power_t=0.5, random_state=None,\n",
       "       shuffle=True, solver='adam', tol=0.0001, validation_fraction=0.1,\n",
       "       verbose=False, warm_start=False)"
      ]
     },
     "execution_count": 106,
     "metadata": {},
     "output_type": "execute_result"
    }
   ],
   "source": [
    "neuralNetwork.fit(x_train,y_train)"
   ]
  },
  {
   "cell_type": "code",
   "execution_count": 107,
   "metadata": {},
   "outputs": [
    {
     "data": {
      "text/plain": [
       "0.04402233178494386"
      ]
     },
     "execution_count": 107,
     "metadata": {},
     "output_type": "execute_result"
    }
   ],
   "source": [
    "neuralNetwork.score(x_train,y_train)"
   ]
  },
  {
   "cell_type": "code",
   "execution_count": 108,
   "metadata": {},
   "outputs": [
    {
     "data": {
      "text/plain": [
       "0.04696098483584521"
      ]
     },
     "execution_count": 108,
     "metadata": {},
     "output_type": "execute_result"
    }
   ],
   "source": [
    "neuralNetwork.score(x_test,y_test)"
   ]
  },
  {
   "cell_type": "code",
   "execution_count": 109,
   "metadata": {},
   "outputs": [],
   "source": [
    "predicted_values = pred=neuralNetwork.predict(x_test)"
   ]
  },
  {
   "cell_type": "code",
   "execution_count": 110,
   "metadata": {},
   "outputs": [
    {
     "data": {
      "text/plain": [
       "array([130.95792649, 132.82744962, 133.77049148, ..., 123.3265329 ,\n",
       "       130.49828491, 131.34677954])"
      ]
     },
     "execution_count": 110,
     "metadata": {},
     "output_type": "execute_result"
    }
   ],
   "source": [
    "predicted_values"
   ]
  }
 ],
 "metadata": {
  "kernelspec": {
   "display_name": "Python 3",
   "language": "python",
   "name": "python3"
  },
  "language_info": {
   "codemirror_mode": {
    "name": "ipython",
    "version": 3
   },
   "file_extension": ".py",
   "mimetype": "text/x-python",
   "name": "python",
   "nbconvert_exporter": "python",
   "pygments_lexer": "ipython3",
   "version": "3.7.0"
  }
 },
 "nbformat": 4,
 "nbformat_minor": 2
}
