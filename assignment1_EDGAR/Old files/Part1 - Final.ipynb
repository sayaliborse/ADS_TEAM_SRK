{
 "cells": [
  {
   "cell_type": "code",
   "execution_count": 207,
   "metadata": {},
   "outputs": [],
   "source": [
    "import pandas as pd\n",
    "import requests\n",
    "from bs4 import BeautifulSoup\n",
    "import tabulate\n",
    "import sys\n",
    "import urllib.request\n",
    "import os\n",
    "import shutil\n",
    "import logging\n",
    "\n",
    "logger= logging.getLogger()\n",
    "logger.setLevel(logging.DEBUG)\n",
    "#fh is file header\n",
    "fh = logging.FileHandler('Problem1_log.log') #output the logs to a file\n",
    "fh.setLevel(logging.DEBUG) #setting loglevel to DEBUG\n",
    "formatter = logging.Formatter('%(asctime)s - %(levelname)s - %(message)s') #format for the output\n",
    "fh.setFormatter(formatter)\n",
    "logger.addHandler(fh)\n",
    "\n",
    "#ch is console header\n",
    "ch = logging.StreamHandler(sys.stdout ) #print the logs in console as well\n",
    "ch.setLevel(logging.DEBUG) #setting loglevel to DEBUG\n",
    "formatter = logging.Formatter('%(levelname)s - %(message)s') #format for the output\n",
    "ch.setFormatter(formatter)\n",
    "logger.addHandler(ch)\n"
   ]
  },
  {
   "cell_type": "code",
   "execution_count": null,
   "metadata": {},
   "outputs": [],
   "source": []
  },
  {
   "cell_type": "code",
   "execution_count": null,
   "metadata": {},
   "outputs": [],
   "source": [
    "#allCik = pd.read_csv(\"C:\\Users\\rishi\\Desktop\\ADS_TEAM_SRK\\assignment1_EDGAR\\ALL_CIK.csv\", low_memory= False)\n",
    "# # Check for valid CIK\n",
    "# In[6]:\n",
    "#function to check if entered CIK is valid\n",
    "#def CheckandAcceptCIK(num):\n",
    "    #flag = False\n",
    "    #for i in allCik[\"CIK\"]:\n",
    "        #if (num == i):\n",
    "            #flag = True\n",
    "            \n",
    "#if(flag == False):\n",
    "        #print(\"Invalid CIK. Please run the program again\")   \n",
    "    #else:\n",
    "        #return str(num)\n",
    "        \n",
    "\n",
    "\n",
    "# # Add Leading Zeros\n",
    "\n",
    "# In[5]:\n",
    "\n",
    "\n",
    "#function to add leading zeroes \n",
    "\n",
    "\n",
    "\n",
    "def calc_cik(cik):\n",
    "\n",
    "    cik_str = str(cik)\n",
    "    length_cik = len(cik_str)\n",
    "    final_length = 10 - length_cik\n",
    "    i=0\n",
    "    while i < final_length:\n",
    "        cik_str ='0' + cik_str\n",
    "        i= i+1\n",
    "        \n",
    "    return cik_str\n",
    "\n",
    "\n",
    "# # Calculate Financial Year Part\n",
    "\n",
    "# In[5]:\n",
    "\n",
    "\n",
    "#function to calculate financial year part which is added to our link\n",
    "# # Generating the URL\n",
    "\n",
    "# In[7]:\n",
    "\n",
    "def start():\n",
    "    condition = True\n",
    "    while(condition == True):\n",
    "        cik = '1288776'\n",
    "        year= '2015'\n",
    "        docnumber ='000046'\n",
    "        logger.info(\"URL for the 10-q file for CIK = %s and Accession_no = %s is created\", cik, docnumber)\n",
    "        zero_cik = calc_cik(cik)\n",
    "        year = year[-2:]\n",
    "        website = \"https://www.sec.gov/Archives/edgar/data/\" + cik+\"/\" + zero_cik+\"\"+year[-2:]+docnumber +\"/\" + zero_cik+ \"-\" + year[-2:]+\"-\" +docnumber+\"-index.htm\"\n",
    "        try:\n",
    "            r = requests.head(website)\n",
    "            \n",
    "            # prints the int of the status code. Find more at httpstatusrappers.com :)\n",
    "        except requests.ConnectionError:\n",
    "            print(\"Sorry you got Bad Internet. Let's try this again at a later time\")\n",
    "            \n",
    "        \n",
    "        if(r.status_code == 200):\n",
    "            print(\"Website Accessed\")\n",
    "            logger.info(\"Link is generated\")\n",
    "            \n",
    "            condition = False\n",
    "        else:\n",
    "            print(\"Failed to connect basis data provide, kindly re-enter correct details\")\n",
    "            logger.info(\"Wrong input for CIK and Docnumber\")\n",
    "\n",
    "    return website"
   ]
  },
  {
   "cell_type": "code",
   "execution_count": 182,
   "metadata": {},
   "outputs": [],
   "source": [
    "def scrape(website):\n",
    "    res = requests.get(website)\n",
    "    soup = BeautifulSoup(res.content,'lxml')\n",
    "    #tables = soup.find('table')\n",
    "    tbl = soup.findAll('table')\n",
    "    print(len(tbl))\n",
    "\n",
    "    for table in tbl:\n",
    "        for tr in table.findAll('tr'):\n",
    "            for td in tr.findAll('td')[2:4]:\n",
    "                filing_type = td.string\n",
    "                if filing_type=='10-Q':\n",
    "                    gen_links = [a['href'] for a in tr.findAll('a')]\n",
    "                    print('generated-link is:   ',gen_links)\n",
    "                    for links in gen_links:\n",
    "                        web_link = 'https://www.sec.gov' + links\n",
    "                        print('web-link is:   ',web_link)\n",
    "                        logger.info(\"10 Link generated\")\n",
    "                        \n",
    "    tablelist = []\n",
    "\n",
    "    soup = BeautifulSoup((urllib.request.urlopen(web_link)),\"html.parser\")\n",
    "    tables = soup.find_all('table')\n",
    "    for table in tables: \n",
    "        for tr in table.find_all('tr'):\n",
    "            i = 0\n",
    "            for td in tr.findChildren('td'):\n",
    "                if (\"background\" in str(td.get('style'))):\n",
    "                    tablelist.append(table)\n",
    "                    i = 1\n",
    "                    break\n",
    "            if(i == 1):\n",
    "                break\n",
    "    return tablelist            "
   ]
  },
  {
   "cell_type": "code",
   "execution_count": 208,
   "metadata": {},
   "outputs": [],
   "source": [
    "def generate_csv(tablelist):\n",
    "    destination = r'C:\\Users\\rishi\\Desktop\\ADS_TEAM_SRK\\assignment1_EDGAR\\all_csv'\n",
    "    print('length of table in generate_csv is:',len(tablelist))\n",
    "    i = 1\n",
    "    for new_tab in tablelist:\n",
    "        df = pd.read_html(str(new_tab))\n",
    "        file_name = 'my_data'+str(i)+ '.csv'\n",
    "        df[0].to_csv(os.path.join(destination,file_name))\n",
    "        i = i + 1\n",
    "    print('CSV Generated and Zip created')\n",
    "    shutil.make_archive('C:\\\\Users\\\\rishi\\\\Desktop\\\\ADS_TEAM_SRK\\\\assignment1_EDGAR\\\\all_csv', 'zip', 'C:\\\\Users\\\\rishi\\\\Desktop\\\\ADS_TEAM_SRK\\\\assignment1_EDGAR\\\\all_csv')\n",
    "    logger.info(\"CSV has been made and Zipped\")\n",
    "    return\n"
   ]
  },
  {
   "cell_type": "code",
   "execution_count": 209,
   "metadata": {},
   "outputs": [
    {
     "name": "stdout",
     "output_type": "stream",
     "text": [
      "length of table in generate_csv is: 105\n",
      "CSV Generated and Zip created\n"
     ]
    }
   ],
   "source": [
    "generate_csv(tablelist)"
   ]
  },
  {
   "cell_type": "code",
   "execution_count": null,
   "metadata": {},
   "outputs": [],
   "source": [
    "x = 'all_csv'\n",
    "if not os.path.exists(x):\n",
    "    os.makedirs(x)\n",
    "logger.info(\"CSV has been made and Zipped\")"
   ]
  },
  {
   "cell_type": "code",
   "execution_count": null,
   "metadata": {},
   "outputs": [],
   "source": []
  },
  {
   "cell_type": "code",
   "execution_count": 203,
   "metadata": {},
   "outputs": [],
   "source": []
  },
  {
   "cell_type": "code",
   "execution_count": 204,
   "metadata": {},
   "outputs": [
    {
     "name": "stdout",
     "output_type": "stream",
     "text": [
      "length of table in generate_csv is: 105\n",
      "outside generate_csv\n"
     ]
    }
   ],
   "source": [
    "generate_csv(tablelist)"
   ]
  },
  {
   "cell_type": "code",
   "execution_count": null,
   "metadata": {},
   "outputs": [],
   "source": [
    "\n"
   ]
  },
  {
   "cell_type": "code",
   "execution_count": null,
   "metadata": {},
   "outputs": [],
   "source": []
  },
  {
   "cell_type": "code",
   "execution_count": null,
   "metadata": {},
   "outputs": [],
   "source": []
  },
  {
   "cell_type": "code",
   "execution_count": null,
   "metadata": {},
   "outputs": [],
   "source": []
  },
  {
   "cell_type": "code",
   "execution_count": null,
   "metadata": {},
   "outputs": [],
   "source": []
  },
  {
   "cell_type": "code",
   "execution_count": null,
   "metadata": {},
   "outputs": [],
   "source": []
  },
  {
   "cell_type": "code",
   "execution_count": null,
   "metadata": {},
   "outputs": [],
   "source": []
  },
  {
   "cell_type": "code",
   "execution_count": null,
   "metadata": {},
   "outputs": [],
   "source": []
  },
  {
   "cell_type": "code",
   "execution_count": 190,
   "metadata": {},
   "outputs": [],
   "source": []
  },
  {
   "cell_type": "code",
   "execution_count": null,
   "metadata": {},
   "outputs": [],
   "source": []
  },
  {
   "cell_type": "code",
   "execution_count": null,
   "metadata": {},
   "outputs": [],
   "source": []
  },
  {
   "cell_type": "code",
   "execution_count": null,
   "metadata": {},
   "outputs": [],
   "source": []
  },
  {
   "cell_type": "code",
   "execution_count": 191,
   "metadata": {},
   "outputs": [
    {
     "name": "stdout",
     "output_type": "stream",
     "text": [
      "length of table in generate_csv is: 105\n",
      "outside generate_csv\n"
     ]
    }
   ],
   "source": [
    "generate_csv(tablelist)"
   ]
  }
 ],
 "metadata": {
  "kernelspec": {
   "display_name": "Python 3",
   "language": "python",
   "name": "python3"
  },
  "language_info": {
   "codemirror_mode": {
    "name": "ipython",
    "version": 3
   },
   "file_extension": ".py",
   "mimetype": "text/x-python",
   "name": "python",
   "nbconvert_exporter": "python",
   "pygments_lexer": "ipython3",
   "version": "3.6.4"
  }
 },
 "nbformat": 4,
 "nbformat_minor": 2
}
