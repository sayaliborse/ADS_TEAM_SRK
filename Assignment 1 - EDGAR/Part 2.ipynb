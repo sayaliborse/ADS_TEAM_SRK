{
 "cells": [
  {
   "cell_type": "code",
   "execution_count": 1,
   "metadata": {},
   "outputs": [],
   "source": [
    "#function to get financial year for Log file\n",
    "def calc_logyear():\n",
    "    year = int(input(\"Enter a year between 2003 and 2017 \"))\n",
    "    import datetime\n",
    "    now = datetime.datetime.now()\n",
    "    if (year < 2003 or year> 2017):\n",
    "        print('Please enter year basis the said requirment')\n",
    "        return calc_logyear()\n",
    "    else:\n",
    "        year_str = str(year)\n",
    "        return year_str[-2:]"
   ]
  },
  {
   "cell_type": "code",
   "execution_count": 2,
   "metadata": {},
   "outputs": [],
   "source": [
    "loglinklist = []\n",
    "def calculateLogLinks(year):\n",
    "    m=''\n",
    "    i=1\n",
    "    j=1\n",
    "    while(i<=4):\n",
    "        while (j <= 4*i):\n",
    "            m=str(j)\n",
    "            if (j<= 9):\n",
    "                m = '0' + str(j)\n",
    "                \n",
    "            linkd = \"http://www.sec.gov/dera/data/Public-EDGAR-log-file-data/\"+str(year)+\"/Qtr\"+str(i)+\"/log\" + str(year)+\"01\"+m+\".zip\"\n",
    "            loglinklist.append(linkd)\n",
    "            j = j+1\n",
    "        i = i + 1"
   ]
  },
  {
   "cell_type": "code",
   "execution_count": 4,
   "metadata": {},
   "outputs": [
    {
     "name": "stdout",
     "output_type": "stream",
     "text": [
      "Enter a year between 2003 and 2017 2016\n"
     ]
    }
   ],
   "source": [
    "year = calc_logyear()"
   ]
  },
  {
   "cell_type": "code",
   "execution_count": 5,
   "metadata": {},
   "outputs": [],
   "source": [
    "loglinklist = []\n",
    "calculateLogLinks(year)"
   ]
  },
  {
   "cell_type": "code",
   "execution_count": 6,
   "metadata": {},
   "outputs": [
    {
     "data": {
      "text/plain": [
       "['http://www.sec.gov/dera/data/Public-EDGAR-log-file-data/16/Qtr1/log160101.zip',\n",
       " 'http://www.sec.gov/dera/data/Public-EDGAR-log-file-data/16/Qtr1/log160102.zip',\n",
       " 'http://www.sec.gov/dera/data/Public-EDGAR-log-file-data/16/Qtr1/log160103.zip',\n",
       " 'http://www.sec.gov/dera/data/Public-EDGAR-log-file-data/16/Qtr1/log160104.zip',\n",
       " 'http://www.sec.gov/dera/data/Public-EDGAR-log-file-data/16/Qtr2/log160105.zip',\n",
       " 'http://www.sec.gov/dera/data/Public-EDGAR-log-file-data/16/Qtr2/log160106.zip',\n",
       " 'http://www.sec.gov/dera/data/Public-EDGAR-log-file-data/16/Qtr2/log160107.zip',\n",
       " 'http://www.sec.gov/dera/data/Public-EDGAR-log-file-data/16/Qtr2/log160108.zip',\n",
       " 'http://www.sec.gov/dera/data/Public-EDGAR-log-file-data/16/Qtr3/log160109.zip',\n",
       " 'http://www.sec.gov/dera/data/Public-EDGAR-log-file-data/16/Qtr3/log160110.zip',\n",
       " 'http://www.sec.gov/dera/data/Public-EDGAR-log-file-data/16/Qtr3/log160111.zip',\n",
       " 'http://www.sec.gov/dera/data/Public-EDGAR-log-file-data/16/Qtr3/log160112.zip',\n",
       " 'http://www.sec.gov/dera/data/Public-EDGAR-log-file-data/16/Qtr4/log160113.zip',\n",
       " 'http://www.sec.gov/dera/data/Public-EDGAR-log-file-data/16/Qtr4/log160114.zip',\n",
       " 'http://www.sec.gov/dera/data/Public-EDGAR-log-file-data/16/Qtr4/log160115.zip',\n",
       " 'http://www.sec.gov/dera/data/Public-EDGAR-log-file-data/16/Qtr4/log160116.zip']"
      ]
     },
     "execution_count": 6,
     "metadata": {},
     "output_type": "execute_result"
    }
   ],
   "source": [
    "loglinklist"
   ]
  },
  {
   "cell_type": "code",
   "execution_count": null,
   "metadata": {},
   "outputs": [],
   "source": []
  },
  {
   "cell_type": "code",
   "execution_count": null,
   "metadata": {},
   "outputs": [],
   "source": []
  }
 ],
 "metadata": {
  "kernelspec": {
   "display_name": "Python 3",
   "language": "python",
   "name": "python3"
  },
  "language_info": {
   "codemirror_mode": {
    "name": "ipython",
    "version": 3
   },
   "file_extension": ".py",
   "mimetype": "text/x-python",
   "name": "python",
   "nbconvert_exporter": "python",
   "pygments_lexer": "ipython3",
   "version": "3.6.4"
  }
 },
 "nbformat": 4,
 "nbformat_minor": 2
}
