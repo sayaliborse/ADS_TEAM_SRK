{
 "cells": [
  {
   "cell_type": "code",
   "execution_count": 50,
   "metadata": {},
   "outputs": [],
   "source": [
    "import pandas as pd\n",
    "import requests\n",
    "from bs4 import BeautifulSoup\n",
    "import urllib.request\n",
    "import urllib\n",
    "import tabulate\n",
    "import os\n",
    "import zipfile\n",
    "import sys"
   ]
  },
  {
   "cell_type": "code",
   "execution_count": 51,
   "metadata": {},
   "outputs": [],
   "source": [
    "#function to get financial year for Log file\n",
    "def calc_logyear():\n",
    "    year = int(input(\"Enter a year between 2003 and 2017: \"))\n",
    "    import datetime\n",
    "    now = datetime.datetime.now()\n",
    "    if (year < 2003 or year> 2017):\n",
    "        print('Please enter year basis the said requirment')\n",
    "        return calc_logyear()\n",
    "    else:\n",
    "        return str(year)\n",
    "       "
   ]
  },
  {
   "cell_type": "code",
   "execution_count": 52,
   "metadata": {},
   "outputs": [],
   "source": [
    "loglinklist = []\n",
    "def calculateLogLinks(year):\n",
    "    m=''\n",
    "    i=1\n",
    "    j=1\n",
    "    while(i<=4):\n",
    "        while (j <= 3*i):\n",
    "            m=str(j)\n",
    "            if (j<= 9):\n",
    "                m = '0' + str(j)\n",
    "                \n",
    "            linkd = \"http://www.sec.gov/dera/data/Public-EDGAR-log-file-data/\"+str(year)+\"/Qtr\"+str(i)+\"/log\" + str(year)+m+\"01\"+\".zip\"\n",
    "            loglinklist.append(linkd)\n",
    "            j = j+1\n",
    "        i = i + 1"
   ]
  },
  {
   "cell_type": "code",
   "execution_count": 53,
   "metadata": {},
   "outputs": [
    {
     "name": "stdout",
     "output_type": "stream",
     "text": [
      "Enter a year between 2003 and 2017: 2016\n"
     ]
    },
    {
     "data": {
      "text/plain": [
       "['http://www.sec.gov/dera/data/Public-EDGAR-log-file-data/2016/Qtr1/log20160101.zip',\n",
       " 'http://www.sec.gov/dera/data/Public-EDGAR-log-file-data/2016/Qtr1/log20160201.zip',\n",
       " 'http://www.sec.gov/dera/data/Public-EDGAR-log-file-data/2016/Qtr1/log20160301.zip',\n",
       " 'http://www.sec.gov/dera/data/Public-EDGAR-log-file-data/2016/Qtr2/log20160401.zip',\n",
       " 'http://www.sec.gov/dera/data/Public-EDGAR-log-file-data/2016/Qtr2/log20160501.zip',\n",
       " 'http://www.sec.gov/dera/data/Public-EDGAR-log-file-data/2016/Qtr2/log20160601.zip',\n",
       " 'http://www.sec.gov/dera/data/Public-EDGAR-log-file-data/2016/Qtr3/log20160701.zip',\n",
       " 'http://www.sec.gov/dera/data/Public-EDGAR-log-file-data/2016/Qtr3/log20160801.zip',\n",
       " 'http://www.sec.gov/dera/data/Public-EDGAR-log-file-data/2016/Qtr3/log20160901.zip',\n",
       " 'http://www.sec.gov/dera/data/Public-EDGAR-log-file-data/2016/Qtr4/log20161001.zip',\n",
       " 'http://www.sec.gov/dera/data/Public-EDGAR-log-file-data/2016/Qtr4/log20161101.zip',\n",
       " 'http://www.sec.gov/dera/data/Public-EDGAR-log-file-data/2016/Qtr4/log20161201.zip']"
      ]
     },
     "execution_count": 53,
     "metadata": {},
     "output_type": "execute_result"
    }
   ],
   "source": [
    "year = calc_logyear()\n",
    "loglinklist = []\n",
    "calculateLogLinks(year)\n",
    "loglinklist"
   ]
  },
  {
   "cell_type": "code",
   "execution_count": 57,
   "metadata": {},
   "outputs": [
    {
     "ename": "TypeError",
     "evalue": "extract() missing 1 required positional argument: 'member'",
     "output_type": "error",
     "traceback": [
      "\u001b[1;31m---------------------------------------------------------------------------\u001b[0m",
      "\u001b[1;31mTypeError\u001b[0m                                 Traceback (most recent call last)",
      "\u001b[1;32m<ipython-input-57-89a294e7b679>\u001b[0m in \u001b[0;36m<module>\u001b[1;34m()\u001b[0m\n\u001b[0;32m     34\u001b[0m \u001b[1;32mfor\u001b[0m \u001b[0mitem\u001b[0m \u001b[1;32min\u001b[0m \u001b[0mos\u001b[0m\u001b[1;33m.\u001b[0m\u001b[0mlistdir\u001b[0m\u001b[1;33m(\u001b[0m\u001b[0mdestinationPath\u001b[0m\u001b[1;33m)\u001b[0m\u001b[1;33m:\u001b[0m\u001b[1;33m\u001b[0m\u001b[0m\n\u001b[0;32m     35\u001b[0m     \u001b[1;32mif\u001b[0m \u001b[0mitem\u001b[0m\u001b[1;33m.\u001b[0m\u001b[0mendswith\u001b[0m\u001b[1;33m(\u001b[0m\u001b[0mextension\u001b[0m\u001b[1;33m)\u001b[0m\u001b[1;33m:\u001b[0m\u001b[1;33m\u001b[0m\u001b[0m\n\u001b[1;32m---> 36\u001b[1;33m         \u001b[0mzipfile\u001b[0m\u001b[1;33m.\u001b[0m\u001b[0mZipFile\u001b[0m\u001b[1;33m.\u001b[0m\u001b[0mextract\u001b[0m\u001b[1;33m(\u001b[0m\u001b[0mitem\u001b[0m\u001b[1;33m)\u001b[0m\u001b[1;33m\u001b[0m\u001b[0m\n\u001b[0m",
      "\u001b[1;31mTypeError\u001b[0m: extract() missing 1 required positional argument: 'member'"
     ]
    }
   ],
   "source": [
    "\n",
    "destinationPath = \"C:/Users/Komal/Desktop/\"\n",
    "extracted_destinationPath = destinationPath + 'extracted_files'\n",
    "\n",
    "i=1\n",
    "for url in loglinklist:\n",
    "    try:\n",
    "        filePath = destinationPath + year + '_' + str(i) + '.zip'\n",
    "        urllib.request.urlretrieve(url,filePath)\n",
    "    except ValueError:\n",
    "        continue\n",
    "    sourceZip = zipfile.ZipFile(filePath, 'r')\n",
    "    for name in sourceZip.namelist():\n",
    "        sourceZip.extract(name, extracted_destinationPath)\n",
    "    sourceZip.close()\n",
    "    i = i + 1\n",
    "\n",
    "\n",
    "df=pd.DataFrame()\n",
    "for file_ in os.listdir(extracted_destinationPath):\n",
    "    temp=pd.read_csv(extracted_destinationPath+'/'+file_,header=None,skiprows=1,low_memory=False)\n",
    "    df=pd.concat([df,temp],ignore_index=True)\n",
    "\n",
    "df.columns=[new_column_names]\n",
    "df.to_csv('single_file.csv',index=False)"
   ]
  },
  {
   "cell_type": "code",
   "execution_count": null,
   "metadata": {},
   "outputs": [],
   "source": []
  }
 ],
 "metadata": {
  "kernelspec": {
   "display_name": "Python 3",
   "language": "python",
   "name": "python3"
  },
  "language_info": {
   "codemirror_mode": {
    "name": "ipython",
    "version": 3
   },
   "file_extension": ".py",
   "mimetype": "text/x-python",
   "name": "python",
   "nbconvert_exporter": "python",
   "pygments_lexer": "ipython3",
   "version": "3.6.5"
  }
 },
 "nbformat": 4,
 "nbformat_minor": 2
}
