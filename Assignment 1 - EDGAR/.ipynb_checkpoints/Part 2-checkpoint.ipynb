{
 "cells": [
  {
   "cell_type": "code",
   "execution_count": null,
   "metadata": {},
   "outputs": [],
   "source": [
    "#function to get financial year for Log file\n",
    "def calc_logyear():\n",
    "    year = int(input(\"Enter a year between 2003 and 2017: \"))\n",
    "    import datetime\n",
    "    now = datetime.datetime.now()\n",
    "    if (year < 2003 or year> 2017):\n",
    "        print('Please enter year basis the said requirment')\n",
    "        return calc_logyear()\n",
    "    else:\n",
    "        return str(year)\n",
    "       "
   ]
  },
  {
   "cell_type": "code",
   "execution_count": null,
   "metadata": {},
   "outputs": [],
   "source": []
  },
  {
   "cell_type": "code",
   "execution_count": 9,
   "metadata": {},
   "outputs": [],
   "source": [
    "loglinklist = []\n",
    "def calculateLogLinks(year):\n",
    "    m=''\n",
    "    i=1\n",
    "    j=1\n",
    "    while(i<=4):\n",
    "        while (j <= 4*i):\n",
    "            m=str(j)\n",
    "            if (j<= 9):\n",
    "                m = '0' + str(j)\n",
    "                \n",
    "            linkd = \"http://www.sec.gov/dera/data/Public-EDGAR-log-file-data/\"+str(year)+\"/Qtr\"+str(i)+\"/log\" + str(year)+\"01\"+m+\".zip\"\n",
    "            loglinklist.append(linkd)\n",
    "            j = j+1\n",
    "        i = i + 1"
   ]
  },
  {
   "cell_type": "code",
   "execution_count": null,
   "metadata": {},
   "outputs": [],
   "source": [
    "year = calc_logyear()"
   ]
  },
  {
   "cell_type": "code",
   "execution_count": null,
   "metadata": {},
   "outputs": [],
   "source": []
  },
  {
   "cell_type": "code",
   "execution_count": null,
   "metadata": {},
   "outputs": [],
   "source": []
  },
  {
   "cell_type": "code",
   "execution_count": 12,
   "metadata": {},
   "outputs": [],
   "source": [
    "loglinklist = []\n",
    "calculateLogLinks(year)"
   ]
  },
  {
   "cell_type": "code",
   "execution_count": 13,
   "metadata": {},
   "outputs": [
    {
     "data": {
      "text/plain": [
       "['http://www.sec.gov/dera/data/Public-EDGAR-log-file-data/2017/Qtr1/log20170101.zip',\n",
       " 'http://www.sec.gov/dera/data/Public-EDGAR-log-file-data/2017/Qtr1/log20170102.zip',\n",
       " 'http://www.sec.gov/dera/data/Public-EDGAR-log-file-data/2017/Qtr1/log20170103.zip',\n",
       " 'http://www.sec.gov/dera/data/Public-EDGAR-log-file-data/2017/Qtr1/log20170104.zip',\n",
       " 'http://www.sec.gov/dera/data/Public-EDGAR-log-file-data/2017/Qtr2/log20170105.zip',\n",
       " 'http://www.sec.gov/dera/data/Public-EDGAR-log-file-data/2017/Qtr2/log20170106.zip',\n",
       " 'http://www.sec.gov/dera/data/Public-EDGAR-log-file-data/2017/Qtr2/log20170107.zip',\n",
       " 'http://www.sec.gov/dera/data/Public-EDGAR-log-file-data/2017/Qtr2/log20170108.zip',\n",
       " 'http://www.sec.gov/dera/data/Public-EDGAR-log-file-data/2017/Qtr3/log20170109.zip',\n",
       " 'http://www.sec.gov/dera/data/Public-EDGAR-log-file-data/2017/Qtr3/log20170110.zip',\n",
       " 'http://www.sec.gov/dera/data/Public-EDGAR-log-file-data/2017/Qtr3/log20170111.zip',\n",
       " 'http://www.sec.gov/dera/data/Public-EDGAR-log-file-data/2017/Qtr3/log20170112.zip',\n",
       " 'http://www.sec.gov/dera/data/Public-EDGAR-log-file-data/2017/Qtr4/log20170113.zip',\n",
       " 'http://www.sec.gov/dera/data/Public-EDGAR-log-file-data/2017/Qtr4/log20170114.zip',\n",
       " 'http://www.sec.gov/dera/data/Public-EDGAR-log-file-data/2017/Qtr4/log20170115.zip',\n",
       " 'http://www.sec.gov/dera/data/Public-EDGAR-log-file-data/2017/Qtr4/log20170116.zip']"
      ]
     },
     "execution_count": 13,
     "metadata": {},
     "output_type": "execute_result"
    }
   ],
   "source": [
    "loglinklist"
   ]
  }
 ],
 "metadata": {
  "kernelspec": {
   "display_name": "Python 3",
   "language": "python",
   "name": "python3"
  },
  "language_info": {
   "codemirror_mode": {
    "name": "ipython",
    "version": 3
   },
   "file_extension": ".py",
   "mimetype": "text/x-python",
   "name": "python",
   "nbconvert_exporter": "python",
   "pygments_lexer": "ipython3",
   "version": "3.6.4"
  }
 },
 "nbformat": 4,
 "nbformat_minor": 2
}
