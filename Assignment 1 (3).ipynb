{
 "cells": [
  {
   "cell_type": "markdown",
   "metadata": {},
   "source": [
    "# Import libraries"
   ]
  },
  {
   "cell_type": "code",
   "execution_count": 1,
   "metadata": {},
   "outputs": [],
   "source": [
    "import pandas as pd\n",
    "import requests\n",
    "from bs4 import BeautifulSoup\n",
    "import tabulate\n",
    "import sys"
   ]
  },
  {
   "cell_type": "markdown",
   "metadata": {},
   "source": [
    "# Importing CSV Data"
   ]
  },
  {
   "cell_type": "code",
   "execution_count": 2,
   "metadata": {},
   "outputs": [],
   "source": [
    "allCik = pd.read_csv(\"ALL_CIK.csv\", low_memory= False)"
   ]
  },
  {
   "cell_type": "markdown",
   "metadata": {},
   "source": [
    "# Check for valid CIK"
   ]
  },
  {
   "cell_type": "code",
   "execution_count": 3,
   "metadata": {},
   "outputs": [],
   "source": [
    "#function to check if entered CIK is valid\n",
    "\n",
    "def CheckandAcceptCIK():\n",
    "    flag = False\n",
    "    num= float(input(\"Please enter your CIK number: \"))\n",
    "    \n",
    "    for i in allCik[\"CIK\"]:\n",
    "        if (num == i):\n",
    "            flag = True \n",
    "            \n",
    "    if(flag == False):\n",
    "        print(\"CIK is wrong\")\n",
    "        CheckandAcceptCIK()\n",
    "    else:\n",
    "        result_string = str(num)\n",
    "        return result_string[0: (len(result_string) -2 )]"
   ]
  },
  {
   "cell_type": "markdown",
   "metadata": {},
   "source": [
    "# Add Leading Zeros"
   ]
  },
  {
   "cell_type": "code",
   "execution_count": 4,
   "metadata": {},
   "outputs": [],
   "source": [
    "#function to add leading zeroes \n",
    "length_cik = 0;\n",
    "cik = '';\n",
    "def calc_cik(cik):\n",
    "    length_cik = len(cik)\n",
    "    final_length = 10 - length_cik\n",
    "    i=0\n",
    "    while i < final_length:\n",
    "        cik ='0' + cik\n",
    "        i= i+1\n",
    "        \n",
    "    return cik\n"
   ]
  },
  {
   "cell_type": "markdown",
   "metadata": {},
   "source": [
    "# Calculate Financial Year Part"
   ]
  },
  {
   "cell_type": "code",
   "execution_count": 7,
   "metadata": {},
   "outputs": [],
   "source": [
    "#function to calculate financial year part which is added to our link\n",
    "def calc_year():\n",
    "    year = int(input(\"Enter the Financial year in 20XX format (current or lesser): \"))\n",
    "    import datetime\n",
    "    now = datetime.datetime.now()\n",
    "    if (year < 1990 or year> now.year):\n",
    "        print('Please Enter your year as mentioned earlier')\n",
    "        calc_year()\n",
    "    else:\n",
    "        year_str = str(year)\n",
    "        return year_str[-2:]"
   ]
  },
  {
   "cell_type": "markdown",
   "metadata": {},
   "source": [
    "# Generating the URL"
   ]
  },
  {
   "cell_type": "code",
   "execution_count": 6,
   "metadata": {},
   "outputs": [
    {
     "name": "stdout",
     "output_type": "stream",
     "text": [
      "Please enter your CIK number: 51143\n",
      "Enter the Financial year in 20XX format (current or lesser): 2013\n"
     ]
    },
    {
     "data": {
      "text/plain": [
       "'https://www.sec.gov/Archives/edgar/data/51143/0000051143/0000051143-13-000007-index.htm'"
      ]
     },
     "execution_count": 6,
     "metadata": {},
     "output_type": "execute_result"
    }
   ],
   "source": [
    "cik = CheckandAcceptCIK()\n",
    "zero_cik = calc_cik(cik)\n",
    "year = calc_year()\n",
    "website = \"https://www.sec.gov/Archives/edgar/data/\" + cik+\"/\" + zero_cik +\"/\" + zero_cik+ \"-\" + year +\"-000007-index.htm\"\n",
    "website"
   ]
  },
  {
   "cell_type": "markdown",
   "metadata": {},
   "source": [
    "# WebScrapping Tables from Generated URL "
   ]
  },
  {
   "cell_type": "code",
   "execution_count": 8,
   "metadata": {},
   "outputs": [],
   "source": [
    "res = requests.get(website)\n",
    "soup = BeautifulSoup(res.content,'lxml')\n",
    "#tables = soup.find('table')\n",
    "tbl = soup.findAll('table')\n"
   ]
  },
  {
   "cell_type": "code",
   "execution_count": 9,
   "metadata": {},
   "outputs": [
    {
     "name": "stdout",
     "output_type": "stream",
     "text": [
      "2\n"
     ]
    }
   ],
   "source": [
    "print(len(tbl))"
   ]
  },
  {
   "cell_type": "code",
   "execution_count": 11,
   "metadata": {},
   "outputs": [
    {
     "name": "stdout",
     "output_type": "stream",
     "text": [
      "generated-link is:    ['/Archives/edgar/data/51143/000005114313000007/ibm13q3_10q.htm']\n",
      "web-link is:    https://www.sec.gov/Archives/edgar/data/51143/000005114313000007/ibm13q3_10q.htm\n",
      "length of table is: 106\n"
     ]
    }
   ],
   "source": [
    "for table in tbl:\n",
    "    for tr in table.findAll('tr'):\n",
    "        for td in tr.findAll('td')[:2]:\n",
    "            filing_type = td.string\n",
    "            if filing_type=='10-Q':\n",
    "                gen_links = [a['href'] for a in tr.findAll('a')]\n",
    "                print('generated-link is:   ',gen_links)\n",
    "                for links in gen_links:\n",
    "                    web_link = 'https://www.sec.gov' + links\n",
    "                    print('web-link is:   ',web_link)\n",
    "                    res_new = requests.get(web_link)\n",
    "                    soup_new = BeautifulSoup(res_new.content,'lxml')\n",
    "                    tables_new = soup_new.find_all('table', attrs={'border':\"1\", 'cellpadding':\"0\", 'cellspacing':\"0\", 'style':\"border:none;border-collapse:collapse;width:100%;\"})\n",
    "                    i = 1\n",
    "                    print('length of table is:',len(tables_new))\n",
    "                    for new_tab in tables_new:\n",
    "                        df = pd.read_html(str(new_tab))\n",
    "                        df[0].to_csv('my_data'+ str(i) + '.csv')\n",
    "                        i = i + 1"
   ]
  },
  {
   "cell_type": "code",
   "execution_count": null,
   "metadata": {},
   "outputs": [],
   "source": [
    "\n",
    "\n",
    "                "
   ]
  },
  {
   "cell_type": "code",
   "execution_count": null,
   "metadata": {},
   "outputs": [],
   "source": []
  },
  {
   "cell_type": "code",
   "execution_count": null,
   "metadata": {},
   "outputs": [],
   "source": []
  },
  {
   "cell_type": "code",
   "execution_count": null,
   "metadata": {},
   "outputs": [],
   "source": []
  }
 ],
 "metadata": {
  "kernelspec": {
   "display_name": "Python 3",
   "language": "python",
   "name": "python3"
  },
  "language_info": {
   "codemirror_mode": {
    "name": "ipython",
    "version": 3
   },
   "file_extension": ".py",
   "mimetype": "text/x-python",
   "name": "python",
   "nbconvert_exporter": "python",
   "pygments_lexer": "ipython3",
   "version": "3.7.0"
  }
 },
 "nbformat": 4,
 "nbformat_minor": 2
}
